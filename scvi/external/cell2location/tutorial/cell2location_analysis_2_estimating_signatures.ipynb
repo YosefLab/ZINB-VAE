{
 "cells": [
  {
   "cell_type": "markdown",
   "metadata": {},
   "source": [
    "# Mapping human lymph node cell types to 10X Visium - estimating reference expression signatures\n",
    "\n",
    "[![Open In Colab](https://colab.research.google.com/assets/colab-badge.svg)](https://colab.research.google.com/github/vitkl/cell2location-sandbox/blob/master/notebooks/scvi_real_data/cell2location_analysis_3_scvi_ln.ipynb)\n",
    "\n",
    "Cell2location maps cell types by integrating single cell/nucleus and spatial transcriptomics data. This is achieved by estimating which combination of cell types in which cell abundance could have given the mRNA counts in the spatial data, taking technical effects into account (platform/technology effect, contaminating RNA, unexplained variance).\n",
    "\n",
    "Given cell type annotation for each cell, the corresponding reference cell type signatures $g_{f,g}$, which represent the average mRNA count of each gene $g$ in each cell type $f={1, .., F}$, can be estimated from sc/snRNA-seq data using 2 provided methods (see below). Cell2location needs untransformed unnormalised spatial mRNA counts as input. You also need to provide cell2location with the expected average cell abundance per location which is used as a prior to guide estimation of absolute cell abundance. This value depends on the tissue and can be estimated by counting nuclei for a few locations in the paired histology image but can be approximate (see paper methods for more guidance).\n",
    "\n",
    "We provide 2 methods for estimating reference expression signatures of cell types from scRNA-seq data:\n",
    "\n",
    "1) a statistical method based on Negative Binomial regression. We generally recommend using NB regression, which allows to robustly combine data across technologies and batches, which results in improved spatial mapping accuracy. This notebook shows use a dataset composed on multiple batches and technologies to estimate that. \n",
    "\n",
    "2) hard-coded computation of per-cluster average mRNA counts for individual genes (`scvi.external.cell2location.compute_cluster_averages`). When the batch effects are small, this faster hard-coded method of computing per cluster averages provides similarly high accuracy. We also recommend the hard-coded method for non-UMI technologies such as Smart-Seq 2.\n",
    "\n",
    "\n",
    "### Contents:\n",
    "* [Loading packages](#Loading_packages)\n",
    "* [Loading Visium data](#Loading_Visium)\n",
    "* [Load refence cell type expression signatures](#Loading_signatures)\n",
    "* [Run scvi-cell2location](#cell2location)\n",
    "* [Leiden clustering of cell abundance](#region_clustering)\n",
    "\n",
    "\n"
   ]
  },
  {
   "cell_type": "markdown",
   "metadata": {},
   "source": [
    "### Loading packages <a class=\"anchor\" id=\"Loading_packages\"></a>"
   ]
  },
  {
   "cell_type": "code",
   "execution_count": 1,
   "metadata": {},
   "outputs": [],
   "source": [
    "import sys\n",
    "\n",
    "#if branch is stable, will install via pypi, else will install from source\n",
    "branch = \"pyro-cell2location\"\n",
    "user = \"vitkl\"\n",
    "IN_COLAB = \"google.colab\" in sys.modules\n",
    "\n",
    "if IN_COLAB and branch == \"stable\":\n",
    "    !pip install --quiet scvi-tools[tutorials]\n",
    "elif IN_COLAB and branch != \"stable\":\n",
    "    !pip install --quiet --upgrade jsonschema\n",
    "    !pip install --quiet git+https://github.com/$user/scvi-tools@$branch#egg=scvi-tools[tutorials]"
   ]
  },
  {
   "cell_type": "code",
   "execution_count": 2,
   "metadata": {},
   "outputs": [],
   "source": [
    "import sys\n",
    "if not IN_COLAB:\n",
    "    sys.path.insert(1, '/nfs/team205/vk7/sanger_projects/BayraktarLab/scvi-tools/')\n",
    "\n",
    "import scanpy as sc\n",
    "import anndata\n",
    "import pandas as pd\n",
    "import numpy as np\n",
    "import matplotlib.pyplot as plt \n",
    "import matplotlib as mpl\n",
    "\n",
    "#import cell2location\n",
    "import scvi\n",
    "\n",
    "from matplotlib import rcParams\n",
    "rcParams['pdf.fonttype'] = 42 # enables correct plotting of text\n",
    "import seaborn as sns"
   ]
  },
  {
   "cell_type": "markdown",
   "metadata": {},
   "source": [
    "## Loading Visium data <a class=\"anchor\" id=\"Loading_Visium\"></a>"
   ]
  },
  {
   "cell_type": "markdown",
   "metadata": {},
   "source": [
    "First let's read spatial Visium data from 10X Space Ranger output."
   ]
  },
  {
   "cell_type": "code",
   "execution_count": 3,
   "metadata": {},
   "outputs": [
    {
     "name": "stderr",
     "output_type": "stream",
     "text": [
      "Variable names are not unique. To make them unique, call `.var_names_make_unique`.\n",
      "Variable names are not unique. To make them unique, call `.var_names_make_unique`.\n"
     ]
    }
   ],
   "source": [
    "results_folder = './results/lymph_nodes_analysis/'\n",
    "scvi_run_name = f'{results_folder}/amortised/signatures_v1'\n",
    "\n",
    "adata_vis = sc.datasets.visium_sge(sample_id=\"V1_Human_Lymph_Node\")\n",
    "adata_vis.obs['sample'] = list(adata_vis.uns['spatial'].keys())[0]"
   ]
  },
  {
   "cell_type": "markdown",
   "metadata": {},
   "source": [
    "### Load reference cell type expression signatures <a class=\"anchor\" id=\"Loading_signatures\"></a>\n",
    "\n",
    "The signatures were estimated from scRNA-seq data, accounting for batch effect, using a separate model, as shown here: https://cell2location.readthedocs.io/en/latest/notebooks/cell2location_estimating_signatures.html\n",
    "\n",
    "Here we download the h5ad object with results:"
   ]
  },
  {
   "cell_type": "code",
   "execution_count": 4,
   "metadata": {},
   "outputs": [],
   "source": [
    "import os\n",
    "if not os.path.exists('./data/sc.h5ad'):\n",
    "    !cd ./data/ && wget https://cell2location.cog.sanger.ac.uk/paper/integrated_lymphoid_organ_scrna/RegressionNBV4Torch_57covariates_73260cells_10237genes/sc.h5ad "
   ]
  },
  {
   "cell_type": "code",
   "execution_count": 5,
   "metadata": {},
   "outputs": [
    {
     "name": "stdout",
     "output_type": "stream",
     "text": [
      "\u001b[34mINFO    \u001b[0m Using batches from adata.obs\u001b[1m[\u001b[0m\u001b[32m\"Sample\"\u001b[0m\u001b[1m]\u001b[0m                                              \n",
      "\u001b[34mINFO    \u001b[0m Using labels from adata.obs\u001b[1m[\u001b[0m\u001b[32m\"Subset\"\u001b[0m\u001b[1m]\u001b[0m                                               \n",
      "\u001b[34mINFO    \u001b[0m Using data from adata.X                                                             \n",
      "\u001b[34mINFO    \u001b[0m Computing library size prior per batch                                              \n"
     ]
    },
    {
     "name": "stderr",
     "output_type": "stream",
     "text": [
      "/nfs/team283/vk7/software/miniconda3farm5/envs/scvi-env2/lib/python3.7/site-packages/pandas/core/arrays/categorical.py:2487: FutureWarning: The `inplace` parameter in pandas.Categorical.remove_unused_categories is deprecated and will be removed in a future version.\n",
      "  res = method(*args, **kwargs)\n",
      "/nfs/team283/vk7/software/miniconda3farm5/envs/scvi-env2/lib/python3.7/site-packages/pandas/core/arrays/categorical.py:2487: FutureWarning: The `inplace` parameter in pandas.Categorical.remove_unused_categories is deprecated and will be removed in a future version.\n",
      "  res = method(*args, **kwargs)\n",
      "/nfs/team283/vk7/software/miniconda3farm5/envs/scvi-env2/lib/python3.7/site-packages/pandas/core/arrays/categorical.py:2487: FutureWarning: The `inplace` parameter in pandas.Categorical.remove_unused_categories is deprecated and will be removed in a future version.\n",
      "  res = method(*args, **kwargs)\n",
      "/nfs/team283/vk7/software/miniconda3farm5/envs/scvi-env2/lib/python3.7/site-packages/pandas/core/arrays/categorical.py:2487: FutureWarning: The `inplace` parameter in pandas.Categorical.remove_unused_categories is deprecated and will be removed in a future version.\n",
      "  res = method(*args, **kwargs)\n",
      "/nfs/team283/vk7/software/miniconda3farm5/envs/scvi-env2/lib/python3.7/site-packages/pandas/core/arrays/categorical.py:2487: FutureWarning: The `inplace` parameter in pandas.Categorical.remove_unused_categories is deprecated and will be removed in a future version.\n",
      "  res = method(*args, **kwargs)\n",
      "/nfs/team283/vk7/software/miniconda3farm5/envs/scvi-env2/lib/python3.7/site-packages/pandas/core/arrays/categorical.py:2487: FutureWarning: The `inplace` parameter in pandas.Categorical.remove_unused_categories is deprecated and will be removed in a future version.\n",
      "  res = method(*args, **kwargs)\n",
      "/nfs/team283/vk7/software/miniconda3farm5/envs/scvi-env2/lib/python3.7/site-packages/pandas/core/arrays/categorical.py:2487: FutureWarning: The `inplace` parameter in pandas.Categorical.remove_unused_categories is deprecated and will be removed in a future version.\n",
      "  res = method(*args, **kwargs)\n",
      "/nfs/team283/vk7/software/miniconda3farm5/envs/scvi-env2/lib/python3.7/site-packages/pandas/core/arrays/categorical.py:2487: FutureWarning: The `inplace` parameter in pandas.Categorical.remove_unused_categories is deprecated and will be removed in a future version.\n",
      "  res = method(*args, **kwargs)\n",
      "/nfs/team283/vk7/software/miniconda3farm5/envs/scvi-env2/lib/python3.7/site-packages/pandas/core/arrays/categorical.py:2487: FutureWarning: The `inplace` parameter in pandas.Categorical.remove_unused_categories is deprecated and will be removed in a future version.\n",
      "  res = method(*args, **kwargs)\n",
      "/nfs/team283/vk7/software/miniconda3farm5/envs/scvi-env2/lib/python3.7/site-packages/pandas/core/arrays/categorical.py:2487: FutureWarning: The `inplace` parameter in pandas.Categorical.remove_unused_categories is deprecated and will be removed in a future version.\n",
      "  res = method(*args, **kwargs)\n",
      "/nfs/team283/vk7/software/miniconda3farm5/envs/scvi-env2/lib/python3.7/site-packages/pandas/core/arrays/categorical.py:2487: FutureWarning: The `inplace` parameter in pandas.Categorical.remove_unused_categories is deprecated and will be removed in a future version.\n",
      "  res = method(*args, **kwargs)\n",
      "/nfs/team283/vk7/software/miniconda3farm5/envs/scvi-env2/lib/python3.7/site-packages/pandas/core/arrays/categorical.py:2487: FutureWarning: The `inplace` parameter in pandas.Categorical.remove_unused_categories is deprecated and will be removed in a future version.\n",
      "  res = method(*args, **kwargs)\n",
      "/nfs/team283/vk7/software/miniconda3farm5/envs/scvi-env2/lib/python3.7/site-packages/pandas/core/arrays/categorical.py:2487: FutureWarning: The `inplace` parameter in pandas.Categorical.remove_unused_categories is deprecated and will be removed in a future version.\n",
      "  res = method(*args, **kwargs)\n",
      "/nfs/team283/vk7/software/miniconda3farm5/envs/scvi-env2/lib/python3.7/site-packages/pandas/core/arrays/categorical.py:2487: FutureWarning: The `inplace` parameter in pandas.Categorical.remove_unused_categories is deprecated and will be removed in a future version.\n",
      "  res = method(*args, **kwargs)\n",
      "/nfs/team283/vk7/software/miniconda3farm5/envs/scvi-env2/lib/python3.7/site-packages/pandas/core/arrays/categorical.py:2487: FutureWarning: The `inplace` parameter in pandas.Categorical.remove_unused_categories is deprecated and will be removed in a future version.\n",
      "  res = method(*args, **kwargs)\n",
      "/nfs/team283/vk7/software/miniconda3farm5/envs/scvi-env2/lib/python3.7/site-packages/pandas/core/arrays/categorical.py:2487: FutureWarning: The `inplace` parameter in pandas.Categorical.remove_unused_categories is deprecated and will be removed in a future version.\n",
      "  res = method(*args, **kwargs)\n",
      "/nfs/team283/vk7/software/miniconda3farm5/envs/scvi-env2/lib/python3.7/site-packages/pandas/core/arrays/categorical.py:2487: FutureWarning: The `inplace` parameter in pandas.Categorical.remove_unused_categories is deprecated and will be removed in a future version.\n",
      "  res = method(*args, **kwargs)\n",
      "/nfs/team283/vk7/software/miniconda3farm5/envs/scvi-env2/lib/python3.7/site-packages/pandas/core/arrays/categorical.py:2487: FutureWarning: The `inplace` parameter in pandas.Categorical.remove_unused_categories is deprecated and will be removed in a future version.\n",
      "  res = method(*args, **kwargs)\n"
     ]
    },
    {
     "name": "stdout",
     "output_type": "stream",
     "text": [
      "\u001b[34mINFO    \u001b[0m Successfully registered anndata object containing \u001b[1;34m73260\u001b[0m cells, \u001b[1;34m10237\u001b[0m vars, \u001b[1;34m23\u001b[0m       \n",
      "         batches, \u001b[1;34m34\u001b[0m labels, and \u001b[1;34m0\u001b[0m proteins. Also registered \u001b[1;34m0\u001b[0m extra categorical covariates  \n",
      "         and \u001b[1;34m0\u001b[0m extra continuous covariates.                                                  \n",
      "\u001b[34mINFO    \u001b[0m Please do not further modify adata until model is trained.                          \n"
     ]
    },
    {
     "name": "stderr",
     "output_type": "stream",
     "text": [
      "/nfs/team283/vk7/software/miniconda3farm5/envs/scvi-env2/lib/python3.7/site-packages/pandas/core/arrays/categorical.py:2487: FutureWarning: The `inplace` parameter in pandas.Categorical.remove_unused_categories is deprecated and will be removed in a future version.\n",
      "  res = method(*args, **kwargs)\n",
      "/nfs/team283/vk7/software/miniconda3farm5/envs/scvi-env2/lib/python3.7/site-packages/pandas/core/arrays/categorical.py:2487: FutureWarning: The `inplace` parameter in pandas.Categorical.remove_unused_categories is deprecated and will be removed in a future version.\n",
      "  res = method(*args, **kwargs)\n",
      "/nfs/team283/vk7/software/miniconda3farm5/envs/scvi-env2/lib/python3.7/site-packages/pandas/core/arrays/categorical.py:2487: FutureWarning: The `inplace` parameter in pandas.Categorical.remove_unused_categories is deprecated and will be removed in a future version.\n",
      "  res = method(*args, **kwargs)\n",
      "/nfs/team283/vk7/software/miniconda3farm5/envs/scvi-env2/lib/python3.7/site-packages/pandas/core/arrays/categorical.py:2487: FutureWarning: The `inplace` parameter in pandas.Categorical.remove_unused_categories is deprecated and will be removed in a future version.\n",
      "  res = method(*args, **kwargs)\n",
      "/nfs/team283/vk7/software/miniconda3farm5/envs/scvi-env2/lib/python3.7/site-packages/pandas/core/arrays/categorical.py:2487: FutureWarning: The `inplace` parameter in pandas.Categorical.remove_unused_categories is deprecated and will be removed in a future version.\n",
      "  res = method(*args, **kwargs)\n"
     ]
    },
    {
     "data": {
      "text/html": [
       "<pre style=\"white-space:pre;overflow-x:auto;line-height:normal;font-family:Menlo,'DejaVu Sans Mono',consolas,'Courier New',monospace\">Anndata setup with scvi-tools version <span style=\"color: #000080; font-weight: bold\">0.0</span>.<span style=\"color: #000080; font-weight: bold\">0</span>.\n",
       "</pre>\n"
      ],
      "text/plain": [
       "<rich.jupyter.JupyterRenderable at 0x153adb57f290>"
      ]
     },
     "metadata": {},
     "output_type": "display_data"
    },
    {
     "data": {
      "text/html": [
       "<pre style=\"white-space:pre;overflow-x:auto;line-height:normal;font-family:Menlo,'DejaVu Sans Mono',consolas,'Courier New',monospace\"><span style=\"font-style: italic\">              Data Summary              </span>\n",
       "┏━━━━━━━━━━━━━━━━━━━━━━━━━━━━━━┳━━━━━━━┓\n",
       "┃<span style=\"font-weight: bold\">             Data             </span>┃<span style=\"font-weight: bold\"> Count </span>┃\n",
       "┡━━━━━━━━━━━━━━━━━━━━━━━━━━━━━━╇━━━━━━━┩\n",
       "│<span style=\"color: #0087ff\">            Cells             </span>│<span style=\"color: #af00d7\"> 73260 </span>│\n",
       "│<span style=\"color: #0087ff\">             Vars             </span>│<span style=\"color: #af00d7\"> 10237 </span>│\n",
       "│<span style=\"color: #0087ff\">            Labels            </span>│<span style=\"color: #af00d7\">  34   </span>│\n",
       "│<span style=\"color: #0087ff\">           Batches            </span>│<span style=\"color: #af00d7\">  23   </span>│\n",
       "│<span style=\"color: #0087ff\">           Proteins           </span>│<span style=\"color: #af00d7\">   0   </span>│\n",
       "│<span style=\"color: #0087ff\"> Extra Categorical Covariates </span>│<span style=\"color: #af00d7\">   0   </span>│\n",
       "│<span style=\"color: #0087ff\"> Extra Continuous Covariates  </span>│<span style=\"color: #af00d7\">   0   </span>│\n",
       "└──────────────────────────────┴───────┘\n",
       "</pre>\n"
      ],
      "text/plain": [
       "<rich.jupyter.JupyterRenderable at 0x153adb50fa50>"
      ]
     },
     "metadata": {},
     "output_type": "display_data"
    },
    {
     "data": {
      "text/html": [
       "<pre style=\"white-space:pre;overflow-x:auto;line-height:normal;font-family:Menlo,'DejaVu Sans Mono',consolas,'Courier New',monospace\"><span style=\"font-style: italic\">                SCVI Data Registry                 </span>\n",
       "┏━━━━━━━━━━━━━━━┳━━━━━━━━━━━━━━━━━━━━━━━━━━━━━━━━━┓\n",
       "┃<span style=\"font-weight: bold\">     Data      </span>┃<span style=\"font-weight: bold\">       scvi-tools Location       </span>┃\n",
       "┡━━━━━━━━━━━━━━━╇━━━━━━━━━━━━━━━━━━━━━━━━━━━━━━━━━┩\n",
       "│<span style=\"color: #0087ff\">       X       </span>│<span style=\"color: #af00d7\">             adata.X             </span>│\n",
       "│<span style=\"color: #0087ff\"> batch_indices </span>│<span style=\"color: #af00d7\">    adata.obs['_scvi_batch']     </span>│\n",
       "│<span style=\"color: #0087ff\"> local_l_mean  </span>│<span style=\"color: #af00d7\"> adata.obs['_scvi_local_l_mean'] </span>│\n",
       "│<span style=\"color: #0087ff\">  local_l_var  </span>│<span style=\"color: #af00d7\"> adata.obs['_scvi_local_l_var']  </span>│\n",
       "│<span style=\"color: #0087ff\">    labels     </span>│<span style=\"color: #af00d7\">    adata.obs['_scvi_labels']    </span>│\n",
       "└───────────────┴─────────────────────────────────┘\n",
       "</pre>\n"
      ],
      "text/plain": [
       "<rich.jupyter.JupyterRenderable at 0x153adb50f2d0>"
      ]
     },
     "metadata": {},
     "output_type": "display_data"
    },
    {
     "data": {
      "text/html": [
       "<pre style=\"white-space:pre;overflow-x:auto;line-height:normal;font-family:Menlo,'DejaVu Sans Mono',consolas,'Courier New',monospace\"><span style=\"font-style: italic\">                        Label Categories                        </span>\n",
       "┏━━━━━━━━━━━━━━━━━━━━━┳━━━━━━━━━━━━━━━━━━┳━━━━━━━━━━━━━━━━━━━━━┓\n",
       "┃<span style=\"font-weight: bold\">   Source Location   </span>┃<span style=\"font-weight: bold\">    Categories    </span>┃<span style=\"font-weight: bold\"> scvi-tools Encoding </span>┃\n",
       "┡━━━━━━━━━━━━━━━━━━━━━╇━━━━━━━━━━━━━━━━━━╇━━━━━━━━━━━━━━━━━━━━━┩\n",
       "│<span style=\"color: #0087ff\"> adata.obs['Subset'] </span>│<span style=\"color: #008000\">    B_Cycling     </span>│<span style=\"color: #af00d7\">          0          </span>│\n",
       "│<span style=\"color: #0087ff\">                     </span>│<span style=\"color: #008000\">     B_GC_DZ      </span>│<span style=\"color: #af00d7\">          1          </span>│\n",
       "│<span style=\"color: #0087ff\">                     </span>│<span style=\"color: #008000\">     B_GC_LZ      </span>│<span style=\"color: #af00d7\">          2          </span>│\n",
       "│<span style=\"color: #0087ff\">                     </span>│<span style=\"color: #008000\">    B_GC_prePB    </span>│<span style=\"color: #af00d7\">          3          </span>│\n",
       "│<span style=\"color: #0087ff\">                     </span>│<span style=\"color: #008000\">      B_IFN       </span>│<span style=\"color: #af00d7\">          4          </span>│\n",
       "│<span style=\"color: #0087ff\">                     </span>│<span style=\"color: #008000\">   B_activated    </span>│<span style=\"color: #af00d7\">          5          </span>│\n",
       "│<span style=\"color: #0087ff\">                     </span>│<span style=\"color: #008000\">      B_mem       </span>│<span style=\"color: #af00d7\">          6          </span>│\n",
       "│<span style=\"color: #0087ff\">                     </span>│<span style=\"color: #008000\">     B_naive      </span>│<span style=\"color: #af00d7\">          7          </span>│\n",
       "│<span style=\"color: #0087ff\">                     </span>│<span style=\"color: #008000\">     B_plasma     </span>│<span style=\"color: #af00d7\">          8          </span>│\n",
       "│<span style=\"color: #0087ff\">                     </span>│<span style=\"color: #008000\">     B_preGC      </span>│<span style=\"color: #af00d7\">          9          </span>│\n",
       "│<span style=\"color: #0087ff\">                     </span>│<span style=\"color: #008000\">     DC_CCR7+     </span>│<span style=\"color: #af00d7\">         10          </span>│\n",
       "│<span style=\"color: #0087ff\">                     </span>│<span style=\"color: #008000\">     DC_cDC1      </span>│<span style=\"color: #af00d7\">         11          </span>│\n",
       "│<span style=\"color: #0087ff\">                     </span>│<span style=\"color: #008000\">     DC_cDC2      </span>│<span style=\"color: #af00d7\">         12          </span>│\n",
       "│<span style=\"color: #0087ff\">                     </span>│<span style=\"color: #008000\">      DC_pDC      </span>│<span style=\"color: #af00d7\">         13          </span>│\n",
       "│<span style=\"color: #0087ff\">                     </span>│<span style=\"color: #008000\">       Endo       </span>│<span style=\"color: #af00d7\">         14          </span>│\n",
       "│<span style=\"color: #0087ff\">                     </span>│<span style=\"color: #008000\">       FDC        </span>│<span style=\"color: #af00d7\">         15          </span>│\n",
       "│<span style=\"color: #0087ff\">                     </span>│<span style=\"color: #008000\">       ILC        </span>│<span style=\"color: #af00d7\">         16          </span>│\n",
       "│<span style=\"color: #0087ff\">                     </span>│<span style=\"color: #008000\">  Macrophages_M1  </span>│<span style=\"color: #af00d7\">         17          </span>│\n",
       "│<span style=\"color: #0087ff\">                     </span>│<span style=\"color: #008000\">  Macrophages_M2  </span>│<span style=\"color: #af00d7\">         18          </span>│\n",
       "│<span style=\"color: #0087ff\">                     </span>│<span style=\"color: #008000\">       Mast       </span>│<span style=\"color: #af00d7\">         19          </span>│\n",
       "│<span style=\"color: #0087ff\">                     </span>│<span style=\"color: #008000\">    Monocytes     </span>│<span style=\"color: #af00d7\">         20          </span>│\n",
       "│<span style=\"color: #0087ff\">                     </span>│<span style=\"color: #008000\">        NK        </span>│<span style=\"color: #af00d7\">         21          </span>│\n",
       "│<span style=\"color: #0087ff\">                     </span>│<span style=\"color: #008000\">       NKT        </span>│<span style=\"color: #af00d7\">         22          </span>│\n",
       "│<span style=\"color: #0087ff\">                     </span>│<span style=\"color: #008000\">      T_CD4+      </span>│<span style=\"color: #af00d7\">         23          </span>│\n",
       "│<span style=\"color: #0087ff\">                     </span>│<span style=\"color: #008000\">    T_CD4+_TfH    </span>│<span style=\"color: #af00d7\">         24          </span>│\n",
       "│<span style=\"color: #0087ff\">                     </span>│<span style=\"color: #008000\">  T_CD4+_TfH_GC   </span>│<span style=\"color: #af00d7\">         25          </span>│\n",
       "│<span style=\"color: #0087ff\">                     </span>│<span style=\"color: #008000\">   T_CD4+_naive   </span>│<span style=\"color: #af00d7\">         26          </span>│\n",
       "│<span style=\"color: #0087ff\">                     </span>│<span style=\"color: #008000\">  T_CD8+_CD161+   </span>│<span style=\"color: #af00d7\">         27          </span>│\n",
       "│<span style=\"color: #0087ff\">                     </span>│<span style=\"color: #008000\"> T_CD8+_cytotoxic </span>│<span style=\"color: #af00d7\">         28          </span>│\n",
       "│<span style=\"color: #0087ff\">                     </span>│<span style=\"color: #008000\">   T_CD8+_naive   </span>│<span style=\"color: #af00d7\">         29          </span>│\n",
       "│<span style=\"color: #0087ff\">                     </span>│<span style=\"color: #008000\">     T_TIM3+      </span>│<span style=\"color: #af00d7\">         30          </span>│\n",
       "│<span style=\"color: #0087ff\">                     </span>│<span style=\"color: #008000\">      T_TfR       </span>│<span style=\"color: #af00d7\">         31          </span>│\n",
       "│<span style=\"color: #0087ff\">                     </span>│<span style=\"color: #008000\">      T_Treg      </span>│<span style=\"color: #af00d7\">         32          </span>│\n",
       "│<span style=\"color: #0087ff\">                     </span>│<span style=\"color: #008000\">       VSMC       </span>│<span style=\"color: #af00d7\">         33          </span>│\n",
       "└─────────────────────┴──────────────────┴─────────────────────┘\n",
       "</pre>\n"
      ],
      "text/plain": [
       "<rich.jupyter.JupyterRenderable at 0x153adb58a650>"
      ]
     },
     "metadata": {},
     "output_type": "display_data"
    },
    {
     "data": {
      "text/html": [
       "<pre style=\"white-space:pre;overflow-x:auto;line-height:normal;font-family:Menlo,'DejaVu Sans Mono',consolas,'Courier New',monospace\"><span style=\"font-style: italic\">                           Batch Categories                           </span>\n",
       "┏━━━━━━━━━━━━━━━━━━━━━┳━━━━━━━━━━━━━━━━━━━━━━━━┳━━━━━━━━━━━━━━━━━━━━━┓\n",
       "┃<span style=\"font-weight: bold\">   Source Location   </span>┃<span style=\"font-weight: bold\">       Categories       </span>┃<span style=\"font-weight: bold\"> scvi-tools Encoding </span>┃\n",
       "┡━━━━━━━━━━━━━━━━━━━━━╇━━━━━━━━━━━━━━━━━━━━━━━━╇━━━━━━━━━━━━━━━━━━━━━┩\n",
       "│<span style=\"color: #0087ff\"> adata.obs['Sample'] </span>│<span style=\"color: #008000\">    4861STDY7135913     </span>│<span style=\"color: #af00d7\">          0          </span>│\n",
       "│<span style=\"color: #0087ff\">                     </span>│<span style=\"color: #008000\">    4861STDY7135914     </span>│<span style=\"color: #af00d7\">          1          </span>│\n",
       "│<span style=\"color: #0087ff\">                     </span>│<span style=\"color: #008000\">    4861STDY7208412     </span>│<span style=\"color: #af00d7\">          2          </span>│\n",
       "│<span style=\"color: #0087ff\">                     </span>│<span style=\"color: #008000\">    4861STDY7208413     </span>│<span style=\"color: #af00d7\">          3          </span>│\n",
       "│<span style=\"color: #0087ff\">                     </span>│<span style=\"color: #008000\">    4861STDY7462253     </span>│<span style=\"color: #af00d7\">          4          </span>│\n",
       "│<span style=\"color: #0087ff\">                     </span>│<span style=\"color: #008000\">    4861STDY7462254     </span>│<span style=\"color: #af00d7\">          5          </span>│\n",
       "│<span style=\"color: #0087ff\">                     </span>│<span style=\"color: #008000\">    4861STDY7462255     </span>│<span style=\"color: #af00d7\">          6          </span>│\n",
       "│<span style=\"color: #0087ff\">                     </span>│<span style=\"color: #008000\">    4861STDY7462256     </span>│<span style=\"color: #af00d7\">          7          </span>│\n",
       "│<span style=\"color: #0087ff\">                     </span>│<span style=\"color: #008000\">    4861STDY7528597     </span>│<span style=\"color: #af00d7\">          8          </span>│\n",
       "│<span style=\"color: #0087ff\">                     </span>│<span style=\"color: #008000\">    4861STDY7528598     </span>│<span style=\"color: #af00d7\">          9          </span>│\n",
       "│<span style=\"color: #0087ff\">                     </span>│<span style=\"color: #008000\">    4861STDY7528599     </span>│<span style=\"color: #af00d7\">         10          </span>│\n",
       "│<span style=\"color: #0087ff\">                     </span>│<span style=\"color: #008000\">    4861STDY7528600     </span>│<span style=\"color: #af00d7\">         11          </span>│\n",
       "│<span style=\"color: #0087ff\">                     </span>│<span style=\"color: #008000\">      BCP002_Total      </span>│<span style=\"color: #af00d7\">         12          </span>│\n",
       "│<span style=\"color: #0087ff\">                     </span>│<span style=\"color: #008000\">      BCP003_Total      </span>│<span style=\"color: #af00d7\">         13          </span>│\n",
       "│<span style=\"color: #0087ff\">                     </span>│<span style=\"color: #008000\">      BCP004_Total      </span>│<span style=\"color: #af00d7\">         14          </span>│\n",
       "│<span style=\"color: #0087ff\">                     </span>│<span style=\"color: #008000\">      BCP005_Total      </span>│<span style=\"color: #af00d7\">         15          </span>│\n",
       "│<span style=\"color: #0087ff\">                     </span>│<span style=\"color: #008000\">      BCP006_Total      </span>│<span style=\"color: #af00d7\">         16          </span>│\n",
       "│<span style=\"color: #0087ff\">                     </span>│<span style=\"color: #008000\">      BCP008_Total      </span>│<span style=\"color: #af00d7\">         17          </span>│\n",
       "│<span style=\"color: #0087ff\">                     </span>│<span style=\"color: #008000\">      BCP009_Total      </span>│<span style=\"color: #af00d7\">         18          </span>│\n",
       "│<span style=\"color: #0087ff\">                     </span>│<span style=\"color: #008000\"> Human_colon_16S7255677 </span>│<span style=\"color: #af00d7\">         19          </span>│\n",
       "│<span style=\"color: #0087ff\">                     </span>│<span style=\"color: #008000\"> Human_colon_16S7255678 </span>│<span style=\"color: #af00d7\">         20          </span>│\n",
       "│<span style=\"color: #0087ff\">                     </span>│<span style=\"color: #008000\"> Human_colon_16S8000484 </span>│<span style=\"color: #af00d7\">         21          </span>│\n",
       "│<span style=\"color: #0087ff\">                     </span>│<span style=\"color: #008000\">      Pan_T7935494      </span>│<span style=\"color: #af00d7\">         22          </span>│\n",
       "└─────────────────────┴────────────────────────┴─────────────────────┘\n",
       "</pre>\n"
      ],
      "text/plain": [
       "<rich.jupyter.JupyterRenderable at 0x153adb5234d0>"
      ]
     },
     "metadata": {},
     "output_type": "display_data"
    }
   ],
   "source": [
    "# read data\n",
    "adata_snrna_raw = sc.read(f'./data/sc.h5ad')\n",
    "\n",
    "adata_snrna_raw.var['SYMBOL'] = adata_snrna_raw.var.index \n",
    "adata_snrna_raw.var.index = adata_snrna_raw.var['GeneID-2'].copy()\n",
    "adata_snrna_raw.var_names = adata_snrna_raw.var['GeneID-2'].copy()\n",
    "adata_snrna_raw.var.index.name = None\n",
    "adata_snrna_raw.raw.var['SYMBOL'] = adata_snrna_raw.raw.var.index\n",
    "adata_snrna_raw.raw.var.index = adata_snrna_raw.raw.var['GeneID-2'].copy()\n",
    "adata_snrna_raw.raw.var.index.name = None\n",
    "\n",
    "# prepare anndata for scVI model\n",
    "scvi.data.setup_anndata(adata=adata_snrna_raw, batch_key='Sample', labels_key='Subset')\n",
    "scvi.data.view_anndata_setup(adata_snrna_raw)"
   ]
  },
  {
   "cell_type": "code",
   "execution_count": 6,
   "metadata": {},
   "outputs": [
    {
     "name": "stderr",
     "output_type": "stream",
     "text": [
      "GPU available: True, used: True\n",
      "TPU available: False, using: 0 TPU cores\n",
      "/nfs/team283/vk7/software/miniconda3farm5/envs/scvi-env2/lib/python3.7/site-packages/pytorch_lightning/utilities/distributed.py:69: UserWarning: you passed in a val_dataloader but have no validation_step. Skipping val loop\n",
      "  warnings.warn(*args, **kwargs)\n",
      "LOCAL_RANK: 0 - CUDA_VISIBLE_DEVICES: [0]\n"
     ]
    },
    {
     "name": "stdout",
     "output_type": "stream",
     "text": [
      "Epoch 1/10:   0%|          | 0/10 [00:00<?, ?it/s]"
     ]
    },
    {
     "name": "stderr",
     "output_type": "stream",
     "text": [
      "/nfs/team283/vk7/software/miniconda3farm5/envs/scvi-env2/lib/python3.7/site-packages/pytorch_lightning/utilities/distributed.py:69: UserWarning: `LightningModule.configure_optimizers` returned `None`, this fit will run with no optimizer\n",
      "  warnings.warn(*args, **kwargs)\n"
     ]
    },
    {
     "name": "stdout",
     "output_type": "stream",
     "text": [
      "Epoch 10/10: 100%|██████████| 10/10 [01:01<00:00,  6.12s/it, v_num=1, train_loss_step=2.86e+8, train_loss_epoch=2.91e+8]\n"
     ]
    },
    {
     "data": {
      "image/png": "[encoded data removed]",
      "text/plain": [
       "<Figure size 432x288 with 1 Axes>"
      ]
     },
     "metadata": {
      "needs_background": "light"
     },
     "output_type": "display_data"
    }
   ],
   "source": [
    "# create and train the model\n",
    "from scvi.external.cell2location._reference_module import RegressionModel\n",
    "mod = RegressionModel(\n",
    "    adata_snrna_raw,\n",
    "    amortised=True, single_encoder=True,\n",
    "    encoder_kwargs={'dropout_rate': 0.2},\n",
    "    #init_vals = {'per_cluster_mu_fg': per_cluster_mu_fg}\n",
    ") \n",
    "\n",
    "mod.train(max_epochs=200, \n",
    "          batch_size=2500, \n",
    "          plan_kwargs={\"optim_kwargs\": {\"lr\": 0.01}},\n",
    "          use_gpu=True)\n",
    "\n",
    "# plot ELBO loss history during training, removing first 20 epochs from the plot\n",
    "mod.plot_history(20)"
   ]
  },
  {
   "cell_type": "code",
   "execution_count": 7,
   "metadata": {},
   "outputs": [
    {
     "name": "stdout",
     "output_type": "stream",
     "text": [
      "Sampling local variables, batch: 100%|██████████| 30/30 [00:43<00:00,  1.44s/it]\n",
      "Sampling global variables, sample: 100%|██████████| 99/99 [00:01<00:00, 65.83it/s]\n"
     ]
    },
    {
     "name": "stderr",
     "output_type": "stream",
     "text": [
      "... storing 'sample' as categorical\n",
      "... storing 'feature_types' as categorical\n",
      "... storing 'genome' as categorical\n"
     ]
    },
    {
     "data": {
      "text/plain": [
       "'./results/lymph_nodes_analysis//amortised/signatures_v1/sp.h5ad'"
      ]
     },
     "execution_count": 7,
     "metadata": {},
     "output_type": "execute_result"
    }
   ],
   "source": [
    "# In this section, we export the estimated cell abundance (summary of the posterior distribution).\n",
    "adata_snrna_raw = mod.export_posterior(\n",
    "    adata_snrna_raw, sample_kwargs={'num_samples': 1000, 'batch_size': 2500, 'use_gpu': True}\n",
    ")\n",
    "\n",
    "# Save model\n",
    "mod.save(f\"{scvi_run_name}\", overwrite=True)\n",
    "# can be loaded later like this:\n",
    "# mod = scvi.external.Cell2location.load(f\"{scvi_run_name}\", adata_vis)\n",
    "\n",
    "# Save anndata object with results\n",
    "adata_file = f\"{scvi_run_name}/sp.h5ad\"\n",
    "adata_vis.write(adata_file)\n",
    "adata_file"
   ]
  },
  {
   "cell_type": "code",
   "execution_count": 8,
   "metadata": {},
   "outputs": [
    {
     "data": {
      "text/plain": [
       "array(['B_Cycling', 'B_GC_DZ', 'B_GC_LZ', 'B_GC_prePB', 'B_IFN',\n",
       "       'B_activated', 'B_mem', 'B_naive', 'B_plasma', 'B_preGC',\n",
       "       'DC_CCR7+', 'DC_cDC1', 'DC_cDC2', 'DC_pDC', 'Endo', 'FDC', 'ILC',\n",
       "       'Macrophages_M1', 'Macrophages_M2', 'Mast', 'Monocytes', 'NK',\n",
       "       'NKT', 'T_CD4+', 'T_CD4+_TfH', 'T_CD4+_TfH_GC', 'T_CD4+_naive',\n",
       "       'T_CD8+_CD161+', 'T_CD8+_cytotoxic', 'T_CD8+_naive', 'T_TIM3+',\n",
       "       'T_TfR', 'T_Treg', 'VSMC'], dtype=object)"
      ]
     },
     "execution_count": 8,
     "metadata": {},
     "output_type": "execute_result"
    }
   ],
   "source": [
    "mod.factor_names_"
   ]
  },
  {
   "cell_type": "markdown",
   "metadata": {},
   "source": [
    "Examine QC plots\n",
    "\n",
    "1. Reconstruction accuracy to assess if there are any issues with inference.\n",
    "\n",
    "2. The estimated expression signatures are distinct from mean expression in each cluster because of batch effects. For scRNA-seq datasets which do not suffer from batch effect (this dataset does), cluster average expression can be used instead of estimating signatures with a model. When this plot is very different from a diagonal plot (e.g. very low values on Y-axis, density everywhere) it indicates problems with signature estimation."
   ]
  },
  {
   "cell_type": "code",
   "execution_count": 9,
   "metadata": {},
   "outputs": [
    {
     "data": {
      "image/png": "[encoded data removed]",
      "text/plain": [
       "<Figure size 432x288 with 1 Axes>"
      ]
     },
     "metadata": {
      "needs_background": "light"
     },
     "output_type": "display_data"
    },
    {
     "data": {
      "image/png": "[encoded data removed]",
      "text/plain": [
       "<Figure size 432x288 with 1 Axes>"
      ]
     },
     "metadata": {
      "needs_background": "light"
     },
     "output_type": "display_data"
    }
   ],
   "source": [
    "mod.plot_QC()"
   ]
  },
  {
   "cell_type": "code",
   "execution_count": 10,
   "metadata": {},
   "outputs": [
    {
     "data": {
      "text/html": [
       "<div>\n",
       "<style scoped>\n",
       "    .dataframe tbody tr th:only-of-type {\n",
       "        vertical-align: middle;\n",
       "    }\n",
       "\n",
       "    .dataframe tbody tr th {\n",
       "        vertical-align: top;\n",
       "    }\n",
       "\n",
       "    .dataframe thead th {\n",
       "        text-align: right;\n",
       "    }\n",
       "</style>\n",
       "<table border=\"1\" class=\"dataframe\">\n",
       "  <thead>\n",
       "    <tr style=\"text-align: right;\">\n",
       "      <th></th>\n",
       "      <th>GeneID-2</th>\n",
       "      <th>GeneName-2</th>\n",
       "      <th>feature_types</th>\n",
       "      <th>feature_types-0</th>\n",
       "      <th>feature_types-1</th>\n",
       "      <th>gene_ids-1</th>\n",
       "      <th>gene_ids-4861STDY7135913-0</th>\n",
       "      <th>gene_ids-4861STDY7135914-0</th>\n",
       "      <th>gene_ids-4861STDY7208412-0</th>\n",
       "      <th>gene_ids-4861STDY7208413-0</th>\n",
       "      <th>...</th>\n",
       "      <th>q95_per_cluster_mu_fg_T_CD4+_TfH</th>\n",
       "      <th>q95_per_cluster_mu_fg_T_CD4+_TfH_GC</th>\n",
       "      <th>q95_per_cluster_mu_fg_T_CD4+_naive</th>\n",
       "      <th>q95_per_cluster_mu_fg_T_CD8+_CD161+</th>\n",
       "      <th>q95_per_cluster_mu_fg_T_CD8+_cytotoxic</th>\n",
       "      <th>q95_per_cluster_mu_fg_T_CD8+_naive</th>\n",
       "      <th>q95_per_cluster_mu_fg_T_TIM3+</th>\n",
       "      <th>q95_per_cluster_mu_fg_T_TfR</th>\n",
       "      <th>q95_per_cluster_mu_fg_T_Treg</th>\n",
       "      <th>q95_per_cluster_mu_fg_VSMC</th>\n",
       "    </tr>\n",
       "  </thead>\n",
       "  <tbody>\n",
       "    <tr>\n",
       "      <th>ENSG00000188976</th>\n",
       "      <td>ENSG00000188976</td>\n",
       "      <td>16551</td>\n",
       "      <td>nan</td>\n",
       "      <td>Gene Expression</td>\n",
       "      <td>Gene Expression</td>\n",
       "      <td>ENSG00000188976</td>\n",
       "      <td>ENSG00000188976</td>\n",
       "      <td>ENSG00000188976</td>\n",
       "      <td>ENSG00000188976</td>\n",
       "      <td>ENSG00000188976</td>\n",
       "      <td>...</td>\n",
       "      <td>0.241977</td>\n",
       "      <td>0.220873</td>\n",
       "      <td>0.271657</td>\n",
       "      <td>0.256542</td>\n",
       "      <td>0.245583</td>\n",
       "      <td>0.330157</td>\n",
       "      <td>0.369625</td>\n",
       "      <td>0.300570</td>\n",
       "      <td>0.264159</td>\n",
       "      <td>0.533107</td>\n",
       "    </tr>\n",
       "    <tr>\n",
       "      <th>ENSG00000188290</th>\n",
       "      <td>ENSG00000188290</td>\n",
       "      <td>11070</td>\n",
       "      <td>nan</td>\n",
       "      <td>Gene Expression</td>\n",
       "      <td>Gene Expression</td>\n",
       "      <td>ENSG00000188290</td>\n",
       "      <td>ENSG00000188290</td>\n",
       "      <td>ENSG00000188290</td>\n",
       "      <td>ENSG00000188290</td>\n",
       "      <td>ENSG00000188290</td>\n",
       "      <td>...</td>\n",
       "      <td>0.124756</td>\n",
       "      <td>0.122058</td>\n",
       "      <td>0.122548</td>\n",
       "      <td>0.161887</td>\n",
       "      <td>0.109285</td>\n",
       "      <td>0.129835</td>\n",
       "      <td>0.284631</td>\n",
       "      <td>0.518521</td>\n",
       "      <td>0.157118</td>\n",
       "      <td>1.232423</td>\n",
       "    </tr>\n",
       "    <tr>\n",
       "      <th>ENSG00000187608</th>\n",
       "      <td>ENSG00000187608</td>\n",
       "      <td>12375</td>\n",
       "      <td>nan</td>\n",
       "      <td>Gene Expression</td>\n",
       "      <td>Gene Expression</td>\n",
       "      <td>ENSG00000187608</td>\n",
       "      <td>ENSG00000187608</td>\n",
       "      <td>ENSG00000187608</td>\n",
       "      <td>ENSG00000187608</td>\n",
       "      <td>ENSG00000187608</td>\n",
       "      <td>...</td>\n",
       "      <td>0.598812</td>\n",
       "      <td>0.712985</td>\n",
       "      <td>0.661332</td>\n",
       "      <td>0.609524</td>\n",
       "      <td>0.839033</td>\n",
       "      <td>0.849777</td>\n",
       "      <td>1.620152</td>\n",
       "      <td>0.936290</td>\n",
       "      <td>0.693949</td>\n",
       "      <td>0.773382</td>\n",
       "    </tr>\n",
       "    <tr>\n",
       "      <th>ENSG00000186891</th>\n",
       "      <td>ENSG00000186891</td>\n",
       "      <td>31000</td>\n",
       "      <td>nan</td>\n",
       "      <td>Gene Expression</td>\n",
       "      <td>Gene Expression</td>\n",
       "      <td>ENSG00000186891</td>\n",
       "      <td>ENSG00000186891</td>\n",
       "      <td>ENSG00000186891</td>\n",
       "      <td>ENSG00000186891</td>\n",
       "      <td>ENSG00000186891</td>\n",
       "      <td>...</td>\n",
       "      <td>0.102281</td>\n",
       "      <td>0.442971</td>\n",
       "      <td>0.099667</td>\n",
       "      <td>0.164658</td>\n",
       "      <td>0.112689</td>\n",
       "      <td>0.119993</td>\n",
       "      <td>0.389571</td>\n",
       "      <td>1.398804</td>\n",
       "      <td>0.583472</td>\n",
       "      <td>0.402142</td>\n",
       "    </tr>\n",
       "    <tr>\n",
       "      <th>ENSG00000186827</th>\n",
       "      <td>ENSG00000186827</td>\n",
       "      <td>30985</td>\n",
       "      <td>nan</td>\n",
       "      <td>Gene Expression</td>\n",
       "      <td>Gene Expression</td>\n",
       "      <td>ENSG00000186827</td>\n",
       "      <td>ENSG00000186827</td>\n",
       "      <td>ENSG00000186827</td>\n",
       "      <td>ENSG00000186827</td>\n",
       "      <td>ENSG00000186827</td>\n",
       "      <td>...</td>\n",
       "      <td>0.247684</td>\n",
       "      <td>0.899577</td>\n",
       "      <td>0.112622</td>\n",
       "      <td>0.229640</td>\n",
       "      <td>0.112402</td>\n",
       "      <td>0.123714</td>\n",
       "      <td>0.519009</td>\n",
       "      <td>1.970021</td>\n",
       "      <td>1.144270</td>\n",
       "      <td>0.387782</td>\n",
       "    </tr>\n",
       "    <tr>\n",
       "      <th>...</th>\n",
       "      <td>...</td>\n",
       "      <td>...</td>\n",
       "      <td>...</td>\n",
       "      <td>...</td>\n",
       "      <td>...</td>\n",
       "      <td>...</td>\n",
       "      <td>...</td>\n",
       "      <td>...</td>\n",
       "      <td>...</td>\n",
       "      <td>...</td>\n",
       "      <td>...</td>\n",
       "      <td>...</td>\n",
       "      <td>...</td>\n",
       "      <td>...</td>\n",
       "      <td>...</td>\n",
       "      <td>...</td>\n",
       "      <td>...</td>\n",
       "      <td>...</td>\n",
       "      <td>...</td>\n",
       "      <td>...</td>\n",
       "      <td>...</td>\n",
       "    </tr>\n",
       "    <tr>\n",
       "      <th>IGL_VDJsum</th>\n",
       "      <td>IGL_VDJsum</td>\n",
       "      <td>IGL_VDJsum</td>\n",
       "      <td>Gene Expression</td>\n",
       "      <td>Gene Expression</td>\n",
       "      <td>Gene Expression</td>\n",
       "      <td>IGL_VDJsum</td>\n",
       "      <td>IGL_VDJsum</td>\n",
       "      <td>IGL_VDJsum</td>\n",
       "      <td>IGL_VDJsum</td>\n",
       "      <td>IGL_VDJsum</td>\n",
       "      <td>...</td>\n",
       "      <td>0.235134</td>\n",
       "      <td>1.383053</td>\n",
       "      <td>0.240036</td>\n",
       "      <td>0.218562</td>\n",
       "      <td>0.287157</td>\n",
       "      <td>0.326126</td>\n",
       "      <td>0.653410</td>\n",
       "      <td>1.415578</td>\n",
       "      <td>0.206471</td>\n",
       "      <td>0.440599</td>\n",
       "    </tr>\n",
       "    <tr>\n",
       "      <th>TCRA_VDJsum</th>\n",
       "      <td>TCRA_VDJsum</td>\n",
       "      <td>TCRA_VDJsum</td>\n",
       "      <td>Gene Expression</td>\n",
       "      <td>Gene Expression</td>\n",
       "      <td>Gene Expression</td>\n",
       "      <td>TCRA_VDJsum</td>\n",
       "      <td>TCRA_VDJsum</td>\n",
       "      <td>TCRA_VDJsum</td>\n",
       "      <td>TCRA_VDJsum</td>\n",
       "      <td>TCRA_VDJsum</td>\n",
       "      <td>...</td>\n",
       "      <td>2.493088</td>\n",
       "      <td>2.777368</td>\n",
       "      <td>2.597980</td>\n",
       "      <td>1.985218</td>\n",
       "      <td>2.637631</td>\n",
       "      <td>2.445322</td>\n",
       "      <td>2.180436</td>\n",
       "      <td>2.701006</td>\n",
       "      <td>2.722843</td>\n",
       "      <td>0.773979</td>\n",
       "    </tr>\n",
       "    <tr>\n",
       "      <th>TCRB_VDJsum</th>\n",
       "      <td>TCRB_VDJsum</td>\n",
       "      <td>TCRB_VDJsum</td>\n",
       "      <td>Gene Expression</td>\n",
       "      <td>Gene Expression</td>\n",
       "      <td>Gene Expression</td>\n",
       "      <td>TCRB_VDJsum</td>\n",
       "      <td>TCRB_VDJsum</td>\n",
       "      <td>TCRB_VDJsum</td>\n",
       "      <td>TCRB_VDJsum</td>\n",
       "      <td>TCRB_VDJsum</td>\n",
       "      <td>...</td>\n",
       "      <td>2.778737</td>\n",
       "      <td>2.771349</td>\n",
       "      <td>2.805124</td>\n",
       "      <td>2.363140</td>\n",
       "      <td>2.723977</td>\n",
       "      <td>2.737353</td>\n",
       "      <td>2.522470</td>\n",
       "      <td>2.777698</td>\n",
       "      <td>2.769031</td>\n",
       "      <td>0.621678</td>\n",
       "    </tr>\n",
       "    <tr>\n",
       "      <th>TCRD_VDJsum</th>\n",
       "      <td>TCRD_VDJsum</td>\n",
       "      <td>TCRD_VDJsum</td>\n",
       "      <td>Gene Expression</td>\n",
       "      <td>Gene Expression</td>\n",
       "      <td>Gene Expression</td>\n",
       "      <td>TCRD_VDJsum</td>\n",
       "      <td>TCRD_VDJsum</td>\n",
       "      <td>TCRD_VDJsum</td>\n",
       "      <td>TCRD_VDJsum</td>\n",
       "      <td>TCRD_VDJsum</td>\n",
       "      <td>...</td>\n",
       "      <td>0.118730</td>\n",
       "      <td>0.117828</td>\n",
       "      <td>0.108854</td>\n",
       "      <td>0.281412</td>\n",
       "      <td>0.187114</td>\n",
       "      <td>0.140268</td>\n",
       "      <td>0.252918</td>\n",
       "      <td>0.190594</td>\n",
       "      <td>0.120105</td>\n",
       "      <td>0.450152</td>\n",
       "    </tr>\n",
       "    <tr>\n",
       "      <th>TCRG_VDJsum</th>\n",
       "      <td>TCRG_VDJsum</td>\n",
       "      <td>TCRG_VDJsum</td>\n",
       "      <td>Gene Expression</td>\n",
       "      <td>Gene Expression</td>\n",
       "      <td>Gene Expression</td>\n",
       "      <td>TCRG_VDJsum</td>\n",
       "      <td>TCRG_VDJsum</td>\n",
       "      <td>TCRG_VDJsum</td>\n",
       "      <td>TCRG_VDJsum</td>\n",
       "      <td>TCRG_VDJsum</td>\n",
       "      <td>...</td>\n",
       "      <td>0.139084</td>\n",
       "      <td>0.307601</td>\n",
       "      <td>0.115517</td>\n",
       "      <td>0.814086</td>\n",
       "      <td>1.369574</td>\n",
       "      <td>0.239570</td>\n",
       "      <td>0.438324</td>\n",
       "      <td>0.242226</td>\n",
       "      <td>0.129256</td>\n",
       "      <td>0.399772</td>\n",
       "    </tr>\n",
       "  </tbody>\n",
       "</table>\n",
       "<p>10237 rows × 211 columns</p>\n",
       "</div>"
      ],
      "text/plain": [
       "                        GeneID-2   GeneName-2    feature_types  \\\n",
       "ENSG00000188976  ENSG00000188976        16551              nan   \n",
       "ENSG00000188290  ENSG00000188290        11070              nan   \n",
       "ENSG00000187608  ENSG00000187608        12375              nan   \n",
       "ENSG00000186891  ENSG00000186891        31000              nan   \n",
       "ENSG00000186827  ENSG00000186827        30985              nan   \n",
       "...                          ...          ...              ...   \n",
       "IGL_VDJsum            IGL_VDJsum   IGL_VDJsum  Gene Expression   \n",
       "TCRA_VDJsum          TCRA_VDJsum  TCRA_VDJsum  Gene Expression   \n",
       "TCRB_VDJsum          TCRB_VDJsum  TCRB_VDJsum  Gene Expression   \n",
       "TCRD_VDJsum          TCRD_VDJsum  TCRD_VDJsum  Gene Expression   \n",
       "TCRG_VDJsum          TCRG_VDJsum  TCRG_VDJsum  Gene Expression   \n",
       "\n",
       "                 feature_types-0  feature_types-1       gene_ids-1  \\\n",
       "ENSG00000188976  Gene Expression  Gene Expression  ENSG00000188976   \n",
       "ENSG00000188290  Gene Expression  Gene Expression  ENSG00000188290   \n",
       "ENSG00000187608  Gene Expression  Gene Expression  ENSG00000187608   \n",
       "ENSG00000186891  Gene Expression  Gene Expression  ENSG00000186891   \n",
       "ENSG00000186827  Gene Expression  Gene Expression  ENSG00000186827   \n",
       "...                          ...              ...              ...   \n",
       "IGL_VDJsum       Gene Expression  Gene Expression       IGL_VDJsum   \n",
       "TCRA_VDJsum      Gene Expression  Gene Expression      TCRA_VDJsum   \n",
       "TCRB_VDJsum      Gene Expression  Gene Expression      TCRB_VDJsum   \n",
       "TCRD_VDJsum      Gene Expression  Gene Expression      TCRD_VDJsum   \n",
       "TCRG_VDJsum      Gene Expression  Gene Expression      TCRG_VDJsum   \n",
       "\n",
       "                gene_ids-4861STDY7135913-0 gene_ids-4861STDY7135914-0  \\\n",
       "ENSG00000188976            ENSG00000188976            ENSG00000188976   \n",
       "ENSG00000188290            ENSG00000188290            ENSG00000188290   \n",
       "ENSG00000187608            ENSG00000187608            ENSG00000187608   \n",
       "ENSG00000186891            ENSG00000186891            ENSG00000186891   \n",
       "ENSG00000186827            ENSG00000186827            ENSG00000186827   \n",
       "...                                    ...                        ...   \n",
       "IGL_VDJsum                      IGL_VDJsum                 IGL_VDJsum   \n",
       "TCRA_VDJsum                    TCRA_VDJsum                TCRA_VDJsum   \n",
       "TCRB_VDJsum                    TCRB_VDJsum                TCRB_VDJsum   \n",
       "TCRD_VDJsum                    TCRD_VDJsum                TCRD_VDJsum   \n",
       "TCRG_VDJsum                    TCRG_VDJsum                TCRG_VDJsum   \n",
       "\n",
       "                gene_ids-4861STDY7208412-0 gene_ids-4861STDY7208413-0  ...  \\\n",
       "ENSG00000188976            ENSG00000188976            ENSG00000188976  ...   \n",
       "ENSG00000188290            ENSG00000188290            ENSG00000188290  ...   \n",
       "ENSG00000187608            ENSG00000187608            ENSG00000187608  ...   \n",
       "ENSG00000186891            ENSG00000186891            ENSG00000186891  ...   \n",
       "ENSG00000186827            ENSG00000186827            ENSG00000186827  ...   \n",
       "...                                    ...                        ...  ...   \n",
       "IGL_VDJsum                      IGL_VDJsum                 IGL_VDJsum  ...   \n",
       "TCRA_VDJsum                    TCRA_VDJsum                TCRA_VDJsum  ...   \n",
       "TCRB_VDJsum                    TCRB_VDJsum                TCRB_VDJsum  ...   \n",
       "TCRD_VDJsum                    TCRD_VDJsum                TCRD_VDJsum  ...   \n",
       "TCRG_VDJsum                    TCRG_VDJsum                TCRG_VDJsum  ...   \n",
       "\n",
       "                q95_per_cluster_mu_fg_T_CD4+_TfH  \\\n",
       "ENSG00000188976                         0.241977   \n",
       "ENSG00000188290                         0.124756   \n",
       "ENSG00000187608                         0.598812   \n",
       "ENSG00000186891                         0.102281   \n",
       "ENSG00000186827                         0.247684   \n",
       "...                                          ...   \n",
       "IGL_VDJsum                              0.235134   \n",
       "TCRA_VDJsum                             2.493088   \n",
       "TCRB_VDJsum                             2.778737   \n",
       "TCRD_VDJsum                             0.118730   \n",
       "TCRG_VDJsum                             0.139084   \n",
       "\n",
       "                q95_per_cluster_mu_fg_T_CD4+_TfH_GC  \\\n",
       "ENSG00000188976                            0.220873   \n",
       "ENSG00000188290                            0.122058   \n",
       "ENSG00000187608                            0.712985   \n",
       "ENSG00000186891                            0.442971   \n",
       "ENSG00000186827                            0.899577   \n",
       "...                                             ...   \n",
       "IGL_VDJsum                                 1.383053   \n",
       "TCRA_VDJsum                                2.777368   \n",
       "TCRB_VDJsum                                2.771349   \n",
       "TCRD_VDJsum                                0.117828   \n",
       "TCRG_VDJsum                                0.307601   \n",
       "\n",
       "                q95_per_cluster_mu_fg_T_CD4+_naive  \\\n",
       "ENSG00000188976                           0.271657   \n",
       "ENSG00000188290                           0.122548   \n",
       "ENSG00000187608                           0.661332   \n",
       "ENSG00000186891                           0.099667   \n",
       "ENSG00000186827                           0.112622   \n",
       "...                                            ...   \n",
       "IGL_VDJsum                                0.240036   \n",
       "TCRA_VDJsum                               2.597980   \n",
       "TCRB_VDJsum                               2.805124   \n",
       "TCRD_VDJsum                               0.108854   \n",
       "TCRG_VDJsum                               0.115517   \n",
       "\n",
       "                q95_per_cluster_mu_fg_T_CD8+_CD161+  \\\n",
       "ENSG00000188976                            0.256542   \n",
       "ENSG00000188290                            0.161887   \n",
       "ENSG00000187608                            0.609524   \n",
       "ENSG00000186891                            0.164658   \n",
       "ENSG00000186827                            0.229640   \n",
       "...                                             ...   \n",
       "IGL_VDJsum                                 0.218562   \n",
       "TCRA_VDJsum                                1.985218   \n",
       "TCRB_VDJsum                                2.363140   \n",
       "TCRD_VDJsum                                0.281412   \n",
       "TCRG_VDJsum                                0.814086   \n",
       "\n",
       "                q95_per_cluster_mu_fg_T_CD8+_cytotoxic  \\\n",
       "ENSG00000188976                               0.245583   \n",
       "ENSG00000188290                               0.109285   \n",
       "ENSG00000187608                               0.839033   \n",
       "ENSG00000186891                               0.112689   \n",
       "ENSG00000186827                               0.112402   \n",
       "...                                                ...   \n",
       "IGL_VDJsum                                    0.287157   \n",
       "TCRA_VDJsum                                   2.637631   \n",
       "TCRB_VDJsum                                   2.723977   \n",
       "TCRD_VDJsum                                   0.187114   \n",
       "TCRG_VDJsum                                   1.369574   \n",
       "\n",
       "                 q95_per_cluster_mu_fg_T_CD8+_naive  \\\n",
       "ENSG00000188976                            0.330157   \n",
       "ENSG00000188290                            0.129835   \n",
       "ENSG00000187608                            0.849777   \n",
       "ENSG00000186891                            0.119993   \n",
       "ENSG00000186827                            0.123714   \n",
       "...                                             ...   \n",
       "IGL_VDJsum                                 0.326126   \n",
       "TCRA_VDJsum                                2.445322   \n",
       "TCRB_VDJsum                                2.737353   \n",
       "TCRD_VDJsum                                0.140268   \n",
       "TCRG_VDJsum                                0.239570   \n",
       "\n",
       "                 q95_per_cluster_mu_fg_T_TIM3+  q95_per_cluster_mu_fg_T_TfR  \\\n",
       "ENSG00000188976                       0.369625                     0.300570   \n",
       "ENSG00000188290                       0.284631                     0.518521   \n",
       "ENSG00000187608                       1.620152                     0.936290   \n",
       "ENSG00000186891                       0.389571                     1.398804   \n",
       "ENSG00000186827                       0.519009                     1.970021   \n",
       "...                                        ...                          ...   \n",
       "IGL_VDJsum                            0.653410                     1.415578   \n",
       "TCRA_VDJsum                           2.180436                     2.701006   \n",
       "TCRB_VDJsum                           2.522470                     2.777698   \n",
       "TCRD_VDJsum                           0.252918                     0.190594   \n",
       "TCRG_VDJsum                           0.438324                     0.242226   \n",
       "\n",
       "                 q95_per_cluster_mu_fg_T_Treg  q95_per_cluster_mu_fg_VSMC  \n",
       "ENSG00000188976                      0.264159                    0.533107  \n",
       "ENSG00000188290                      0.157118                    1.232423  \n",
       "ENSG00000187608                      0.693949                    0.773382  \n",
       "ENSG00000186891                      0.583472                    0.402142  \n",
       "ENSG00000186827                      1.144270                    0.387782  \n",
       "...                                       ...                         ...  \n",
       "IGL_VDJsum                           0.206471                    0.440599  \n",
       "TCRA_VDJsum                          2.722843                    0.773979  \n",
       "TCRB_VDJsum                          2.769031                    0.621678  \n",
       "TCRD_VDJsum                          0.120105                    0.450152  \n",
       "TCRG_VDJsum                          0.129256                    0.399772  \n",
       "\n",
       "[10237 rows x 211 columns]"
      ]
     },
     "execution_count": 10,
     "metadata": {},
     "output_type": "execute_result"
    }
   ],
   "source": [
    "adata_snrna_raw.var"
   ]
  },
  {
   "cell_type": "code",
   "execution_count": 11,
   "metadata": {},
   "outputs": [
    {
     "data": {
      "text/html": [
       "<div>\n",
       "<style scoped>\n",
       "    .dataframe tbody tr th:only-of-type {\n",
       "        vertical-align: middle;\n",
       "    }\n",
       "\n",
       "    .dataframe tbody tr th {\n",
       "        vertical-align: top;\n",
       "    }\n",
       "\n",
       "    .dataframe thead th {\n",
       "        text-align: right;\n",
       "    }\n",
       "</style>\n",
       "<table border=\"1\" class=\"dataframe\">\n",
       "  <thead>\n",
       "    <tr style=\"text-align: right;\">\n",
       "      <th></th>\n",
       "      <th>B_Cycling</th>\n",
       "      <th>B_GC_DZ</th>\n",
       "      <th>B_GC_LZ</th>\n",
       "      <th>B_GC_prePB</th>\n",
       "      <th>B_IFN</th>\n",
       "      <th>B_activated</th>\n",
       "      <th>B_mem</th>\n",
       "      <th>B_naive</th>\n",
       "      <th>B_plasma</th>\n",
       "      <th>B_preGC</th>\n",
       "      <th>...</th>\n",
       "      <th>T_CD4+_TfH</th>\n",
       "      <th>T_CD4+_TfH_GC</th>\n",
       "      <th>T_CD4+_naive</th>\n",
       "      <th>T_CD8+_CD161+</th>\n",
       "      <th>T_CD8+_cytotoxic</th>\n",
       "      <th>T_CD8+_naive</th>\n",
       "      <th>T_TIM3+</th>\n",
       "      <th>T_TfR</th>\n",
       "      <th>T_Treg</th>\n",
       "      <th>VSMC</th>\n",
       "    </tr>\n",
       "  </thead>\n",
       "  <tbody>\n",
       "    <tr>\n",
       "      <th>ENSG00000188976</th>\n",
       "      <td>0.229351</td>\n",
       "      <td>0.243498</td>\n",
       "      <td>0.277362</td>\n",
       "      <td>0.385799</td>\n",
       "      <td>0.254808</td>\n",
       "      <td>0.219754</td>\n",
       "      <td>0.199958</td>\n",
       "      <td>0.208480</td>\n",
       "      <td>0.173960</td>\n",
       "      <td>0.391216</td>\n",
       "      <td>...</td>\n",
       "      <td>0.214298</td>\n",
       "      <td>0.195658</td>\n",
       "      <td>0.234165</td>\n",
       "      <td>0.216226</td>\n",
       "      <td>0.215033</td>\n",
       "      <td>0.292770</td>\n",
       "      <td>0.306428</td>\n",
       "      <td>0.253886</td>\n",
       "      <td>0.227933</td>\n",
       "      <td>0.375727</td>\n",
       "    </tr>\n",
       "    <tr>\n",
       "      <th>ENSG00000188290</th>\n",
       "      <td>0.086322</td>\n",
       "      <td>0.099840</td>\n",
       "      <td>0.091404</td>\n",
       "      <td>0.241213</td>\n",
       "      <td>0.208381</td>\n",
       "      <td>0.097752</td>\n",
       "      <td>0.173526</td>\n",
       "      <td>0.088101</td>\n",
       "      <td>0.123394</td>\n",
       "      <td>0.182257</td>\n",
       "      <td>...</td>\n",
       "      <td>0.108234</td>\n",
       "      <td>0.106043</td>\n",
       "      <td>0.108585</td>\n",
       "      <td>0.141272</td>\n",
       "      <td>0.093561</td>\n",
       "      <td>0.114265</td>\n",
       "      <td>0.239808</td>\n",
       "      <td>0.467340</td>\n",
       "      <td>0.140644</td>\n",
       "      <td>1.038931</td>\n",
       "    </tr>\n",
       "    <tr>\n",
       "      <th>ENSG00000187608</th>\n",
       "      <td>0.267707</td>\n",
       "      <td>0.282124</td>\n",
       "      <td>0.336960</td>\n",
       "      <td>0.597365</td>\n",
       "      <td>1.971589</td>\n",
       "      <td>0.286917</td>\n",
       "      <td>0.438028</td>\n",
       "      <td>0.296980</td>\n",
       "      <td>0.292941</td>\n",
       "      <td>0.264833</td>\n",
       "      <td>...</td>\n",
       "      <td>0.545755</td>\n",
       "      <td>0.633951</td>\n",
       "      <td>0.609610</td>\n",
       "      <td>0.555171</td>\n",
       "      <td>0.765649</td>\n",
       "      <td>0.776061</td>\n",
       "      <td>1.488391</td>\n",
       "      <td>0.874796</td>\n",
       "      <td>0.635488</td>\n",
       "      <td>0.545962</td>\n",
       "    </tr>\n",
       "    <tr>\n",
       "      <th>ENSG00000186891</th>\n",
       "      <td>0.089127</td>\n",
       "      <td>0.099220</td>\n",
       "      <td>0.118642</td>\n",
       "      <td>0.238802</td>\n",
       "      <td>0.197362</td>\n",
       "      <td>0.092736</td>\n",
       "      <td>0.086386</td>\n",
       "      <td>0.087292</td>\n",
       "      <td>0.170267</td>\n",
       "      <td>0.240983</td>\n",
       "      <td>...</td>\n",
       "      <td>0.091433</td>\n",
       "      <td>0.395693</td>\n",
       "      <td>0.087674</td>\n",
       "      <td>0.142192</td>\n",
       "      <td>0.097218</td>\n",
       "      <td>0.102663</td>\n",
       "      <td>0.338369</td>\n",
       "      <td>1.262444</td>\n",
       "      <td>0.515189</td>\n",
       "      <td>0.282551</td>\n",
       "    </tr>\n",
       "    <tr>\n",
       "      <th>ENSG00000186827</th>\n",
       "      <td>0.087101</td>\n",
       "      <td>0.099561</td>\n",
       "      <td>0.092668</td>\n",
       "      <td>0.236563</td>\n",
       "      <td>0.191120</td>\n",
       "      <td>0.090922</td>\n",
       "      <td>0.087757</td>\n",
       "      <td>0.088394</td>\n",
       "      <td>0.144390</td>\n",
       "      <td>0.198110</td>\n",
       "      <td>...</td>\n",
       "      <td>0.214280</td>\n",
       "      <td>0.826586</td>\n",
       "      <td>0.098163</td>\n",
       "      <td>0.198598</td>\n",
       "      <td>0.098325</td>\n",
       "      <td>0.103032</td>\n",
       "      <td>0.416433</td>\n",
       "      <td>1.798986</td>\n",
       "      <td>1.046231</td>\n",
       "      <td>0.286346</td>\n",
       "    </tr>\n",
       "    <tr>\n",
       "      <th>...</th>\n",
       "      <td>...</td>\n",
       "      <td>...</td>\n",
       "      <td>...</td>\n",
       "      <td>...</td>\n",
       "      <td>...</td>\n",
       "      <td>...</td>\n",
       "      <td>...</td>\n",
       "      <td>...</td>\n",
       "      <td>...</td>\n",
       "      <td>...</td>\n",
       "      <td>...</td>\n",
       "      <td>...</td>\n",
       "      <td>...</td>\n",
       "      <td>...</td>\n",
       "      <td>...</td>\n",
       "      <td>...</td>\n",
       "      <td>...</td>\n",
       "      <td>...</td>\n",
       "      <td>...</td>\n",
       "      <td>...</td>\n",
       "      <td>...</td>\n",
       "    </tr>\n",
       "    <tr>\n",
       "      <th>IGL_VDJsum</th>\n",
       "      <td>2.621153</td>\n",
       "      <td>2.626175</td>\n",
       "      <td>2.619864</td>\n",
       "      <td>2.237828</td>\n",
       "      <td>2.145944</td>\n",
       "      <td>2.624726</td>\n",
       "      <td>2.628756</td>\n",
       "      <td>2.618253</td>\n",
       "      <td>2.633940</td>\n",
       "      <td>2.476601</td>\n",
       "      <td>...</td>\n",
       "      <td>0.200984</td>\n",
       "      <td>1.266761</td>\n",
       "      <td>0.211738</td>\n",
       "      <td>0.181544</td>\n",
       "      <td>0.247241</td>\n",
       "      <td>0.293769</td>\n",
       "      <td>0.565243</td>\n",
       "      <td>1.325310</td>\n",
       "      <td>0.180653</td>\n",
       "      <td>0.309130</td>\n",
       "    </tr>\n",
       "    <tr>\n",
       "      <th>TCRA_VDJsum</th>\n",
       "      <td>0.092608</td>\n",
       "      <td>0.103198</td>\n",
       "      <td>0.100627</td>\n",
       "      <td>0.259914</td>\n",
       "      <td>0.186857</td>\n",
       "      <td>0.090218</td>\n",
       "      <td>0.088630</td>\n",
       "      <td>0.087658</td>\n",
       "      <td>0.144665</td>\n",
       "      <td>0.189002</td>\n",
       "      <td>...</td>\n",
       "      <td>2.355962</td>\n",
       "      <td>2.616072</td>\n",
       "      <td>2.469628</td>\n",
       "      <td>1.839927</td>\n",
       "      <td>2.492292</td>\n",
       "      <td>2.311580</td>\n",
       "      <td>2.000322</td>\n",
       "      <td>2.500326</td>\n",
       "      <td>2.567486</td>\n",
       "      <td>0.552120</td>\n",
       "    </tr>\n",
       "    <tr>\n",
       "      <th>TCRB_VDJsum</th>\n",
       "      <td>0.131235</td>\n",
       "      <td>0.114625</td>\n",
       "      <td>0.115657</td>\n",
       "      <td>0.231190</td>\n",
       "      <td>0.204289</td>\n",
       "      <td>0.101372</td>\n",
       "      <td>0.088315</td>\n",
       "      <td>0.087008</td>\n",
       "      <td>0.206806</td>\n",
       "      <td>0.188156</td>\n",
       "      <td>...</td>\n",
       "      <td>2.616274</td>\n",
       "      <td>2.624348</td>\n",
       "      <td>2.624984</td>\n",
       "      <td>2.243723</td>\n",
       "      <td>2.615201</td>\n",
       "      <td>2.609077</td>\n",
       "      <td>2.386324</td>\n",
       "      <td>2.629483</td>\n",
       "      <td>2.622057</td>\n",
       "      <td>0.435909</td>\n",
       "    </tr>\n",
       "    <tr>\n",
       "      <th>TCRD_VDJsum</th>\n",
       "      <td>0.086693</td>\n",
       "      <td>0.100200</td>\n",
       "      <td>0.091058</td>\n",
       "      <td>0.226723</td>\n",
       "      <td>0.188921</td>\n",
       "      <td>0.090260</td>\n",
       "      <td>0.086582</td>\n",
       "      <td>0.088858</td>\n",
       "      <td>0.123475</td>\n",
       "      <td>0.177205</td>\n",
       "      <td>...</td>\n",
       "      <td>0.102261</td>\n",
       "      <td>0.101821</td>\n",
       "      <td>0.093130</td>\n",
       "      <td>0.247500</td>\n",
       "      <td>0.157609</td>\n",
       "      <td>0.123883</td>\n",
       "      <td>0.220922</td>\n",
       "      <td>0.163393</td>\n",
       "      <td>0.105471</td>\n",
       "      <td>0.288697</td>\n",
       "    </tr>\n",
       "    <tr>\n",
       "      <th>TCRG_VDJsum</th>\n",
       "      <td>0.086231</td>\n",
       "      <td>0.107531</td>\n",
       "      <td>0.099452</td>\n",
       "      <td>0.246484</td>\n",
       "      <td>0.203212</td>\n",
       "      <td>0.095407</td>\n",
       "      <td>0.088536</td>\n",
       "      <td>0.089065</td>\n",
       "      <td>0.134945</td>\n",
       "      <td>0.179712</td>\n",
       "      <td>...</td>\n",
       "      <td>0.121863</td>\n",
       "      <td>0.269898</td>\n",
       "      <td>0.095843</td>\n",
       "      <td>0.747542</td>\n",
       "      <td>1.264783</td>\n",
       "      <td>0.210456</td>\n",
       "      <td>0.385844</td>\n",
       "      <td>0.218796</td>\n",
       "      <td>0.108675</td>\n",
       "      <td>0.284350</td>\n",
       "    </tr>\n",
       "  </tbody>\n",
       "</table>\n",
       "<p>10237 rows × 34 columns</p>\n",
       "</div>"
      ],
      "text/plain": [
       "                 B_Cycling   B_GC_DZ   B_GC_LZ  B_GC_prePB     B_IFN  \\\n",
       "ENSG00000188976   0.229351  0.243498  0.277362    0.385799  0.254808   \n",
       "ENSG00000188290   0.086322  0.099840  0.091404    0.241213  0.208381   \n",
       "ENSG00000187608   0.267707  0.282124  0.336960    0.597365  1.971589   \n",
       "ENSG00000186891   0.089127  0.099220  0.118642    0.238802  0.197362   \n",
       "ENSG00000186827   0.087101  0.099561  0.092668    0.236563  0.191120   \n",
       "...                    ...       ...       ...         ...       ...   \n",
       "IGL_VDJsum        2.621153  2.626175  2.619864    2.237828  2.145944   \n",
       "TCRA_VDJsum       0.092608  0.103198  0.100627    0.259914  0.186857   \n",
       "TCRB_VDJsum       0.131235  0.114625  0.115657    0.231190  0.204289   \n",
       "TCRD_VDJsum       0.086693  0.100200  0.091058    0.226723  0.188921   \n",
       "TCRG_VDJsum       0.086231  0.107531  0.099452    0.246484  0.203212   \n",
       "\n",
       "                 B_activated     B_mem   B_naive  B_plasma   B_preGC  ...  \\\n",
       "ENSG00000188976     0.219754  0.199958  0.208480  0.173960  0.391216  ...   \n",
       "ENSG00000188290     0.097752  0.173526  0.088101  0.123394  0.182257  ...   \n",
       "ENSG00000187608     0.286917  0.438028  0.296980  0.292941  0.264833  ...   \n",
       "ENSG00000186891     0.092736  0.086386  0.087292  0.170267  0.240983  ...   \n",
       "ENSG00000186827     0.090922  0.087757  0.088394  0.144390  0.198110  ...   \n",
       "...                      ...       ...       ...       ...       ...  ...   \n",
       "IGL_VDJsum          2.624726  2.628756  2.618253  2.633940  2.476601  ...   \n",
       "TCRA_VDJsum         0.090218  0.088630  0.087658  0.144665  0.189002  ...   \n",
       "TCRB_VDJsum         0.101372  0.088315  0.087008  0.206806  0.188156  ...   \n",
       "TCRD_VDJsum         0.090260  0.086582  0.088858  0.123475  0.177205  ...   \n",
       "TCRG_VDJsum         0.095407  0.088536  0.089065  0.134945  0.179712  ...   \n",
       "\n",
       "                 T_CD4+_TfH  T_CD4+_TfH_GC  T_CD4+_naive  T_CD8+_CD161+  \\\n",
       "ENSG00000188976    0.214298       0.195658      0.234165       0.216226   \n",
       "ENSG00000188290    0.108234       0.106043      0.108585       0.141272   \n",
       "ENSG00000187608    0.545755       0.633951      0.609610       0.555171   \n",
       "ENSG00000186891    0.091433       0.395693      0.087674       0.142192   \n",
       "ENSG00000186827    0.214280       0.826586      0.098163       0.198598   \n",
       "...                     ...            ...           ...            ...   \n",
       "IGL_VDJsum         0.200984       1.266761      0.211738       0.181544   \n",
       "TCRA_VDJsum        2.355962       2.616072      2.469628       1.839927   \n",
       "TCRB_VDJsum        2.616274       2.624348      2.624984       2.243723   \n",
       "TCRD_VDJsum        0.102261       0.101821      0.093130       0.247500   \n",
       "TCRG_VDJsum        0.121863       0.269898      0.095843       0.747542   \n",
       "\n",
       "                 T_CD8+_cytotoxic  T_CD8+_naive   T_TIM3+     T_TfR    T_Treg  \\\n",
       "ENSG00000188976          0.215033      0.292770  0.306428  0.253886  0.227933   \n",
       "ENSG00000188290          0.093561      0.114265  0.239808  0.467340  0.140644   \n",
       "ENSG00000187608          0.765649      0.776061  1.488391  0.874796  0.635488   \n",
       "ENSG00000186891          0.097218      0.102663  0.338369  1.262444  0.515189   \n",
       "ENSG00000186827          0.098325      0.103032  0.416433  1.798986  1.046231   \n",
       "...                           ...           ...       ...       ...       ...   \n",
       "IGL_VDJsum               0.247241      0.293769  0.565243  1.325310  0.180653   \n",
       "TCRA_VDJsum              2.492292      2.311580  2.000322  2.500326  2.567486   \n",
       "TCRB_VDJsum              2.615201      2.609077  2.386324  2.629483  2.622057   \n",
       "TCRD_VDJsum              0.157609      0.123883  0.220922  0.163393  0.105471   \n",
       "TCRG_VDJsum              1.264783      0.210456  0.385844  0.218796  0.108675   \n",
       "\n",
       "                     VSMC  \n",
       "ENSG00000188976  0.375727  \n",
       "ENSG00000188290  1.038931  \n",
       "ENSG00000187608  0.545962  \n",
       "ENSG00000186891  0.282551  \n",
       "ENSG00000186827  0.286346  \n",
       "...                   ...  \n",
       "IGL_VDJsum       0.309130  \n",
       "TCRA_VDJsum      0.552120  \n",
       "TCRB_VDJsum      0.435909  \n",
       "TCRD_VDJsum      0.288697  \n",
       "TCRG_VDJsum      0.284350  \n",
       "\n",
       "[10237 rows x 34 columns]"
      ]
     },
     "execution_count": 11,
     "metadata": {},
     "output_type": "execute_result"
    }
   ],
   "source": [
    "# export estimated expression in each cluster\n",
    "inf_aver = adata_snrna_raw.var[[f'means_per_cluster_mu_fg_{i}' \n",
    "                                for i in adata_snrna_raw.uns['mod']['factor_names']]].copy()\n",
    "inf_aver.columns = adata_snrna_raw.uns['mod']['factor_names']\n",
    "inf_aver"
   ]
  },
  {
   "cell_type": "markdown",
   "metadata": {},
   "source": [
    "## Train scvi-cell2location <a class=\"anchor\" id=\"scvi-cell2location\"></a>"
   ]
  },
  {
   "cell_type": "code",
   "execution_count": 12,
   "metadata": {},
   "outputs": [],
   "source": [
    "# rename genes to ENSEMBL\n",
    "adata_vis.var['SYMBOL'] = adata_vis.var_names\n",
    "adata_vis.var_names = adata_vis.var['gene_ids']\n",
    "adata_vis.var_names.name = None"
   ]
  },
  {
   "cell_type": "code",
   "execution_count": 13,
   "metadata": {},
   "outputs": [
    {
     "name": "stderr",
     "output_type": "stream",
     "text": [
      "/nfs/team283/vk7/software/miniconda3farm5/envs/scvi-env2/lib/python3.7/site-packages/pandas/core/arrays/categorical.py:2487: FutureWarning: The `inplace` parameter in pandas.Categorical.remove_unused_categories is deprecated and will be removed in a future version.\n",
      "  res = method(*args, **kwargs)\n"
     ]
    },
    {
     "name": "stdout",
     "output_type": "stream",
     "text": [
      "\u001b[34mINFO    \u001b[0m Using batches from adata.obs\u001b[1m[\u001b[0m\u001b[32m\"sample\"\u001b[0m\u001b[1m]\u001b[0m                                              \n",
      "\u001b[34mINFO    \u001b[0m No label_key inputted, assuming all cells have same label                           \n",
      "\u001b[34mINFO    \u001b[0m Using data from adata.X                                                             \n",
      "\u001b[34mINFO    \u001b[0m Computing library size prior per batch                                              \n",
      "\u001b[34mINFO    \u001b[0m Successfully registered anndata object containing \u001b[1;34m4035\u001b[0m cells, \u001b[1;34m10217\u001b[0m vars, \u001b[1;34m1\u001b[0m batches,\n",
      "         \u001b[1;34m1\u001b[0m labels, and \u001b[1;34m0\u001b[0m proteins. Also registered \u001b[1;34m0\u001b[0m extra categorical covariates and \u001b[1;34m0\u001b[0m extra\n",
      "         continuous covariates.                                                              \n",
      "\u001b[34mINFO    \u001b[0m Please do not further modify adata until model is trained.                          \n"
     ]
    },
    {
     "name": "stderr",
     "output_type": "stream",
     "text": [
      "/nfs/team283/vk7/software/miniconda3farm5/envs/scvi-env2/lib/python3.7/site-packages/pandas/core/arrays/categorical.py:2487: FutureWarning: The `inplace` parameter in pandas.Categorical.remove_unused_categories is deprecated and will be removed in a future version.\n",
      "  res = method(*args, **kwargs)\n"
     ]
    },
    {
     "data": {
      "text/html": [
       "<pre style=\"white-space:pre;overflow-x:auto;line-height:normal;font-family:Menlo,'DejaVu Sans Mono',consolas,'Courier New',monospace\">Anndata setup with scvi-tools version <span style=\"color: #000080; font-weight: bold\">0.0</span>.<span style=\"color: #000080; font-weight: bold\">0</span>.\n",
       "</pre>\n"
      ],
      "text/plain": [
       "<rich.jupyter.JupyterRenderable at 0x153adb51b990>"
      ]
     },
     "metadata": {},
     "output_type": "display_data"
    },
    {
     "data": {
      "text/html": [
       "<pre style=\"white-space:pre;overflow-x:auto;line-height:normal;font-family:Menlo,'DejaVu Sans Mono',consolas,'Courier New',monospace\"><span style=\"font-style: italic\">              Data Summary              </span>\n",
       "┏━━━━━━━━━━━━━━━━━━━━━━━━━━━━━━┳━━━━━━━┓\n",
       "┃<span style=\"font-weight: bold\">             Data             </span>┃<span style=\"font-weight: bold\"> Count </span>┃\n",
       "┡━━━━━━━━━━━━━━━━━━━━━━━━━━━━━━╇━━━━━━━┩\n",
       "│<span style=\"color: #0087ff\">            Cells             </span>│<span style=\"color: #af00d7\"> 4035  </span>│\n",
       "│<span style=\"color: #0087ff\">             Vars             </span>│<span style=\"color: #af00d7\"> 10217 </span>│\n",
       "│<span style=\"color: #0087ff\">            Labels            </span>│<span style=\"color: #af00d7\">   1   </span>│\n",
       "│<span style=\"color: #0087ff\">           Batches            </span>│<span style=\"color: #af00d7\">   1   </span>│\n",
       "│<span style=\"color: #0087ff\">           Proteins           </span>│<span style=\"color: #af00d7\">   0   </span>│\n",
       "│<span style=\"color: #0087ff\"> Extra Categorical Covariates </span>│<span style=\"color: #af00d7\">   0   </span>│\n",
       "│<span style=\"color: #0087ff\"> Extra Continuous Covariates  </span>│<span style=\"color: #af00d7\">   0   </span>│\n",
       "└──────────────────────────────┴───────┘\n",
       "</pre>\n"
      ],
      "text/plain": [
       "<rich.jupyter.JupyterRenderable at 0x153adb588e50>"
      ]
     },
     "metadata": {},
     "output_type": "display_data"
    },
    {
     "data": {
      "text/html": [
       "<pre style=\"white-space:pre;overflow-x:auto;line-height:normal;font-family:Menlo,'DejaVu Sans Mono',consolas,'Courier New',monospace\"><span style=\"font-style: italic\">                SCVI Data Registry                 </span>\n",
       "┏━━━━━━━━━━━━━━━┳━━━━━━━━━━━━━━━━━━━━━━━━━━━━━━━━━┓\n",
       "┃<span style=\"font-weight: bold\">     Data      </span>┃<span style=\"font-weight: bold\">       scvi-tools Location       </span>┃\n",
       "┡━━━━━━━━━━━━━━━╇━━━━━━━━━━━━━━━━━━━━━━━━━━━━━━━━━┩\n",
       "│<span style=\"color: #0087ff\">       X       </span>│<span style=\"color: #af00d7\">             adata.X             </span>│\n",
       "│<span style=\"color: #0087ff\"> batch_indices </span>│<span style=\"color: #af00d7\">    adata.obs['_scvi_batch']     </span>│\n",
       "│<span style=\"color: #0087ff\"> local_l_mean  </span>│<span style=\"color: #af00d7\"> adata.obs['_scvi_local_l_mean'] </span>│\n",
       "│<span style=\"color: #0087ff\">  local_l_var  </span>│<span style=\"color: #af00d7\"> adata.obs['_scvi_local_l_var']  </span>│\n",
       "│<span style=\"color: #0087ff\">    labels     </span>│<span style=\"color: #af00d7\">    adata.obs['_scvi_labels']    </span>│\n",
       "└───────────────┴─────────────────────────────────┘\n",
       "</pre>\n"
      ],
      "text/plain": [
       "<rich.jupyter.JupyterRenderable at 0x153adb588e50>"
      ]
     },
     "metadata": {},
     "output_type": "display_data"
    },
    {
     "data": {
      "text/html": [
       "<pre style=\"white-space:pre;overflow-x:auto;line-height:normal;font-family:Menlo,'DejaVu Sans Mono',consolas,'Courier New',monospace\"><span style=\"font-style: italic\">                        Label Categories                        </span>\n",
       "┏━━━━━━━━━━━━━━━━━━━━━━━━━━━┳━━━━━━━━━━━━┳━━━━━━━━━━━━━━━━━━━━━┓\n",
       "┃<span style=\"font-weight: bold\">      Source Location      </span>┃<span style=\"font-weight: bold\"> Categories </span>┃<span style=\"font-weight: bold\"> scvi-tools Encoding </span>┃\n",
       "┡━━━━━━━━━━━━━━━━━━━━━━━━━━━╇━━━━━━━━━━━━╇━━━━━━━━━━━━━━━━━━━━━┩\n",
       "│<span style=\"color: #0087ff\"> adata.obs['_scvi_labels'] </span>│<span style=\"color: #008000\">     0      </span>│<span style=\"color: #af00d7\">          0          </span>│\n",
       "└───────────────────────────┴────────────┴─────────────────────┘\n",
       "</pre>\n"
      ],
      "text/plain": [
       "<rich.jupyter.JupyterRenderable at 0x153adb514110>"
      ]
     },
     "metadata": {},
     "output_type": "display_data"
    },
    {
     "data": {
      "text/html": [
       "<pre style=\"white-space:pre;overflow-x:auto;line-height:normal;font-family:Menlo,'DejaVu Sans Mono',consolas,'Courier New',monospace\"><span style=\"font-style: italic\">                         Batch Categories                          </span>\n",
       "┏━━━━━━━━━━━━━━━━━━━━━┳━━━━━━━━━━━━━━━━━━━━━┳━━━━━━━━━━━━━━━━━━━━━┓\n",
       "┃<span style=\"font-weight: bold\">   Source Location   </span>┃<span style=\"font-weight: bold\">     Categories      </span>┃<span style=\"font-weight: bold\"> scvi-tools Encoding </span>┃\n",
       "┡━━━━━━━━━━━━━━━━━━━━━╇━━━━━━━━━━━━━━━━━━━━━╇━━━━━━━━━━━━━━━━━━━━━┩\n",
       "│<span style=\"color: #0087ff\"> adata.obs['sample'] </span>│<span style=\"color: #008000\"> V1_Human_Lymph_Node </span>│<span style=\"color: #af00d7\">          0          </span>│\n",
       "└─────────────────────┴─────────────────────┴─────────────────────┘\n",
       "</pre>\n"
      ],
      "text/plain": [
       "<rich.jupyter.JupyterRenderable at 0x153ae2581550>"
      ]
     },
     "metadata": {},
     "output_type": "display_data"
    }
   ],
   "source": [
    "# find shared genes and subset both anndata and reference signatures\n",
    "intersect = np.intersect1d(adata_vis.var_names, inf_aver.index)\n",
    "adata_vis = adata_vis[:, intersect].copy()\n",
    "inf_aver = inf_aver.loc[intersect, :].copy()\n",
    "\n",
    "# prepare anndata for scVI model\n",
    "scvi.data.setup_anndata(adata=adata_vis, batch_key=\"sample\")\n",
    "scvi.data.view_anndata_setup(adata_vis)"
   ]
  },
  {
   "cell_type": "code",
   "execution_count": 16,
   "metadata": {
    "scrolled": false
   },
   "outputs": [
    {
     "name": "stderr",
     "output_type": "stream",
     "text": [
      "GPU available: True, used: True\n",
      "TPU available: False, using: 0 TPU cores\n",
      "/nfs/team283/vk7/software/miniconda3farm5/envs/scvi-env2/lib/python3.7/site-packages/pytorch_lightning/utilities/distributed.py:69: UserWarning: you passed in a val_dataloader but have no validation_step. Skipping val loop\n",
      "  warnings.warn(*args, **kwargs)\n",
      "LOCAL_RANK: 0 - CUDA_VISIBLE_DEVICES: [0]\n"
     ]
    },
    {
     "name": "stdout",
     "output_type": "stream",
     "text": [
      "Epoch 1/700:   0%|          | 0/700 [00:00<?, ?it/s]"
     ]
    },
    {
     "name": "stderr",
     "output_type": "stream",
     "text": [
      "/nfs/team283/vk7/software/miniconda3farm5/envs/scvi-env2/lib/python3.7/site-packages/pytorch_lightning/utilities/distributed.py:69: UserWarning: `LightningModule.configure_optimizers` returned `None`, this fit will run with no optimizer\n",
      "  warnings.warn(*args, **kwargs)\n"
     ]
    },
    {
     "name": "stdout",
     "output_type": "stream",
     "text": [
      "Epoch 1/700:   0%|          | 0/700 [18:15<?, ?it/s].97it/s, v_num=1, train_loss_step=7.52e+7, train_loss_epoch=7.6e+7]\n",
      "Epoch 700/700: 100%|██████████| 700/700 [06:05<00:00,  1.91it/s, v_num=1, train_loss_step=4.11e+7, train_loss_epoch=4.12e+7]\n"
     ]
    },
    {
     "data": {
      "image/png": "[encoded data removed]",
      "text/plain": [
       "<Figure size 432x288 with 1 Axes>"
      ]
     },
     "metadata": {
      "needs_background": "light"
     },
     "output_type": "display_data"
    }
   ],
   "source": [
    "# create and train the model\n",
    "mod = scvi.external.Cell2location(\n",
    "    adata_vis, cell_state_df=inf_aver, \n",
    "    amortised=True, single_encoder=True,\n",
    "    encoder_kwargs={'dropout_rate': 0.2},\n",
    "    # the expected average cell abundance - user-provided, tissue-dependent hyper-prior:\n",
    "    N_cells_per_location=30) \n",
    "\n",
    "mod.train(max_epochs=700, \n",
    "          batch_size=2020, \n",
    "          plan_kwargs={\"optim_kwargs\": {\"lr\": 0.01}},\n",
    "          use_gpu=True)\n",
    "\n",
    "# plot ELBO loss history during training, removing first 100 epochs from the plot\n",
    "mod.plot_history(100)\n",
    "plt.legend(labels=['minibatch 2020/4039']);"
   ]
  },
  {
   "cell_type": "code",
   "execution_count": null,
   "metadata": {},
   "outputs": [],
   "source": [
    "# In this section, we export the estimated cell abundance (summary of the posterior distribution).\n",
    "adata_vis = mod.export_posterior(\n",
    "    adata_vis, sample_kwargs={'num_samples': 1000, 'batch_size': 2020, 'use_gpu': True}\n",
    ")\n",
    "\n",
    "# Save model\n",
    "mod.save(f\"{scvi_run_name}\", overwrite=True)\n",
    "# can be loaded later like this:\n",
    "# mod = scvi.external.Cell2location.load(f\"{scvi_run_name}\", adata_vis)\n",
    "\n",
    "# Save anndata object with results\n",
    "adata_file = f\"{scvi_run_name}/sp.h5ad\"\n",
    "adata_vis.write(adata_file)\n",
    "adata_file"
   ]
  },
  {
   "cell_type": "code",
   "execution_count": null,
   "metadata": {},
   "outputs": [],
   "source": [
    "# Examine reconstruction accuracy to assess if there are any issues with mapping\n",
    "# the plot should be roughly diagonal, strong deviations will signal problems\n",
    "mod.plot_QC()"
   ]
  },
  {
   "cell_type": "markdown",
   "metadata": {},
   "source": [
    "### Plot cell abundance in spatial coordinates"
   ]
  },
  {
   "cell_type": "code",
   "execution_count": null,
   "metadata": {},
   "outputs": [],
   "source": [
    "# add 5% quantile, representing confident cell abundance, 'at least this amount is present', \n",
    "# to adata.obs with nice names for plotting\n",
    "adata_vis.obs[adata_vis.uns['mod']['factor_names']] = adata_vis.obsm['q05_cell_abundance_w_sf']\n",
    "\n",
    "# plot in spatial coordinates\n",
    "with mpl.rc_context({'axes.facecolor':  'black',\n",
    "                     'figure.figsize': [4.5, 5]}):\n",
    "    sc.pl.spatial(adata_vis, cmap='magma',\n",
    "                  # show first 8 cell types\n",
    "                  color=adata_vis.uns['mod']['factor_names'][0:8], \n",
    "                  ncols=4, size=1.3, \n",
    "                  img_key='hires',\n",
    "                  # limit color scale at 99.2% quantile of cell abundance\n",
    "                  vmin=0, vmax='p99.2' \n",
    "                 )"
   ]
  },
  {
   "cell_type": "markdown",
   "metadata": {},
   "source": [
    "## Perform clustering of cell abudance estimates to identify tissue regions <a class=\"anchor\" id=\"region_clustering\"></a>\n",
    "\n",
    "We find regions by clustering locations/spots (Leiden) based on estimated cell abundance of each cell type. Results are saved in `adata_vis.obs['region_cluster']`."
   ]
  },
  {
   "cell_type": "code",
   "execution_count": null,
   "metadata": {},
   "outputs": [],
   "source": [
    "# compute KNN using the cell2location output stored in adata.obsm\n",
    "sc.pp.neighbors(adata_vis, use_rep='q05_cell_abundance_w_sf',\n",
    "                n_neighbors = 20)\n",
    "\n",
    "# Cluster spots into regions using scanpy\n",
    "sc.tl.leiden(adata_vis, resolution=1)\n",
    "\n",
    "# add region as categorical variable\n",
    "adata_vis.obs[\"region_cluster\"] = adata_vis.obs[\"leiden\"].astype(\"category\")"
   ]
  },
  {
   "cell_type": "code",
   "execution_count": null,
   "metadata": {},
   "outputs": [],
   "source": [
    "# compute UMAP using KNN graph based on the cell2location output\n",
    "sc.tl.umap(adata_vis, min_dist = 0.3, spread = 1)\n",
    "\n",
    "# show regions in UMAP coordinates\n",
    "with mpl.rc_context({'axes.facecolor':  'white',\n",
    "                     'figure.figsize': [8, 8]}):\n",
    "    sc.pl.umap(adata_vis, color=['region_cluster'], size=30,\n",
    "               color_map = 'RdPu', ncols = 2, legend_loc='on data',\n",
    "               legend_fontsize=20)\n",
    "    sc.pl.umap(adata_vis, color=['sample'], size=30,\n",
    "               color_map = 'RdPu', ncols = 2,\n",
    "               legend_fontsize=20)\n",
    "\n",
    "# plot in spatial coordinates\n",
    "with mpl.rc_context({'axes.facecolor':  'black',\n",
    "                     'figure.figsize': [4.5, 5]}):\n",
    "    sc.pl.spatial(adata_vis, color=['region_cluster'], \n",
    "                  size=1.3, img_key='hires', alpha=0.5)"
   ]
  },
  {
   "cell_type": "markdown",
   "metadata": {},
   "source": [
    "### Advanced use examples"
   ]
  },
  {
   "cell_type": "code",
   "execution_count": null,
   "metadata": {},
   "outputs": [],
   "source": [
    "# Get posterior distribution samples for specific variables\n",
    "samples_w_sf = mod.sample_posterior(num_samples=1000, use_gpu=True, return_samples=True,\n",
    "                                    batch_size=2020,\n",
    "                                    return_sites=['w_sf', 'm_g', 'u_sf_mRNA_factors'])\n",
    "# samples_w_sf['posterior_samples'] contains 1000 samples as arrays with dim=(num_samples, ...)\n",
    "samples_w_sf['posterior_samples']['w_sf'].shape"
   ]
  },
  {
   "cell_type": "code",
   "execution_count": null,
   "metadata": {},
   "outputs": [],
   "source": [
    "# Compute any quantile of the posterior distribution\n",
    "medians = mod.posterior_quantile(q=0.5, use_gpu = True)\n",
    "\n",
    "with mpl.rc_context({'axes.facecolor':  'white',\n",
    "                     'figure.figsize': [5, 5]}):\n",
    "    plt.scatter(medians['w_sf'].flatten(), mod.samples['post_sample_means']['w_sf'].flatten());\n",
    "    plt.xlabel('median');\n",
    "    plt.ylabel('mean');"
   ]
  },
  {
   "cell_type": "markdown",
   "metadata": {},
   "source": [
    "Modules and their versions used for this analysis"
   ]
  },
  {
   "cell_type": "code",
   "execution_count": null,
   "metadata": {},
   "outputs": [],
   "source": [
    "from session_info import session_info\n",
    "session_info()"
   ]
  },
  {
   "cell_type": "code",
   "execution_count": null,
   "metadata": {},
   "outputs": [],
   "source": [
    "import sys\n",
    "for module in sys.modules:\n",
    "    try:\n",
    "        print(module,sys.modules[module].__version__)\n",
    "    except:\n",
    "        try:\n",
    "            if  type(modules[module].version) is str:\n",
    "                print(module,sys.modules[module].version)\n",
    "            else:\n",
    "                print(module,sys.modules[module].version())\n",
    "        except:\n",
    "            try:\n",
    "                print(module,sys.modules[module].VERSION)\n",
    "            except:\n",
    "                pass"
   ]
  },
  {
   "cell_type": "code",
   "execution_count": null,
   "metadata": {},
   "outputs": [],
   "source": []
  }
 ],
 "metadata": {
  "kernelspec": {
   "display_name": "Python (scvi-env2)",
   "language": "python",
   "name": "scvi-env2"
  },
  "language_info": {
   "codemirror_mode": {
    "name": "ipython",
    "version": 3
   },
   "file_extension": ".py",
   "mimetype": "text/x-python",
   "name": "python",
   "nbconvert_exporter": "python",
   "pygments_lexer": "ipython3",
   "version": "3.7.9"
  }
 },
 "nbformat": 4,
 "nbformat_minor": 4
}
