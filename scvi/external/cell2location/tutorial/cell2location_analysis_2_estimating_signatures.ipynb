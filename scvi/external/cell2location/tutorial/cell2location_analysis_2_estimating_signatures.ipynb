{
 "cells": [
  {
   "cell_type": "markdown",
   "metadata": {},
   "source": [
    "# Mapping human lymph node cell types to 10X Visium - estimating reference expression signatures\n",
    "\n",
    "[![Open In Colab](https://colab.research.google.com/assets/colab-badge.svg)](https://colab.research.google.com/github/vitkl/cell2location-sandbox/blob/master/notebooks/scvi_real_data/cell2location_analysis_3_scvi_ln.ipynb)\n",
    "\n",
    "Cell2location maps cell types by integrating single cell/nucleus and spatial transcriptomics data. This is achieved by estimating which combination of cell types in which cell abundance could have given the mRNA counts in the spatial data, taking technical effects into account (platform/technology effect, contaminating RNA, unexplained variance).\n",
    "\n",
    "Given cell type annotation for each cell, the corresponding reference cell type signatures $g_{f,g}$, which represent the average mRNA count of each gene $g$ in each cell type $f={1, .., F}$, can be estimated from sc/snRNA-seq data using 2 provided methods (see below). Cell2location needs untransformed unnormalised spatial mRNA counts as input. You also need to provide cell2location with the expected average cell abundance per location which is used as a prior to guide estimation of absolute cell abundance. This value depends on the tissue and can be estimated by counting nuclei for a few locations in the paired histology image but can be approximate (see paper methods for more guidance).\n",
    "\n",
    "We provide 2 methods for estimating reference expression signatures of cell types from scRNA-seq data:\n",
    "\n",
    "1) a statistical method based on Negative Binomial regression. We generally recommend using NB regression, which allows to robustly combine data across technologies and batches, which results in improved spatial mapping accuracy. This notebook shows use a dataset composed on multiple batches and technologies to estimate that. \n",
    "\n",
    "2) hard-coded computation of per-cluster average mRNA counts for individual genes (`scvi.external.cell2location.compute_cluster_averages`). When the batch effects are small, this faster hard-coded method of computing per cluster averages provides similarly high accuracy. We also recommend the hard-coded method for non-UMI technologies such as Smart-Seq 2.\n",
    "\n",
    "\n",
    "### Contents:\n",
    "* [Loading packages](#Loading_packages)\n",
    "* [Loading Visium data](#Loading_Visium)\n",
    "* [Load refence cell type expression signatures](#Loading_signatures)\n",
    "* [Run scvi-cell2location](#cell2location)\n",
    "* [Leiden clustering of cell abundance](#region_clustering)\n",
    "\n",
    "\n"
   ]
  },
  {
   "cell_type": "markdown",
   "metadata": {},
   "source": [
    "### Loading packages <a class=\"anchor\" id=\"Loading_packages\"></a>"
   ]
  },
  {
   "cell_type": "code",
   "execution_count": 1,
   "metadata": {},
   "outputs": [],
   "source": [
    "import sys\n",
    "\n",
    "#if branch is stable, will install via pypi, else will install from source\n",
    "branch = \"pyro-cell2location\"\n",
    "user = \"vitkl\"\n",
    "IN_COLAB = \"google.colab\" in sys.modules\n",
    "\n",
    "if IN_COLAB and branch == \"stable\":\n",
    "    !pip install --quiet scvi-tools[tutorials]\n",
    "elif IN_COLAB and branch != \"stable\":\n",
    "    !pip install --quiet --upgrade jsonschema\n",
    "    !pip install --quiet git+https://github.com/$user/scvi-tools@$branch#egg=scvi-tools[tutorials]"
   ]
  },
  {
   "cell_type": "code",
   "execution_count": 2,
   "metadata": {},
   "outputs": [],
   "source": [
    "import sys\n",
    "if not IN_COLAB:\n",
    "    sys.path.insert(1, '/nfs/team205/vk7/sanger_projects/BayraktarLab/scvi-tools/')\n",
    "\n",
    "import scanpy as sc\n",
    "import anndata\n",
    "import pandas as pd\n",
    "import numpy as np\n",
    "import matplotlib.pyplot as plt \n",
    "import matplotlib as mpl\n",
    "\n",
    "#import cell2location\n",
    "import scvi\n",
    "\n",
    "from matplotlib import rcParams\n",
    "rcParams['pdf.fonttype'] = 42 # enables correct plotting of text\n",
    "import seaborn as sns"
   ]
  },
  {
   "cell_type": "markdown",
   "metadata": {},
   "source": [
    "## Loading Visium data <a class=\"anchor\" id=\"Loading_Visium\"></a>"
   ]
  },
  {
   "cell_type": "markdown",
   "metadata": {},
   "source": [
    "First let's read spatial Visium data from 10X Space Ranger output."
   ]
  },
  {
   "cell_type": "code",
   "execution_count": 3,
   "metadata": {},
   "outputs": [
    {
     "name": "stderr",
     "output_type": "stream",
     "text": [
      "Variable names are not unique. To make them unique, call `.var_names_make_unique`.\n",
      "Variable names are not unique. To make them unique, call `.var_names_make_unique`.\n"
     ]
    }
   ],
   "source": [
    "results_folder = './results/lymph_nodes_analysis/'\n",
    "scvi_run_name = f'{results_folder}/amortised/v1'\n",
    "\n",
    "adata_vis = sc.datasets.visium_sge(sample_id=\"V1_Human_Lymph_Node\")\n",
    "adata_vis.obs['sample'] = list(adata_vis.uns['spatial'].keys())[0]"
   ]
  },
  {
   "cell_type": "markdown",
   "metadata": {},
   "source": [
    "### Load reference cell type expression signatures <a class=\"anchor\" id=\"Loading_signatures\"></a>\n",
    "\n",
    "The signatures were estimated from scRNA-seq data, accounting for batch effect, using a separate model, as shown here: https://cell2location.readthedocs.io/en/latest/notebooks/cell2location_estimating_signatures.html\n",
    "\n",
    "Here we download the h5ad object with results:"
   ]
  },
  {
   "cell_type": "code",
   "execution_count": 4,
   "metadata": {},
   "outputs": [],
   "source": [
    "import os\n",
    "if not os.path.exists('./data/sc.h5ad'):\n",
    "    !cd ./data/ && wget https://cell2location.cog.sanger.ac.uk/paper/integrated_lymphoid_organ_scrna/RegressionNBV4Torch_57covariates_73260cells_10237genes/sc.h5ad "
   ]
  },
  {
   "cell_type": "code",
   "execution_count": 5,
   "metadata": {},
   "outputs": [
    {
     "name": "stdout",
     "output_type": "stream",
     "text": [
      "\u001b[34mINFO    \u001b[0m Using batches from adata.obs\u001b[1m[\u001b[0m\u001b[32m\"Sample\"\u001b[0m\u001b[1m]\u001b[0m                                              \n",
      "\u001b[34mINFO    \u001b[0m Using labels from adata.obs\u001b[1m[\u001b[0m\u001b[32m\"Subset\"\u001b[0m\u001b[1m]\u001b[0m                                               \n",
      "\u001b[34mINFO    \u001b[0m Using data from adata.X                                                             \n",
      "\u001b[34mINFO    \u001b[0m Computing library size prior per batch                                              \n"
     ]
    },
    {
     "name": "stderr",
     "output_type": "stream",
     "text": [
      "/nfs/team283/vk7/software/miniconda3farm5/envs/scvi-env2/lib/python3.7/site-packages/pandas/core/arrays/categorical.py:2487: FutureWarning: The `inplace` parameter in pandas.Categorical.remove_unused_categories is deprecated and will be removed in a future version.\n",
      "  res = method(*args, **kwargs)\n",
      "/nfs/team283/vk7/software/miniconda3farm5/envs/scvi-env2/lib/python3.7/site-packages/pandas/core/arrays/categorical.py:2487: FutureWarning: The `inplace` parameter in pandas.Categorical.remove_unused_categories is deprecated and will be removed in a future version.\n",
      "  res = method(*args, **kwargs)\n",
      "/nfs/team283/vk7/software/miniconda3farm5/envs/scvi-env2/lib/python3.7/site-packages/pandas/core/arrays/categorical.py:2487: FutureWarning: The `inplace` parameter in pandas.Categorical.remove_unused_categories is deprecated and will be removed in a future version.\n",
      "  res = method(*args, **kwargs)\n",
      "/nfs/team283/vk7/software/miniconda3farm5/envs/scvi-env2/lib/python3.7/site-packages/pandas/core/arrays/categorical.py:2487: FutureWarning: The `inplace` parameter in pandas.Categorical.remove_unused_categories is deprecated and will be removed in a future version.\n",
      "  res = method(*args, **kwargs)\n",
      "/nfs/team283/vk7/software/miniconda3farm5/envs/scvi-env2/lib/python3.7/site-packages/pandas/core/arrays/categorical.py:2487: FutureWarning: The `inplace` parameter in pandas.Categorical.remove_unused_categories is deprecated and will be removed in a future version.\n",
      "  res = method(*args, **kwargs)\n",
      "/nfs/team283/vk7/software/miniconda3farm5/envs/scvi-env2/lib/python3.7/site-packages/pandas/core/arrays/categorical.py:2487: FutureWarning: The `inplace` parameter in pandas.Categorical.remove_unused_categories is deprecated and will be removed in a future version.\n",
      "  res = method(*args, **kwargs)\n",
      "/nfs/team283/vk7/software/miniconda3farm5/envs/scvi-env2/lib/python3.7/site-packages/pandas/core/arrays/categorical.py:2487: FutureWarning: The `inplace` parameter in pandas.Categorical.remove_unused_categories is deprecated and will be removed in a future version.\n",
      "  res = method(*args, **kwargs)\n",
      "/nfs/team283/vk7/software/miniconda3farm5/envs/scvi-env2/lib/python3.7/site-packages/pandas/core/arrays/categorical.py:2487: FutureWarning: The `inplace` parameter in pandas.Categorical.remove_unused_categories is deprecated and will be removed in a future version.\n",
      "  res = method(*args, **kwargs)\n",
      "/nfs/team283/vk7/software/miniconda3farm5/envs/scvi-env2/lib/python3.7/site-packages/pandas/core/arrays/categorical.py:2487: FutureWarning: The `inplace` parameter in pandas.Categorical.remove_unused_categories is deprecated and will be removed in a future version.\n",
      "  res = method(*args, **kwargs)\n",
      "/nfs/team283/vk7/software/miniconda3farm5/envs/scvi-env2/lib/python3.7/site-packages/pandas/core/arrays/categorical.py:2487: FutureWarning: The `inplace` parameter in pandas.Categorical.remove_unused_categories is deprecated and will be removed in a future version.\n",
      "  res = method(*args, **kwargs)\n",
      "/nfs/team283/vk7/software/miniconda3farm5/envs/scvi-env2/lib/python3.7/site-packages/pandas/core/arrays/categorical.py:2487: FutureWarning: The `inplace` parameter in pandas.Categorical.remove_unused_categories is deprecated and will be removed in a future version.\n",
      "  res = method(*args, **kwargs)\n",
      "/nfs/team283/vk7/software/miniconda3farm5/envs/scvi-env2/lib/python3.7/site-packages/pandas/core/arrays/categorical.py:2487: FutureWarning: The `inplace` parameter in pandas.Categorical.remove_unused_categories is deprecated and will be removed in a future version.\n",
      "  res = method(*args, **kwargs)\n",
      "/nfs/team283/vk7/software/miniconda3farm5/envs/scvi-env2/lib/python3.7/site-packages/pandas/core/arrays/categorical.py:2487: FutureWarning: The `inplace` parameter in pandas.Categorical.remove_unused_categories is deprecated and will be removed in a future version.\n",
      "  res = method(*args, **kwargs)\n",
      "/nfs/team283/vk7/software/miniconda3farm5/envs/scvi-env2/lib/python3.7/site-packages/pandas/core/arrays/categorical.py:2487: FutureWarning: The `inplace` parameter in pandas.Categorical.remove_unused_categories is deprecated and will be removed in a future version.\n",
      "  res = method(*args, **kwargs)\n",
      "/nfs/team283/vk7/software/miniconda3farm5/envs/scvi-env2/lib/python3.7/site-packages/pandas/core/arrays/categorical.py:2487: FutureWarning: The `inplace` parameter in pandas.Categorical.remove_unused_categories is deprecated and will be removed in a future version.\n",
      "  res = method(*args, **kwargs)\n",
      "/nfs/team283/vk7/software/miniconda3farm5/envs/scvi-env2/lib/python3.7/site-packages/pandas/core/arrays/categorical.py:2487: FutureWarning: The `inplace` parameter in pandas.Categorical.remove_unused_categories is deprecated and will be removed in a future version.\n",
      "  res = method(*args, **kwargs)\n",
      "/nfs/team283/vk7/software/miniconda3farm5/envs/scvi-env2/lib/python3.7/site-packages/pandas/core/arrays/categorical.py:2487: FutureWarning: The `inplace` parameter in pandas.Categorical.remove_unused_categories is deprecated and will be removed in a future version.\n",
      "  res = method(*args, **kwargs)\n",
      "/nfs/team283/vk7/software/miniconda3farm5/envs/scvi-env2/lib/python3.7/site-packages/pandas/core/arrays/categorical.py:2487: FutureWarning: The `inplace` parameter in pandas.Categorical.remove_unused_categories is deprecated and will be removed in a future version.\n",
      "  res = method(*args, **kwargs)\n",
      "/nfs/team283/vk7/software/miniconda3farm5/envs/scvi-env2/lib/python3.7/site-packages/pandas/core/arrays/categorical.py:2487: FutureWarning: The `inplace` parameter in pandas.Categorical.remove_unused_categories is deprecated and will be removed in a future version.\n",
      "  res = method(*args, **kwargs)\n",
      "/nfs/team283/vk7/software/miniconda3farm5/envs/scvi-env2/lib/python3.7/site-packages/pandas/core/arrays/categorical.py:2487: FutureWarning: The `inplace` parameter in pandas.Categorical.remove_unused_categories is deprecated and will be removed in a future version.\n",
      "  res = method(*args, **kwargs)\n",
      "/nfs/team283/vk7/software/miniconda3farm5/envs/scvi-env2/lib/python3.7/site-packages/pandas/core/arrays/categorical.py:2487: FutureWarning: The `inplace` parameter in pandas.Categorical.remove_unused_categories is deprecated and will be removed in a future version.\n",
      "  res = method(*args, **kwargs)\n",
      "/nfs/team283/vk7/software/miniconda3farm5/envs/scvi-env2/lib/python3.7/site-packages/pandas/core/arrays/categorical.py:2487: FutureWarning: The `inplace` parameter in pandas.Categorical.remove_unused_categories is deprecated and will be removed in a future version.\n",
      "  res = method(*args, **kwargs)\n",
      "/nfs/team283/vk7/software/miniconda3farm5/envs/scvi-env2/lib/python3.7/site-packages/pandas/core/arrays/categorical.py:2487: FutureWarning: The `inplace` parameter in pandas.Categorical.remove_unused_categories is deprecated and will be removed in a future version.\n",
      "  res = method(*args, **kwargs)\n"
     ]
    },
    {
     "name": "stdout",
     "output_type": "stream",
     "text": [
      "\u001b[34mINFO    \u001b[0m Successfully registered anndata object containing \u001b[1;34m73260\u001b[0m cells, \u001b[1;34m10237\u001b[0m vars, \u001b[1;34m23\u001b[0m       \n",
      "         batches, \u001b[1;34m34\u001b[0m labels, and \u001b[1;34m0\u001b[0m proteins. Also registered \u001b[1;34m0\u001b[0m extra categorical covariates  \n",
      "         and \u001b[1;34m0\u001b[0m extra continuous covariates.                                                  \n",
      "\u001b[34mINFO    \u001b[0m Please do not further modify adata until model is trained.                          \n"
     ]
    },
    {
     "data": {
      "text/html": [
       "<pre style=\"white-space:pre;overflow-x:auto;line-height:normal;font-family:Menlo,'DejaVu Sans Mono',consolas,'Courier New',monospace\">Anndata setup with scvi-tools version <span style=\"color: #000080; font-weight: bold\">0.0</span>.<span style=\"color: #000080; font-weight: bold\">0</span>.\n",
       "</pre>\n"
      ],
      "text/plain": [
       "<rich.jupyter.JupyterRenderable at 0x1458ead4c590>"
      ]
     },
     "metadata": {},
     "output_type": "display_data"
    },
    {
     "data": {
      "text/html": [
       "<pre style=\"white-space:pre;overflow-x:auto;line-height:normal;font-family:Menlo,'DejaVu Sans Mono',consolas,'Courier New',monospace\"><span style=\"font-style: italic\">              Data Summary              </span>\n",
       "┏━━━━━━━━━━━━━━━━━━━━━━━━━━━━━━┳━━━━━━━┓\n",
       "┃<span style=\"font-weight: bold\">             Data             </span>┃<span style=\"font-weight: bold\"> Count </span>┃\n",
       "┡━━━━━━━━━━━━━━━━━━━━━━━━━━━━━━╇━━━━━━━┩\n",
       "│<span style=\"color: #0087ff\">            Cells             </span>│<span style=\"color: #af00d7\"> 73260 </span>│\n",
       "│<span style=\"color: #0087ff\">             Vars             </span>│<span style=\"color: #af00d7\"> 10237 </span>│\n",
       "│<span style=\"color: #0087ff\">            Labels            </span>│<span style=\"color: #af00d7\">  34   </span>│\n",
       "│<span style=\"color: #0087ff\">           Batches            </span>│<span style=\"color: #af00d7\">  23   </span>│\n",
       "│<span style=\"color: #0087ff\">           Proteins           </span>│<span style=\"color: #af00d7\">   0   </span>│\n",
       "│<span style=\"color: #0087ff\"> Extra Categorical Covariates </span>│<span style=\"color: #af00d7\">   0   </span>│\n",
       "│<span style=\"color: #0087ff\"> Extra Continuous Covariates  </span>│<span style=\"color: #af00d7\">   0   </span>│\n",
       "└──────────────────────────────┴───────┘\n",
       "</pre>\n"
      ],
      "text/plain": [
       "<rich.jupyter.JupyterRenderable at 0x1458ead4b510>"
      ]
     },
     "metadata": {},
     "output_type": "display_data"
    },
    {
     "data": {
      "text/html": [
       "<pre style=\"white-space:pre;overflow-x:auto;line-height:normal;font-family:Menlo,'DejaVu Sans Mono',consolas,'Courier New',monospace\"><span style=\"font-style: italic\">                SCVI Data Registry                 </span>\n",
       "┏━━━━━━━━━━━━━━━┳━━━━━━━━━━━━━━━━━━━━━━━━━━━━━━━━━┓\n",
       "┃<span style=\"font-weight: bold\">     Data      </span>┃<span style=\"font-weight: bold\">       scvi-tools Location       </span>┃\n",
       "┡━━━━━━━━━━━━━━━╇━━━━━━━━━━━━━━━━━━━━━━━━━━━━━━━━━┩\n",
       "│<span style=\"color: #0087ff\">       X       </span>│<span style=\"color: #af00d7\">             adata.X             </span>│\n",
       "│<span style=\"color: #0087ff\"> batch_indices </span>│<span style=\"color: #af00d7\">    adata.obs['_scvi_batch']     </span>│\n",
       "│<span style=\"color: #0087ff\"> local_l_mean  </span>│<span style=\"color: #af00d7\"> adata.obs['_scvi_local_l_mean'] </span>│\n",
       "│<span style=\"color: #0087ff\">  local_l_var  </span>│<span style=\"color: #af00d7\"> adata.obs['_scvi_local_l_var']  </span>│\n",
       "│<span style=\"color: #0087ff\">    labels     </span>│<span style=\"color: #af00d7\">    adata.obs['_scvi_labels']    </span>│\n",
       "└───────────────┴─────────────────────────────────┘\n",
       "</pre>\n"
      ],
      "text/plain": [
       "<rich.jupyter.JupyterRenderable at 0x1458f1217810>"
      ]
     },
     "metadata": {},
     "output_type": "display_data"
    },
    {
     "data": {
      "text/html": [
       "<pre style=\"white-space:pre;overflow-x:auto;line-height:normal;font-family:Menlo,'DejaVu Sans Mono',consolas,'Courier New',monospace\"><span style=\"font-style: italic\">                        Label Categories                        </span>\n",
       "┏━━━━━━━━━━━━━━━━━━━━━┳━━━━━━━━━━━━━━━━━━┳━━━━━━━━━━━━━━━━━━━━━┓\n",
       "┃<span style=\"font-weight: bold\">   Source Location   </span>┃<span style=\"font-weight: bold\">    Categories    </span>┃<span style=\"font-weight: bold\"> scvi-tools Encoding </span>┃\n",
       "┡━━━━━━━━━━━━━━━━━━━━━╇━━━━━━━━━━━━━━━━━━╇━━━━━━━━━━━━━━━━━━━━━┩\n",
       "│<span style=\"color: #0087ff\"> adata.obs['Subset'] </span>│<span style=\"color: #008000\">    B_Cycling     </span>│<span style=\"color: #af00d7\">          0          </span>│\n",
       "│<span style=\"color: #0087ff\">                     </span>│<span style=\"color: #008000\">     B_GC_DZ      </span>│<span style=\"color: #af00d7\">          1          </span>│\n",
       "│<span style=\"color: #0087ff\">                     </span>│<span style=\"color: #008000\">     B_GC_LZ      </span>│<span style=\"color: #af00d7\">          2          </span>│\n",
       "│<span style=\"color: #0087ff\">                     </span>│<span style=\"color: #008000\">    B_GC_prePB    </span>│<span style=\"color: #af00d7\">          3          </span>│\n",
       "│<span style=\"color: #0087ff\">                     </span>│<span style=\"color: #008000\">      B_IFN       </span>│<span style=\"color: #af00d7\">          4          </span>│\n",
       "│<span style=\"color: #0087ff\">                     </span>│<span style=\"color: #008000\">   B_activated    </span>│<span style=\"color: #af00d7\">          5          </span>│\n",
       "│<span style=\"color: #0087ff\">                     </span>│<span style=\"color: #008000\">      B_mem       </span>│<span style=\"color: #af00d7\">          6          </span>│\n",
       "│<span style=\"color: #0087ff\">                     </span>│<span style=\"color: #008000\">     B_naive      </span>│<span style=\"color: #af00d7\">          7          </span>│\n",
       "│<span style=\"color: #0087ff\">                     </span>│<span style=\"color: #008000\">     B_plasma     </span>│<span style=\"color: #af00d7\">          8          </span>│\n",
       "│<span style=\"color: #0087ff\">                     </span>│<span style=\"color: #008000\">     B_preGC      </span>│<span style=\"color: #af00d7\">          9          </span>│\n",
       "│<span style=\"color: #0087ff\">                     </span>│<span style=\"color: #008000\">     DC_CCR7+     </span>│<span style=\"color: #af00d7\">         10          </span>│\n",
       "│<span style=\"color: #0087ff\">                     </span>│<span style=\"color: #008000\">     DC_cDC1      </span>│<span style=\"color: #af00d7\">         11          </span>│\n",
       "│<span style=\"color: #0087ff\">                     </span>│<span style=\"color: #008000\">     DC_cDC2      </span>│<span style=\"color: #af00d7\">         12          </span>│\n",
       "│<span style=\"color: #0087ff\">                     </span>│<span style=\"color: #008000\">      DC_pDC      </span>│<span style=\"color: #af00d7\">         13          </span>│\n",
       "│<span style=\"color: #0087ff\">                     </span>│<span style=\"color: #008000\">       Endo       </span>│<span style=\"color: #af00d7\">         14          </span>│\n",
       "│<span style=\"color: #0087ff\">                     </span>│<span style=\"color: #008000\">       FDC        </span>│<span style=\"color: #af00d7\">         15          </span>│\n",
       "│<span style=\"color: #0087ff\">                     </span>│<span style=\"color: #008000\">       ILC        </span>│<span style=\"color: #af00d7\">         16          </span>│\n",
       "│<span style=\"color: #0087ff\">                     </span>│<span style=\"color: #008000\">  Macrophages_M1  </span>│<span style=\"color: #af00d7\">         17          </span>│\n",
       "│<span style=\"color: #0087ff\">                     </span>│<span style=\"color: #008000\">  Macrophages_M2  </span>│<span style=\"color: #af00d7\">         18          </span>│\n",
       "│<span style=\"color: #0087ff\">                     </span>│<span style=\"color: #008000\">       Mast       </span>│<span style=\"color: #af00d7\">         19          </span>│\n",
       "│<span style=\"color: #0087ff\">                     </span>│<span style=\"color: #008000\">    Monocytes     </span>│<span style=\"color: #af00d7\">         20          </span>│\n",
       "│<span style=\"color: #0087ff\">                     </span>│<span style=\"color: #008000\">        NK        </span>│<span style=\"color: #af00d7\">         21          </span>│\n",
       "│<span style=\"color: #0087ff\">                     </span>│<span style=\"color: #008000\">       NKT        </span>│<span style=\"color: #af00d7\">         22          </span>│\n",
       "│<span style=\"color: #0087ff\">                     </span>│<span style=\"color: #008000\">      T_CD4+      </span>│<span style=\"color: #af00d7\">         23          </span>│\n",
       "│<span style=\"color: #0087ff\">                     </span>│<span style=\"color: #008000\">    T_CD4+_TfH    </span>│<span style=\"color: #af00d7\">         24          </span>│\n",
       "│<span style=\"color: #0087ff\">                     </span>│<span style=\"color: #008000\">  T_CD4+_TfH_GC   </span>│<span style=\"color: #af00d7\">         25          </span>│\n",
       "│<span style=\"color: #0087ff\">                     </span>│<span style=\"color: #008000\">   T_CD4+_naive   </span>│<span style=\"color: #af00d7\">         26          </span>│\n",
       "│<span style=\"color: #0087ff\">                     </span>│<span style=\"color: #008000\">  T_CD8+_CD161+   </span>│<span style=\"color: #af00d7\">         27          </span>│\n",
       "│<span style=\"color: #0087ff\">                     </span>│<span style=\"color: #008000\"> T_CD8+_cytotoxic </span>│<span style=\"color: #af00d7\">         28          </span>│\n",
       "│<span style=\"color: #0087ff\">                     </span>│<span style=\"color: #008000\">   T_CD8+_naive   </span>│<span style=\"color: #af00d7\">         29          </span>│\n",
       "│<span style=\"color: #0087ff\">                     </span>│<span style=\"color: #008000\">     T_TIM3+      </span>│<span style=\"color: #af00d7\">         30          </span>│\n",
       "│<span style=\"color: #0087ff\">                     </span>│<span style=\"color: #008000\">      T_TfR       </span>│<span style=\"color: #af00d7\">         31          </span>│\n",
       "│<span style=\"color: #0087ff\">                     </span>│<span style=\"color: #008000\">      T_Treg      </span>│<span style=\"color: #af00d7\">         32          </span>│\n",
       "│<span style=\"color: #0087ff\">                     </span>│<span style=\"color: #008000\">       VSMC       </span>│<span style=\"color: #af00d7\">         33          </span>│\n",
       "└─────────────────────┴──────────────────┴─────────────────────┘\n",
       "</pre>\n"
      ],
      "text/plain": [
       "<rich.jupyter.JupyterRenderable at 0x1458ead43e90>"
      ]
     },
     "metadata": {},
     "output_type": "display_data"
    },
    {
     "data": {
      "text/html": [
       "<pre style=\"white-space:pre;overflow-x:auto;line-height:normal;font-family:Menlo,'DejaVu Sans Mono',consolas,'Courier New',monospace\"><span style=\"font-style: italic\">                           Batch Categories                           </span>\n",
       "┏━━━━━━━━━━━━━━━━━━━━━┳━━━━━━━━━━━━━━━━━━━━━━━━┳━━━━━━━━━━━━━━━━━━━━━┓\n",
       "┃<span style=\"font-weight: bold\">   Source Location   </span>┃<span style=\"font-weight: bold\">       Categories       </span>┃<span style=\"font-weight: bold\"> scvi-tools Encoding </span>┃\n",
       "┡━━━━━━━━━━━━━━━━━━━━━╇━━━━━━━━━━━━━━━━━━━━━━━━╇━━━━━━━━━━━━━━━━━━━━━┩\n",
       "│<span style=\"color: #0087ff\"> adata.obs['Sample'] </span>│<span style=\"color: #008000\">    4861STDY7135913     </span>│<span style=\"color: #af00d7\">          0          </span>│\n",
       "│<span style=\"color: #0087ff\">                     </span>│<span style=\"color: #008000\">    4861STDY7135914     </span>│<span style=\"color: #af00d7\">          1          </span>│\n",
       "│<span style=\"color: #0087ff\">                     </span>│<span style=\"color: #008000\">    4861STDY7208412     </span>│<span style=\"color: #af00d7\">          2          </span>│\n",
       "│<span style=\"color: #0087ff\">                     </span>│<span style=\"color: #008000\">    4861STDY7208413     </span>│<span style=\"color: #af00d7\">          3          </span>│\n",
       "│<span style=\"color: #0087ff\">                     </span>│<span style=\"color: #008000\">    4861STDY7462253     </span>│<span style=\"color: #af00d7\">          4          </span>│\n",
       "│<span style=\"color: #0087ff\">                     </span>│<span style=\"color: #008000\">    4861STDY7462254     </span>│<span style=\"color: #af00d7\">          5          </span>│\n",
       "│<span style=\"color: #0087ff\">                     </span>│<span style=\"color: #008000\">    4861STDY7462255     </span>│<span style=\"color: #af00d7\">          6          </span>│\n",
       "│<span style=\"color: #0087ff\">                     </span>│<span style=\"color: #008000\">    4861STDY7462256     </span>│<span style=\"color: #af00d7\">          7          </span>│\n",
       "│<span style=\"color: #0087ff\">                     </span>│<span style=\"color: #008000\">    4861STDY7528597     </span>│<span style=\"color: #af00d7\">          8          </span>│\n",
       "│<span style=\"color: #0087ff\">                     </span>│<span style=\"color: #008000\">    4861STDY7528598     </span>│<span style=\"color: #af00d7\">          9          </span>│\n",
       "│<span style=\"color: #0087ff\">                     </span>│<span style=\"color: #008000\">    4861STDY7528599     </span>│<span style=\"color: #af00d7\">         10          </span>│\n",
       "│<span style=\"color: #0087ff\">                     </span>│<span style=\"color: #008000\">    4861STDY7528600     </span>│<span style=\"color: #af00d7\">         11          </span>│\n",
       "│<span style=\"color: #0087ff\">                     </span>│<span style=\"color: #008000\">      BCP002_Total      </span>│<span style=\"color: #af00d7\">         12          </span>│\n",
       "│<span style=\"color: #0087ff\">                     </span>│<span style=\"color: #008000\">      BCP003_Total      </span>│<span style=\"color: #af00d7\">         13          </span>│\n",
       "│<span style=\"color: #0087ff\">                     </span>│<span style=\"color: #008000\">      BCP004_Total      </span>│<span style=\"color: #af00d7\">         14          </span>│\n",
       "│<span style=\"color: #0087ff\">                     </span>│<span style=\"color: #008000\">      BCP005_Total      </span>│<span style=\"color: #af00d7\">         15          </span>│\n",
       "│<span style=\"color: #0087ff\">                     </span>│<span style=\"color: #008000\">      BCP006_Total      </span>│<span style=\"color: #af00d7\">         16          </span>│\n",
       "│<span style=\"color: #0087ff\">                     </span>│<span style=\"color: #008000\">      BCP008_Total      </span>│<span style=\"color: #af00d7\">         17          </span>│\n",
       "│<span style=\"color: #0087ff\">                     </span>│<span style=\"color: #008000\">      BCP009_Total      </span>│<span style=\"color: #af00d7\">         18          </span>│\n",
       "│<span style=\"color: #0087ff\">                     </span>│<span style=\"color: #008000\"> Human_colon_16S7255677 </span>│<span style=\"color: #af00d7\">         19          </span>│\n",
       "│<span style=\"color: #0087ff\">                     </span>│<span style=\"color: #008000\"> Human_colon_16S7255678 </span>│<span style=\"color: #af00d7\">         20          </span>│\n",
       "│<span style=\"color: #0087ff\">                     </span>│<span style=\"color: #008000\"> Human_colon_16S8000484 </span>│<span style=\"color: #af00d7\">         21          </span>│\n",
       "│<span style=\"color: #0087ff\">                     </span>│<span style=\"color: #008000\">      Pan_T7935494      </span>│<span style=\"color: #af00d7\">         22          </span>│\n",
       "└─────────────────────┴────────────────────────┴─────────────────────┘\n",
       "</pre>\n"
      ],
      "text/plain": [
       "<rich.jupyter.JupyterRenderable at 0x1458ead20bd0>"
      ]
     },
     "metadata": {},
     "output_type": "display_data"
    }
   ],
   "source": [
    "# read data\n",
    "adata_snrna_raw = sc.read(f'./data/sc.h5ad')\n",
    "\n",
    "# prepare anndata for scVI model\n",
    "scvi.data.setup_anndata(adata=adata_snrna_raw, batch_key='Sample', labels_key='Subset')\n",
    "scvi.data.view_anndata_setup(adata_snrna_raw)"
   ]
  },
  {
   "cell_type": "code",
   "execution_count": 6,
   "metadata": {},
   "outputs": [
    {
     "name": "stderr",
     "output_type": "stream",
     "text": [
      "GPU available: True, used: True\n",
      "TPU available: False, using: 0 TPU cores\n",
      "LOCAL_RANK: 0 - CUDA_VISIBLE_DEVICES: [0]\n"
     ]
    },
    {
     "name": "stdout",
     "output_type": "stream",
     "text": [
      "Epoch 1/100:   0%|          | 0/100 [00:00<?, ?it/s]"
     ]
    },
    {
     "name": "stderr",
     "output_type": "stream",
     "text": [
      "/nfs/team283/vk7/software/miniconda3farm5/envs/scvi-env2/lib/python3.7/site-packages/pytorch_lightning/utilities/distributed.py:52: UserWarning: `LightningModule.configure_optimizers` returned `None`, this fit will run with no optimizer\n",
      "  warnings.warn(*args, **kwargs)\n"
     ]
    },
    {
     "name": "stdout",
     "output_type": "stream",
     "text": [
      "Epoch 100/100: 100%|██████████| 100/100 [09:41<00:00,  5.81s/it, v_num=1, train_loss_step=2.8e+8, train_loss_epoch=2.79e+8] \n"
     ]
    },
    {
     "data": {
      "image/png": "[encoded data removed]",
      "text/plain": [
       "<Figure size 432x288 with 1 Axes>"
      ]
     },
     "metadata": {
      "needs_background": "light"
     },
     "output_type": "display_data"
    }
   ],
   "source": [
    "# create and train the model\n",
    "from scvi.external.cell2location._reference_module import RegressionModel\n",
    "mod = RegressionModel(\n",
    "    adata_snrna_raw,\n",
    "    batch_size=2500, \n",
    "    amortised=True, single_encoder=True,\n",
    "    encoder_kwargs={'dropout_rate': 0.2},\n",
    "    #init_vals = {'per_cluster_mu_fg': per_cluster_mu_fg}\n",
    ") \n",
    "\n",
    "mod.train(max_epochs=100, lr=0.01, use_gpu=True)\n",
    "\n",
    "# plot ELBO loss history during training, removing first 100 epochs from the plot\n",
    "mod.plot_history(20)"
   ]
  },
  {
   "cell_type": "code",
   "execution_count": 7,
   "metadata": {},
   "outputs": [
    {
     "data": {
      "application/vnd.jupyter.widget-view+json": {
       "model_id": "1e2dc5cc884f4c16ad2515753d5711e0",
       "version_major": 2,
       "version_minor": 0
      },
      "text/plain": [
       "Sampling local variables, batch:   0%|          | 0/30 [00:00<?, ?it/s]"
      ]
     },
     "metadata": {},
     "output_type": "display_data"
    },
    {
     "data": {
      "application/vnd.jupyter.widget-view+json": {
       "model_id": "1114c13cbcef48bd9f8735868573ad17",
       "version_major": 2,
       "version_minor": 0
      },
      "text/plain": [
       "Sampling global variables, sample:   0%|          | 0/999 [00:00<?, ?it/s]"
      ]
     },
     "metadata": {},
     "output_type": "display_data"
    },
    {
     "data": {
      "text/plain": [
       "'./results/lymph_nodes_analysis/regression_model/scvi_v1/sp.h5ad'"
      ]
     },
     "execution_count": 7,
     "metadata": {},
     "output_type": "execute_result"
    }
   ],
   "source": [
    "# In this section, we save the summary of the posterior distribution of bursting rates.\n",
    "scvi_run_name = results_folder + 'regression_model/scvi_v1'\n",
    "\n",
    "# generate samples from posterior distributions for all parameters \n",
    "# and compute mean, 5%/95% quantiles and standard deviation\n",
    "samples = mod.sample_posterior(num_samples=1000, use_gpu=True)\n",
    "\n",
    "# export posterior distribution summary for all parameters and \n",
    "# annotation (model, date, var, obs and cell type names) to anndata object\n",
    "adata_snrna_raw.uns['mod'] = mod.export2adata(samples)\n",
    "\n",
    "# add estimated average expression as pd.DataFrames to obsm in anndata\n",
    "# first convert np.arrays to pd.DataFrames with cell type and variable names \n",
    "# data frames contain mean, 5%/95% quantiles and standard deviation, denoted by a prefix\n",
    "sample_df_dict = mod.sample2df_vars(samples, site_name=\"per_cluster_mu_fg\", name_prefix='')\n",
    "for k, df in sample_df_dict.items():\n",
    "    #adata_snrna_raw.var[df.columns] = df.loc[adata_snrna_raw.var.index, :] # <- not sure if this is better than obsm\n",
    "    adata_snrna_raw.varm[k] = df.loc[adata_snrna_raw.var.index, :]\n",
    "    \n",
    "#sample_df_dict = mod.sample2df_obs(samples, site_name=\"detection_y_c\", name_prefix='')\n",
    "#for k, df in sample_df_dict.items():\n",
    "#    adata_snrna_raw.obs[df.columns] = df.loc[adata_snrna_raw.obs.index, :] # <- not sure if this is better than obsm\n",
    "#    #adata_snrna_raw.obsm[k] = df.loc[adata_snrna_raw.obs.index, :]\n",
    "\n",
    "# Save model\n",
    "mod.save(f\"{scvi_run_name}\", overwrite=True)\n",
    "# can be loaded later like this:\n",
    "# mod = scvi.external.Cell2location.load(f\"{scvi_run_name}\", adata_vis)\n",
    "\n",
    "# Save anndata object with results\n",
    "adata_file = f\"{scvi_run_name}/sp.h5ad\"\n",
    "adata_snrna_raw.write(adata_file)\n",
    "adata_file"
   ]
  },
  {
   "cell_type": "code",
   "execution_count": 8,
   "metadata": {},
   "outputs": [
    {
     "data": {
      "image/png": "[encoded data removed]",
      "text/plain": [
       "<Figure size 432x288 with 1 Axes>"
      ]
     },
     "metadata": {
      "needs_background": "light"
     },
     "output_type": "display_data"
    }
   ],
   "source": [
    "# examine reconstruction accuracy to assess if there are any issues with inference\n",
    "nb_parameters = mod.module.model.compute_expected(samples['post_sample_means'], adata_snrna_raw)\n",
    "mod.plot_posterior_mu_vs_data(nb_parameters['mu'], adata_snrna_raw.X.toarray())"
   ]
  },
  {
   "cell_type": "markdown",
   "metadata": {},
   "source": [
    "The estimated expression signatures are distinct from mean expression in each cluster because of batch effects. For scRNA-seq datasets which do not suffer from batch effect (this dataset does), cluster average expression can be used instead of estimating signatures with a model. When this plot is very different from a diagonal plot (e.g. very low values on Y-axis, density everywhere) it indicates problems with signature estimation."
   ]
  },
  {
   "cell_type": "code",
   "execution_count": 9,
   "metadata": {},
   "outputs": [
    {
     "data": {
      "image/png": "[encoded data removed]",
      "text/plain": [
       "<Figure size 360x360 with 1 Axes>"
      ]
     },
     "metadata": {
      "needs_background": "light"
     },
     "output_type": "display_data"
    }
   ],
   "source": [
    "inf_aver = adata_snrna_raw.varm['mean_per_cluster_mu_fg']\n",
    "\n",
    "# compute mean expression of each gene in each cluster\n",
    "aver = scvi.external.cell2location.compute_cluster_averages(adata_snrna_raw, 'Subset')\n",
    "from re import sub\n",
    "inf_aver.columns = [sub('mean_per_cluster_mu_fg', '', i) for i in inf_aver.columns]\n",
    "aver = aver.loc[:, inf_aver.columns]\n",
    "\n",
    "rcParams['figure.figsize'] = 5, 5\n",
    "plt.hist2d(np.log10(aver.values.flatten()+1), np.log10(inf_aver.values.flatten()+1),\n",
    "           bins=50, norm=mpl.colors.LogNorm());\n",
    "plt.xlabel('Mean expression in each cluster');\n",
    "plt.ylabel('Inferred expression in each cluster');"
   ]
  },
  {
   "cell_type": "code",
   "execution_count": 10,
   "metadata": {},
   "outputs": [
    {
     "data": {
      "text/plain": [
       "(73260, 1)"
      ]
     },
     "execution_count": 10,
     "metadata": {},
     "output_type": "execute_result"
    }
   ],
   "source": [
    "samples['post_sample_means']['detection_y_c'].shape"
   ]
  },
  {
   "cell_type": "code",
   "execution_count": 11,
   "metadata": {},
   "outputs": [
    {
     "data": {
      "image/png": "[encoded data removed]",
      "text/plain": [
       "<Figure size 360x360 with 1 Axes>"
      ]
     },
     "metadata": {
      "needs_background": "light"
     },
     "output_type": "display_data"
    }
   ],
   "source": [
    "# Compute any quantile of the posterior distribution\n",
    "medians = mod.posterior_quantile(q=0.5, use_gpu = True)\n",
    "\n",
    "with mpl.rc_context({'axes.facecolor':  'white',\n",
    "                     'figure.figsize': [5, 5]}):\n",
    "    plt.scatter(medians['per_cluster_mu_fg'].flatten(),\n",
    "                samples['post_sample_means']['per_cluster_mu_fg'].flatten());\n",
    "    plt.xlabel('median');\n",
    "    plt.ylabel('mean');"
   ]
  },
  {
   "cell_type": "code",
   "execution_count": 12,
   "metadata": {},
   "outputs": [
    {
     "data": {
      "text/html": [
       "<div>\n",
       "<style scoped>\n",
       "    .dataframe tbody tr th:only-of-type {\n",
       "        vertical-align: middle;\n",
       "    }\n",
       "\n",
       "    .dataframe tbody tr th {\n",
       "        vertical-align: top;\n",
       "    }\n",
       "\n",
       "    .dataframe thead th {\n",
       "        text-align: right;\n",
       "    }\n",
       "</style>\n",
       "<table border=\"1\" class=\"dataframe\">\n",
       "  <thead>\n",
       "    <tr style=\"text-align: right;\">\n",
       "      <th></th>\n",
       "      <th>B_Cycling</th>\n",
       "      <th>B_GC_DZ</th>\n",
       "      <th>B_GC_LZ</th>\n",
       "      <th>B_GC_prePB</th>\n",
       "      <th>B_IFN</th>\n",
       "      <th>B_activated</th>\n",
       "      <th>B_mem</th>\n",
       "      <th>B_naive</th>\n",
       "      <th>B_plasma</th>\n",
       "      <th>B_preGC</th>\n",
       "      <th>...</th>\n",
       "      <th>T_CD4+_TfH</th>\n",
       "      <th>T_CD4+_TfH_GC</th>\n",
       "      <th>T_CD4+_naive</th>\n",
       "      <th>T_CD8+_CD161+</th>\n",
       "      <th>T_CD8+_cytotoxic</th>\n",
       "      <th>T_CD8+_naive</th>\n",
       "      <th>T_TIM3+</th>\n",
       "      <th>T_TfR</th>\n",
       "      <th>T_Treg</th>\n",
       "      <th>VSMC</th>\n",
       "    </tr>\n",
       "  </thead>\n",
       "  <tbody>\n",
       "    <tr>\n",
       "      <th>NOC2L</th>\n",
       "      <td>0.161488</td>\n",
       "      <td>0.122564</td>\n",
       "      <td>0.151123</td>\n",
       "      <td>0.173819</td>\n",
       "      <td>0.084727</td>\n",
       "      <td>0.101662</td>\n",
       "      <td>0.084957</td>\n",
       "      <td>0.090299</td>\n",
       "      <td>0.116330</td>\n",
       "      <td>0.183254</td>\n",
       "      <td>...</td>\n",
       "      <td>0.080812</td>\n",
       "      <td>0.081542</td>\n",
       "      <td>0.102542</td>\n",
       "      <td>0.080890</td>\n",
       "      <td>0.076230</td>\n",
       "      <td>0.124494</td>\n",
       "      <td>0.139556</td>\n",
       "      <td>0.093423</td>\n",
       "      <td>0.094790</td>\n",
       "      <td>0.167392</td>\n",
       "    </tr>\n",
       "    <tr>\n",
       "      <th>HES4</th>\n",
       "      <td>0.001593</td>\n",
       "      <td>0.001070</td>\n",
       "      <td>0.001060</td>\n",
       "      <td>0.028092</td>\n",
       "      <td>0.021639</td>\n",
       "      <td>0.009430</td>\n",
       "      <td>0.018003</td>\n",
       "      <td>0.005348</td>\n",
       "      <td>0.002005</td>\n",
       "      <td>0.011309</td>\n",
       "      <td>...</td>\n",
       "      <td>0.032512</td>\n",
       "      <td>0.021923</td>\n",
       "      <td>0.038044</td>\n",
       "      <td>0.011503</td>\n",
       "      <td>0.004869</td>\n",
       "      <td>0.014193</td>\n",
       "      <td>0.070718</td>\n",
       "      <td>0.214366</td>\n",
       "      <td>0.039745</td>\n",
       "      <td>1.195686</td>\n",
       "    </tr>\n",
       "    <tr>\n",
       "      <th>ISG15</th>\n",
       "      <td>0.152731</td>\n",
       "      <td>0.122380</td>\n",
       "      <td>0.148117</td>\n",
       "      <td>0.290065</td>\n",
       "      <td>2.370844</td>\n",
       "      <td>0.084799</td>\n",
       "      <td>0.126665</td>\n",
       "      <td>0.087653</td>\n",
       "      <td>0.170060</td>\n",
       "      <td>0.066937</td>\n",
       "      <td>...</td>\n",
       "      <td>0.159221</td>\n",
       "      <td>0.241301</td>\n",
       "      <td>0.201282</td>\n",
       "      <td>0.194895</td>\n",
       "      <td>0.236486</td>\n",
       "      <td>0.246575</td>\n",
       "      <td>0.895547</td>\n",
       "      <td>0.359688</td>\n",
       "      <td>0.208844</td>\n",
       "      <td>0.289800</td>\n",
       "    </tr>\n",
       "    <tr>\n",
       "      <th>TNFRSF18</th>\n",
       "      <td>0.008941</td>\n",
       "      <td>0.001673</td>\n",
       "      <td>0.031508</td>\n",
       "      <td>0.037623</td>\n",
       "      <td>0.007118</td>\n",
       "      <td>0.003538</td>\n",
       "      <td>0.002945</td>\n",
       "      <td>0.001276</td>\n",
       "      <td>0.083323</td>\n",
       "      <td>0.081873</td>\n",
       "      <td>...</td>\n",
       "      <td>0.011603</td>\n",
       "      <td>0.193594</td>\n",
       "      <td>0.003098</td>\n",
       "      <td>0.038602</td>\n",
       "      <td>0.010298</td>\n",
       "      <td>0.001254</td>\n",
       "      <td>0.136847</td>\n",
       "      <td>0.589498</td>\n",
       "      <td>0.247331</td>\n",
       "      <td>0.030627</td>\n",
       "    </tr>\n",
       "    <tr>\n",
       "      <th>TNFRSF4</th>\n",
       "      <td>0.005379</td>\n",
       "      <td>0.000966</td>\n",
       "      <td>0.006014</td>\n",
       "      <td>0.017460</td>\n",
       "      <td>0.006666</td>\n",
       "      <td>0.002077</td>\n",
       "      <td>0.003837</td>\n",
       "      <td>0.001996</td>\n",
       "      <td>0.051032</td>\n",
       "      <td>0.034206</td>\n",
       "      <td>...</td>\n",
       "      <td>0.092881</td>\n",
       "      <td>0.399999</td>\n",
       "      <td>0.022382</td>\n",
       "      <td>0.039867</td>\n",
       "      <td>0.013410</td>\n",
       "      <td>0.002332</td>\n",
       "      <td>0.181888</td>\n",
       "      <td>1.115934</td>\n",
       "      <td>0.480265</td>\n",
       "      <td>0.032504</td>\n",
       "    </tr>\n",
       "    <tr>\n",
       "      <th>...</th>\n",
       "      <td>...</td>\n",
       "      <td>...</td>\n",
       "      <td>...</td>\n",
       "      <td>...</td>\n",
       "      <td>...</td>\n",
       "      <td>...</td>\n",
       "      <td>...</td>\n",
       "      <td>...</td>\n",
       "      <td>...</td>\n",
       "      <td>...</td>\n",
       "      <td>...</td>\n",
       "      <td>...</td>\n",
       "      <td>...</td>\n",
       "      <td>...</td>\n",
       "      <td>...</td>\n",
       "      <td>...</td>\n",
       "      <td>...</td>\n",
       "      <td>...</td>\n",
       "      <td>...</td>\n",
       "      <td>...</td>\n",
       "      <td>...</td>\n",
       "    </tr>\n",
       "    <tr>\n",
       "      <th>IGL_VDJsum</th>\n",
       "      <td>8.186493</td>\n",
       "      <td>9.295385</td>\n",
       "      <td>4.407541</td>\n",
       "      <td>4.436318</td>\n",
       "      <td>3.440782</td>\n",
       "      <td>7.000300</td>\n",
       "      <td>3.005826</td>\n",
       "      <td>1.796644</td>\n",
       "      <td>28.388092</td>\n",
       "      <td>4.218672</td>\n",
       "      <td>...</td>\n",
       "      <td>0.007444</td>\n",
       "      <td>0.009350</td>\n",
       "      <td>0.008614</td>\n",
       "      <td>0.013546</td>\n",
       "      <td>0.042379</td>\n",
       "      <td>0.015437</td>\n",
       "      <td>0.060648</td>\n",
       "      <td>0.017676</td>\n",
       "      <td>0.009625</td>\n",
       "      <td>0.103795</td>\n",
       "    </tr>\n",
       "    <tr>\n",
       "      <th>TCRA_VDJsum</th>\n",
       "      <td>0.020394</td>\n",
       "      <td>0.004561</td>\n",
       "      <td>0.010737</td>\n",
       "      <td>0.050776</td>\n",
       "      <td>0.004086</td>\n",
       "      <td>0.004162</td>\n",
       "      <td>0.002521</td>\n",
       "      <td>0.000987</td>\n",
       "      <td>0.045949</td>\n",
       "      <td>0.005868</td>\n",
       "      <td>...</td>\n",
       "      <td>1.278881</td>\n",
       "      <td>2.287307</td>\n",
       "      <td>1.308158</td>\n",
       "      <td>0.902553</td>\n",
       "      <td>1.405334</td>\n",
       "      <td>1.381775</td>\n",
       "      <td>2.498550</td>\n",
       "      <td>2.699687</td>\n",
       "      <td>1.770735</td>\n",
       "      <td>0.285224</td>\n",
       "    </tr>\n",
       "    <tr>\n",
       "      <th>TCRB_VDJsum</th>\n",
       "      <td>0.038428</td>\n",
       "      <td>0.003186</td>\n",
       "      <td>0.005364</td>\n",
       "      <td>0.011552</td>\n",
       "      <td>0.011794</td>\n",
       "      <td>0.006532</td>\n",
       "      <td>0.007250</td>\n",
       "      <td>0.005731</td>\n",
       "      <td>0.108960</td>\n",
       "      <td>0.005417</td>\n",
       "      <td>...</td>\n",
       "      <td>2.521174</td>\n",
       "      <td>8.674041</td>\n",
       "      <td>2.864871</td>\n",
       "      <td>1.390127</td>\n",
       "      <td>2.986181</td>\n",
       "      <td>2.770799</td>\n",
       "      <td>6.040985</td>\n",
       "      <td>9.333780</td>\n",
       "      <td>3.471623</td>\n",
       "      <td>0.193882</td>\n",
       "    </tr>\n",
       "    <tr>\n",
       "      <th>TCRD_VDJsum</th>\n",
       "      <td>0.000885</td>\n",
       "      <td>0.002747</td>\n",
       "      <td>0.002404</td>\n",
       "      <td>0.338586</td>\n",
       "      <td>0.047394</td>\n",
       "      <td>0.001041</td>\n",
       "      <td>0.000541</td>\n",
       "      <td>0.000465</td>\n",
       "      <td>0.004645</td>\n",
       "      <td>0.010609</td>\n",
       "      <td>...</td>\n",
       "      <td>0.015681</td>\n",
       "      <td>0.016467</td>\n",
       "      <td>0.015566</td>\n",
       "      <td>0.101425</td>\n",
       "      <td>0.058729</td>\n",
       "      <td>0.031046</td>\n",
       "      <td>0.065056</td>\n",
       "      <td>0.019912</td>\n",
       "      <td>0.016555</td>\n",
       "      <td>0.547304</td>\n",
       "    </tr>\n",
       "    <tr>\n",
       "      <th>TCRG_VDJsum</th>\n",
       "      <td>0.009227</td>\n",
       "      <td>0.008482</td>\n",
       "      <td>0.010944</td>\n",
       "      <td>0.028930</td>\n",
       "      <td>0.019268</td>\n",
       "      <td>0.005582</td>\n",
       "      <td>0.004472</td>\n",
       "      <td>0.005316</td>\n",
       "      <td>0.024828</td>\n",
       "      <td>0.005351</td>\n",
       "      <td>...</td>\n",
       "      <td>0.035802</td>\n",
       "      <td>0.120088</td>\n",
       "      <td>0.016833</td>\n",
       "      <td>0.338844</td>\n",
       "      <td>0.542461</td>\n",
       "      <td>0.079142</td>\n",
       "      <td>0.161103</td>\n",
       "      <td>0.064900</td>\n",
       "      <td>0.009155</td>\n",
       "      <td>0.031208</td>\n",
       "    </tr>\n",
       "  </tbody>\n",
       "</table>\n",
       "<p>10237 rows × 34 columns</p>\n",
       "</div>"
      ],
      "text/plain": [
       "             B_Cycling   B_GC_DZ   B_GC_LZ  B_GC_prePB     B_IFN  B_activated  \\\n",
       "NOC2L         0.161488  0.122564  0.151123    0.173819  0.084727     0.101662   \n",
       "HES4          0.001593  0.001070  0.001060    0.028092  0.021639     0.009430   \n",
       "ISG15         0.152731  0.122380  0.148117    0.290065  2.370844     0.084799   \n",
       "TNFRSF18      0.008941  0.001673  0.031508    0.037623  0.007118     0.003538   \n",
       "TNFRSF4       0.005379  0.000966  0.006014    0.017460  0.006666     0.002077   \n",
       "...                ...       ...       ...         ...       ...          ...   \n",
       "IGL_VDJsum    8.186493  9.295385  4.407541    4.436318  3.440782     7.000300   \n",
       "TCRA_VDJsum   0.020394  0.004561  0.010737    0.050776  0.004086     0.004162   \n",
       "TCRB_VDJsum   0.038428  0.003186  0.005364    0.011552  0.011794     0.006532   \n",
       "TCRD_VDJsum   0.000885  0.002747  0.002404    0.338586  0.047394     0.001041   \n",
       "TCRG_VDJsum   0.009227  0.008482  0.010944    0.028930  0.019268     0.005582   \n",
       "\n",
       "                B_mem   B_naive   B_plasma   B_preGC  ...  T_CD4+_TfH  \\\n",
       "NOC2L        0.084957  0.090299   0.116330  0.183254  ...    0.080812   \n",
       "HES4         0.018003  0.005348   0.002005  0.011309  ...    0.032512   \n",
       "ISG15        0.126665  0.087653   0.170060  0.066937  ...    0.159221   \n",
       "TNFRSF18     0.002945  0.001276   0.083323  0.081873  ...    0.011603   \n",
       "TNFRSF4      0.003837  0.001996   0.051032  0.034206  ...    0.092881   \n",
       "...               ...       ...        ...       ...  ...         ...   \n",
       "IGL_VDJsum   3.005826  1.796644  28.388092  4.218672  ...    0.007444   \n",
       "TCRA_VDJsum  0.002521  0.000987   0.045949  0.005868  ...    1.278881   \n",
       "TCRB_VDJsum  0.007250  0.005731   0.108960  0.005417  ...    2.521174   \n",
       "TCRD_VDJsum  0.000541  0.000465   0.004645  0.010609  ...    0.015681   \n",
       "TCRG_VDJsum  0.004472  0.005316   0.024828  0.005351  ...    0.035802   \n",
       "\n",
       "             T_CD4+_TfH_GC  T_CD4+_naive  T_CD8+_CD161+  T_CD8+_cytotoxic  \\\n",
       "NOC2L             0.081542      0.102542       0.080890          0.076230   \n",
       "HES4              0.021923      0.038044       0.011503          0.004869   \n",
       "ISG15             0.241301      0.201282       0.194895          0.236486   \n",
       "TNFRSF18          0.193594      0.003098       0.038602          0.010298   \n",
       "TNFRSF4           0.399999      0.022382       0.039867          0.013410   \n",
       "...                    ...           ...            ...               ...   \n",
       "IGL_VDJsum        0.009350      0.008614       0.013546          0.042379   \n",
       "TCRA_VDJsum       2.287307      1.308158       0.902553          1.405334   \n",
       "TCRB_VDJsum       8.674041      2.864871       1.390127          2.986181   \n",
       "TCRD_VDJsum       0.016467      0.015566       0.101425          0.058729   \n",
       "TCRG_VDJsum       0.120088      0.016833       0.338844          0.542461   \n",
       "\n",
       "             T_CD8+_naive   T_TIM3+     T_TfR    T_Treg      VSMC  \n",
       "NOC2L            0.124494  0.139556  0.093423  0.094790  0.167392  \n",
       "HES4             0.014193  0.070718  0.214366  0.039745  1.195686  \n",
       "ISG15            0.246575  0.895547  0.359688  0.208844  0.289800  \n",
       "TNFRSF18         0.001254  0.136847  0.589498  0.247331  0.030627  \n",
       "TNFRSF4          0.002332  0.181888  1.115934  0.480265  0.032504  \n",
       "...                   ...       ...       ...       ...       ...  \n",
       "IGL_VDJsum       0.015437  0.060648  0.017676  0.009625  0.103795  \n",
       "TCRA_VDJsum      1.381775  2.498550  2.699687  1.770735  0.285224  \n",
       "TCRB_VDJsum      2.770799  6.040985  9.333780  3.471623  0.193882  \n",
       "TCRD_VDJsum      0.031046  0.065056  0.019912  0.016555  0.547304  \n",
       "TCRG_VDJsum      0.079142  0.161103  0.064900  0.009155  0.031208  \n",
       "\n",
       "[10237 rows x 34 columns]"
      ]
     },
     "execution_count": 12,
     "metadata": {},
     "output_type": "execute_result"
    }
   ],
   "source": [
    "inf_aver"
   ]
  },
  {
   "cell_type": "markdown",
   "metadata": {},
   "source": [
    "## Train scvi-cell2location <a class=\"anchor\" id=\"scvi-cell2location\"></a>"
   ]
  },
  {
   "cell_type": "code",
   "execution_count": null,
   "metadata": {},
   "outputs": [],
   "source": [
    "# rename genes to ENSEMBL\n",
    "adata_vis.var['SYMBOL'] = adata_vis.var_names\n",
    "adata_vis.var_names = adata_vis.var['gene_ids']\n",
    "adata_vis.var_names.name = None"
   ]
  },
  {
   "cell_type": "code",
   "execution_count": null,
   "metadata": {},
   "outputs": [],
   "source": [
    "# find shared genes and subset both anndata and reference signatures\n",
    "adata_vis, inf_aver = scvi.external.cell2location.intersect_var(\n",
    "    adata=adata_vis, cell_state_df=inf_aver)\n",
    "\n",
    "# prepare anndata for scVI model\n",
    "scvi.data.setup_anndata(adata=adata_vis, batch_key=\"sample\")\n",
    "scvi.data.view_anndata_setup(adata_vis)"
   ]
  },
  {
   "cell_type": "code",
   "execution_count": null,
   "metadata": {},
   "outputs": [],
   "source": [
    "# create and train the model\n",
    "mod = scvi.external.Cell2location(\n",
    "    adata_vis, cell_state_df=inf_aver, \n",
    "    batch_size=2020, \n",
    "    amortised=True, single_encoder=True,\n",
    "    encoder_kwargs={'dropout_rate': 0.2},\n",
    "    # the expected average cell abundance - user-provided, tissue-dependent hyper-prior:\n",
    "    N_cells_per_location=30) \n",
    "\n",
    "mod.train(max_epochs=1000, lr=0.01, use_gpu=True)\n",
    "\n",
    "# plot ELBO loss history during training, removing first 100 epochs from the plot\n",
    "mod.plot_history(100)\n",
    "plt.legend(labels=['minibatch 2020/4039']);"
   ]
  },
  {
   "cell_type": "code",
   "execution_count": null,
   "metadata": {},
   "outputs": [],
   "source": [
    "# In this section, we save the summary of the posterior distribution of cell abundance.\n",
    "\n",
    "# generate samples from posterior distributions for all parameters \n",
    "# and compute mean, 5%/95% quantiles and standard deviation\n",
    "samples = mod.sample_posterior(num_samples=1000, use_gpu=True)\n",
    "\n",
    "# export posterior distribution summary for all parameters and \n",
    "# annotation (model, date, var, obs and cell type names) to anndata object\n",
    "adata_vis.uns['mod'] = mod.export2adata(samples)\n",
    "\n",
    "# add estimated cell abundance as dataframe to obsm in anndata\n",
    "# first convert np.arrays to pd.DataFrames with cell type and observation names \n",
    "# data frames contain mean, 5%/95% quantiles and standard deviation, denoted by a prefix\n",
    "sample_df_dict = mod.sample2df(samples, site_name=\"w_sf\", name_prefix='cell_abundance_')\n",
    "for k, df in sample_df_dict.items():\n",
    "    #adata_vis.obs[df.columns] = df.loc[adata_vis.obs.index, :] # <- not sure if this is better than obsm\n",
    "    adata_vis.obsm[k] = df.loc[adata_vis.obs.index, :]\n",
    "\n",
    "# Save model\n",
    "mod.save(f\"{scvi_run_name}\", overwrite=True)\n",
    "# can be loaded later like this:\n",
    "# mod = scvi.external.Cell2location.load(f\"{scvi_run_name}\", adata_vis)\n",
    "\n",
    "# Save anndata object with results\n",
    "adata_file = f\"{scvi_run_name}/sp.h5ad\"\n",
    "adata_vis.write(adata_file)\n",
    "adata_file"
   ]
  },
  {
   "cell_type": "code",
   "execution_count": null,
   "metadata": {},
   "outputs": [],
   "source": [
    "# examine reconstruction accuracy to assess if there are any issues with mapping\n",
    "# the plot should be roughly diagonal, strong deviations will signal problems\n",
    "nb_parameters = mod.module.model.compute_expected(samples['post_sample_means'], adata_vis)\n",
    "mod.plot_posterior_mu_vs_data(nb_parameters['mu'], adata_vis.X.toarray())"
   ]
  },
  {
   "cell_type": "markdown",
   "metadata": {},
   "source": [
    "### Plot cell abundance in spatial coordinates"
   ]
  },
  {
   "cell_type": "code",
   "execution_count": null,
   "metadata": {},
   "outputs": [],
   "source": [
    "# add 5% quantile, representing confident cell abundance, 'at least this amount is present', \n",
    "# to adata.obs with nice names for plotting\n",
    "adata_vis.obs[adata_vis.uns['mod']['factor_names']] = adata_vis.obsm['q05_cell_abundance_w_sf']\n",
    "\n",
    "# plot in spatial coordinates\n",
    "with mpl.rc_context({'axes.facecolor':  'black',\n",
    "                     'figure.figsize': [4.5, 5]}):\n",
    "    sc.pl.spatial(adata_vis, cmap='magma',\n",
    "                  color=adata_vis.uns['mod']['factor_names'], # show all cell types\n",
    "                  ncols=4, size=1.3, \n",
    "                  img_key='hires',\n",
    "                  # limit color scale at 99.2% quantile of cell abundance\n",
    "                  vmin=0, vmax='p99.2' \n",
    "                 )"
   ]
  },
  {
   "cell_type": "markdown",
   "metadata": {},
   "source": [
    "## Perform clustering of cell abudance estimates to identify tissue regions <a class=\"anchor\" id=\"region_clustering\"></a>\n",
    "\n",
    "We find regions by clustering locations/spots (Leiden) based on estimated cell abundance of each cell type. Results are saved in `adata_vis.obs['region_cluster']`."
   ]
  },
  {
   "cell_type": "code",
   "execution_count": 13,
   "metadata": {},
   "outputs": [],
   "source": [
    "# compute KNN using the cell2location output\n",
    "sc.pp.neighbors(adata_vis, use_rep='q05_cell_abundance_w_sf',\n",
    "                n_neighbors = 20)\n",
    "\n",
    "# Cluster spots into regions using scanpy\n",
    "sc.tl.leiden(adata_vis, resolution=1)\n",
    "\n",
    "# add region as categorical variable\n",
    "adata_vis.obs[\"region_cluster\"] = adata_vis.obs[\"leiden\"]\n",
    "adata_vis.obs[\"region_cluster\"] =  adata_vis.obs[\"region_cluster\"].astype(\"category\")"
   ]
  },
  {
   "cell_type": "code",
   "execution_count": null,
   "metadata": {},
   "outputs": [],
   "source": [
    "# compute UMAP using KNN graph based on the cell2location output\n",
    "sc.tl.umap(adata_vis, min_dist = 0.3, spread = 1)\n",
    "\n",
    "# show regions in UMAP coordinates\n",
    "with mpl.rc_context({'axes.facecolor':  'white',\n",
    "                     'figure.figsize': [8, 8]}):\n",
    "    sc.pl.umap(adata_vis, color=['region_cluster'], size=30,\n",
    "               color_map = 'RdPu', ncols = 2, legend_loc='on data',\n",
    "               legend_fontsize=20)\n",
    "    sc.pl.umap(adata_vis, color=['sample'], size=30,\n",
    "               color_map = 'RdPu', ncols = 2,\n",
    "               legend_fontsize=20)\n",
    "\n",
    "# plot in spatial coordinates\n",
    "with mpl.rc_context({'axes.facecolor':  'black',\n",
    "                     'figure.figsize': [4.5, 5]}):\n",
    "    sc.pl.spatial(adata_vis, color=['region_cluster'], \n",
    "                  size=1.3, img_key='hires', alpha=0.5)"
   ]
  },
  {
   "cell_type": "markdown",
   "metadata": {},
   "source": [
    "### Advanced use examples"
   ]
  },
  {
   "cell_type": "code",
   "execution_count": null,
   "metadata": {},
   "outputs": [],
   "source": [
    "# Get posterior distribution samples for specific variables\n",
    "samples_w_sf = mod.sample_posterior(num_samples=1000, use_gpu=True, return_samples=True,\n",
    "                                    return_sites=['w_sf', 'm_g', 'u_sf_mRNA_factors'])\n",
    "# samples_w_sf['posterior_samples'] contains 1000 samples as arrays with dim=(num_samples, ...)"
   ]
  },
  {
   "cell_type": "code",
   "execution_count": null,
   "metadata": {},
   "outputs": [],
   "source": [
    "# Compute any quantile of the posterior distribution\n",
    "medians = mod.posterior_quantile(q=0.5, use_gpu = True)\n",
    "\n",
    "with mpl.rc_context({'axes.facecolor':  'white',\n",
    "                     'figure.figsize': [5, 5]}):\n",
    "    plt.scatter(medians['w_sf'].flatten(), samples['post_sample_means']['w_sf'].flatten());\n",
    "    plt.xlabel('median');\n",
    "    plt.ylabel('mean');"
   ]
  },
  {
   "cell_type": "markdown",
   "metadata": {},
   "source": [
    "Modules and their versions used for this analysis"
   ]
  },
  {
   "cell_type": "code",
   "execution_count": 23,
   "metadata": {},
   "outputs": [
    {
     "name": "stdout",
     "output_type": "stream",
     "text": [
      "ipykernel 5.3.4\n",
      "ipykernel._version 5.3.4\n",
      "json 2.0.9\n",
      "re 2.2.1\n",
      "IPython 7.20.0\n",
      "IPython.core.release 7.20.0\n",
      "logging 0.5.1.2\n",
      "zlib 1.0\n",
      "traitlets 5.0.5\n",
      "traitlets._version 5.0.5\n",
      "argparse 1.1\n",
      "ipython_genutils 0.2.0\n",
      "ipython_genutils._version 0.2.0\n",
      "platform 1.0.8\n",
      "pygments 2.7.4\n",
      "pexpect 4.8.0\n",
      "ptyprocess 0.7.0\n",
      "decorator 4.4.2\n",
      "pickleshare 0.7.5\n",
      "backcall 0.2.0\n",
      "prompt_toolkit 3.0.8\n",
      "wcwidth 0.2.5\n",
      "jedi 0.17.0\n",
      "parso 0.8.1\n",
      "colorama 0.4.4\n",
      "ctypes 1.1.0\n",
      "_ctypes 1.1.0\n",
      "urllib.request 3.7\n",
      "jupyter_client 6.1.7\n",
      "jupyter_client._version 6.1.7\n",
      "zmq 20.0.0\n",
      "zmq.backend.cython 40303\n",
      "zmq.backend.cython.constants 40303\n",
      "zmq.sugar 20.0.0\n",
      "zmq.sugar.constants 40303\n",
      "zmq.sugar.version 20.0.0\n",
      "jupyter_core 4.7.1\n",
      "jupyter_core.version 4.7.1\n",
      "_curses b'2.2'\n",
      "dateutil 2.8.1\n",
      "six 1.15.0\n",
      "decimal 1.70\n",
      "_decimal 1.70\n",
      "distutils 3.7.9\n",
      "scanpy 1.7.0\n",
      "scanpy._metadata 1.7.0\n",
      "packaging 20.9\n",
      "packaging.__about__ 20.9\n",
      "importlib_metadata 1.7.0\n",
      "csv 1.0\n",
      "_csv 1.0\n",
      "numpy 1.20.0\n",
      "numpy.core 1.20.0\n",
      "numpy.core._multiarray_umath 3.1\n",
      "numpy.lib 1.20.0\n",
      "numpy.linalg._umath_linalg 0.1.5\n",
      "scipy 1.6.0\n",
      "anndata 0.7.5\n",
      "anndata._metadata 0.7.5\n",
      "h5py 3.1.0\n",
      "cached_property 1.5.2\n",
      "natsort 7.1.1\n",
      "pandas 1.2.1\n",
      "pytz 2021.1\n",
      "pandas.compat.numpy.function 1.20.0\n",
      "sinfo 0.3.1\n",
      "stdlib_list v0.8.0\n",
      "numba 0.52.0\n",
      "yaml 5.3.1\n",
      "llvmlite 0.35.0\n",
      "pkg_resources._vendor.appdirs 1.4.3\n",
      "pkg_resources.extern.appdirs 1.4.3\n",
      "pkg_resources._vendor.packaging 20.4\n",
      "pkg_resources._vendor.packaging.__about__ 20.4\n",
      "pkg_resources.extern.packaging 20.4\n",
      "pkg_resources._vendor.pyparsing 2.2.1\n",
      "pkg_resources.extern.pyparsing 2.2.1\n",
      "numba.misc.appdirs 1.4.1\n",
      "sklearn 0.24.1\n",
      "sklearn.base 0.24.1\n",
      "joblib 1.0.0\n",
      "joblib.externals.loky 2.9.0\n",
      "joblib.externals.cloudpickle 1.6.0\n",
      "scipy._lib.decorator 4.0.5\n",
      "scipy.linalg._fblas b'$Revision: $'\n",
      "scipy.linalg._flapack b'$Revision: $'\n",
      "scipy.linalg._flinalg b'$Revision: $'\n",
      "scipy.special.specfun b'$Revision: $'\n",
      "scipy.ndimage 2.0\n",
      "scipy.optimize.minpack2 b'$Revision: $'\n",
      "scipy.sparse.linalg.isolve._iterative b'$Revision: $'\n",
      "scipy.sparse.linalg.eigen.arpack._arpack b'$Revision: $'\n",
      "scipy.optimize._lbfgsb b'$Revision: $'\n",
      "scipy.optimize._cobyla b'$Revision: $'\n",
      "scipy.optimize._slsqp b'$Revision: $'\n",
      "scipy.optimize._minpack  1.10 \n",
      "scipy.optimize.__nnls b'$Revision: $'\n",
      "scipy.linalg._interpolative b'$Revision: $'\n",
      "scipy.integrate._odepack  1.9 \n",
      "scipy.integrate._quadpack  1.13 \n",
      "scipy.integrate._ode $Id$\n",
      "scipy.integrate.vode b'$Revision: $'\n",
      "scipy.integrate._dop b'$Revision: $'\n",
      "scipy.integrate.lsoda b'$Revision: $'\n",
      "scipy.interpolate._fitpack  1.7 \n",
      "scipy.interpolate.dfitpack b'$Revision: $'\n",
      "scipy.stats.statlib b'$Revision: $'\n",
      "scipy.stats.mvn b'$Revision: $'\n",
      "sklearn.utils._joblib 1.0.0\n",
      "leidenalg 0.8.3\n",
      "igraph 0.8.3\n",
      "texttable 1.6.3\n",
      "igraph.version 0.8.3\n",
      "matplotlib 3.3.4\n",
      "pyparsing 2.4.7\n",
      "cycler 0.10.0\n",
      "kiwisolver 1.3.1\n",
      "PIL 8.1.0\n",
      "PIL._version 8.1.0\n",
      "PIL.Image 8.1.0\n",
      "xml.etree.ElementTree 1.3.0\n",
      "cffi 1.14.4\n",
      "tables 3.6.1\n",
      "numexpr 2.7.2\n",
      "legacy_api_wrap 1.2\n",
      "get_version 2.1\n",
      "scvi 0.0.0\n",
      "torch 1.8.1+cu102\n",
      "torch.version 1.8.1+cu102\n",
      "tqdm 4.56.0\n",
      "tqdm.cli 4.56.0\n",
      "tqdm.version 4.56.0\n",
      "tqdm._dist_ver 4.56.0\n",
      "ipywidgets 7.6.3\n",
      "ipywidgets._version 7.6.3\n",
      "_cffi_backend 1.14.4\n",
      "pycparser 2.20\n",
      "pycparser.ply 3.9\n",
      "pycparser.ply.yacc 3.10\n",
      "pycparser.ply.lex 3.10\n",
      "threadpoolctl 2.1.0\n",
      "pyro 1.6.0+9e1fd393\n",
      "opt_einsum v3.3.0\n",
      "pyro._version 1.6.0+9e1fd393\n",
      "pytorch_lightning 1.2.7\n",
      "pytorch_lightning.info 1.2.7\n",
      "torchmetrics 0.2.0\n",
      "fsspec 0.8.5\n",
      "tensorboard 2.4.1\n",
      "tensorboard.version 2.4.1\n",
      "google.protobuf 3.14.0\n",
      "tensorboard.compat.tensorflow_stub stub\n",
      "tensorboard.compat.tensorflow_stub.pywrap_tensorflow 0\n",
      "seaborn 0.11.1\n",
      "seaborn.external.husl 2.1.0\n",
      "statsmodels 0.12.2\n"
     ]
    }
   ],
   "source": [
    "import sys\n",
    "for module in sys.modules:\n",
    "    try:\n",
    "        print(module,sys.modules[module].__version__)\n",
    "    except:\n",
    "        try:\n",
    "            if  type(modules[module].version) is str:\n",
    "                print(module,sys.modules[module].version)\n",
    "            else:\n",
    "                print(module,sys.modules[module].version())\n",
    "        except:\n",
    "            try:\n",
    "                print(module,sys.modules[module].VERSION)\n",
    "            except:\n",
    "                pass"
   ]
  },
  {
   "cell_type": "code",
   "execution_count": null,
   "metadata": {},
   "outputs": [],
   "source": []
  }
 ],
 "metadata": {
  "kernelspec": {
   "display_name": "Python (scvi-env2)",
   "language": "python",
   "name": "scvi-env2"
  },
  "language_info": {
   "codemirror_mode": {
    "name": "ipython",
    "version": 3
   },
   "file_extension": ".py",
   "mimetype": "text/x-python",
   "name": "python",
   "nbconvert_exporter": "python",
   "pygments_lexer": "ipython3",
   "version": "3.7.9"
  }
 },
 "nbformat": 4,
 "nbformat_minor": 4
}
