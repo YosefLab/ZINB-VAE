{
 "cells": [
  {
   "cell_type": "markdown",
   "metadata": {},
   "source": [
    "Import Dataset Classes"
   ]
  },
  {
   "cell_type": "code",
   "execution_count": 1,
   "metadata": {},
   "outputs": [
    {
     "name": "stderr",
     "output_type": "stream",
     "text": [
      "/anaconda3/lib/python3.6/site-packages/h5py/__init__.py:36: FutureWarning: Conversion of the second argument of issubdtype from `float` to `np.floating` is deprecated. In future, it will be treated as `np.float64 == np.dtype(float).type`.\n",
      "  from ._conv import register_converters as _register_converters\n"
     ]
    }
   ],
   "source": [
    "import os \n",
    "os.chdir('../.') \n",
    "\n",
    "from scvi.dataset import LoomDataset, CsvDataset, Dataset10X \n",
    "from scvi.dataset import BrainLargeDataset, CortexDataset, PbmcDataset, RetinaDataset, HematoDataset, CbmcDataset, BrainSmallDataset"
   ]
  },
  {
   "cell_type": "markdown",
   "metadata": {},
   "source": [
    "# Generic Datasets\n",
    "`scvi v0.1.3` supports dataset loading for the following three generic file formats: \n",
    "* `.loom` files\n",
    "* `.csv` files \n",
    "* datasets from `10x` website "
   ]
  },
  {
   "cell_type": "markdown",
   "metadata": {},
   "source": [
    "### Loading a `.loom` file\n",
    "Any `.loom` file can be loaded with initializing `LoomDataset` with `filename`. \n",
    "\n",
    "Optional parameters: \n",
    "* `save_path`: save path (default to be `data/`) of the file\n",
    "* `url`: url the dataset if the file needs to be downloaded from the web\n",
    "* `new_n_genes`: the number of subsampling genes - set it to be `False` to turn off subsampling"
   ]
  },
  {
   "cell_type": "code",
   "execution_count": 2,
   "metadata": {},
   "outputs": [
    {
     "name": "stdout",
     "output_type": "stream",
     "text": [
      "Downloading data\n",
      "Preprocessing dataset\n",
      "Finished preprocessing dataset\n",
      "Downsampling from 21135 to 558 genes\n"
     ]
    }
   ],
   "source": [
    "loom_dataset = LoomDataset(\"Cortex.loom\", \n",
    "                             save_path='data/',\n",
    "                             url='http://loom.linnarssonlab.org/clone/Previously%20Published/Cortex.loom')"
   ]
  },
  {
   "cell_type": "markdown",
   "metadata": {},
   "source": [
    "### Loading a `.csv` file \n",
    "Any `.csv` file can be loaded with initializing `CsvDataset` with `filename`. \n",
    "\n",
    "Optional parameters: \n",
    "* `save_path`: save path (default to be `data/`) of the file\n",
    "* `url`: url of the dataset if the file needs to be downloaded from the web\n",
    "* `compression`: set `compression` as `.gz`, `.bz2`, `.zip`, or `.xz` to load a zipped `csv` file \n",
    "* `new_n_genes`: the number of subsampling genes - set it to be `False` to turn off subsampling\n",
    "\n",
    "Note: `CsvDataset` currently only supoorts `.csv` files that are genes by cells. "
   ]
  },
  {
   "cell_type": "code",
   "execution_count": 3,
   "metadata": {},
   "outputs": [
    {
     "name": "stdout",
     "output_type": "stream",
     "text": [
      "Downloading data\n",
      "Preprocessing dataset\n",
      "Finished preprocessing dataset\n",
      "Downsampling from 36280 to 600 genes\n"
     ]
    }
   ],
   "source": [
    "csv_dataset = CsvDataset(\"GSE100866_CBMC_8K_13AB_10X-RNA_umi.csv.gz\", \n",
    "                        save_path='data/',\n",
    "                        compression='gzip', \n",
    "                        url = \"https://www.ncbi.nlm.nih.gov/geo/download/?acc=GSE100866&format=file&file=GSE100866%5FCBMC%5F8K%5F13AB%5F10X%2DRNA%5Fumi%2Ecsv%2Egz\")"
   ]
  },
  {
   "cell_type": "markdown",
   "metadata": {},
   "source": [
    "### Loading a file from `10x` website "
   ]
  },
  {
   "cell_type": "markdown",
   "metadata": {},
   "source": [
    "`10x` has published several datasets on their [website](https://www.10xgenomics.com). \n",
    "Initialize `Dataset10X` by passing in the dataset name of one of the following datasets that `scvi` currently supports: `frozen_pbmc_donor_a`, `frozen_pbmc_donor_b`, `frozen_pbmc_donor_c`, `pbmc8k`, `pbmc4k`, `t_3k`, `t_4k`, and `neuron_9k`. \n",
    "\n",
    "Optional parameters: \n",
    "* `save_path`: save path (default to be `data/`) of the file\n",
    "* `type`: set `type` (default to be `filtered`) to be `filtered` or `raw` to choose one from the two datasets that's available on `10X`\n",
    "* `new_n_genes`: the number of subsampling genes - set it to be `False` to turn off subsampling"
   ]
  },
  {
   "cell_type": "code",
   "execution_count": 11,
   "metadata": {},
   "outputs": [
    {
     "name": "stdout",
     "output_type": "stream",
     "text": [
      "Preprocessing dataset\n",
      "Finished preprocessing dataset\n",
      "Downsampling from 27998 to 3000 genes\n"
     ]
    }
   ],
   "source": [
    "tenX_dataset = Dataset10X(\"neuron_9k\")"
   ]
  },
  {
   "cell_type": "markdown",
   "metadata": {},
   "source": [
    "# Built In Datasets "
   ]
  },
  {
   "cell_type": "markdown",
   "metadata": {},
   "source": [
    "We've also implemented seven built-in datasets to make it easier to reproduce results from the scVI paper. \n",
    "\n",
    "Descriptions of the seven built-in datasets: \n",
    "* **BRAIN LARGE**: 1.3 million mouse brain cells, spanning the cortex, hippocampus and subventricular zone, and profiled with 10x chromium; \n",
    "* **CORTEX**: 3,005 mouse cortex cells profiled with the Smart-seq2 protocol, with the addition of UMI. To facilitate comparison with other methods, we use a filtered set of 558 highly variable genes; \n",
    "* **PBMC**: 12,039 human peripheral blood mononuclear cells profiled with 10x; \n",
    "* **RETINA**: 27,499 mouse retinal bipolar neurons, profiled in two batches using the Drop-Seq technology; \n",
    "* **HEMATO**: 4,016 cells from two batches that were profiled using in-drop; \n",
    "* **CBMC**: 8,617 cord blood mononuclear cells profiled using 10x along with, for each cell, 13 well-characterized mononuclear antibodies; \n",
    "* **BRAIN SMALL**: 9,128 mouse brain cells profiled using 10x. "
   ]
  },
  {
   "cell_type": "markdown",
   "metadata": {},
   "source": [
    "### Loading `BRAIN-LARGE` dataset\n",
    "`BRAIN-LARGE` dataset can be used to demonstrate the scalability of scVI. "
   ]
  },
  {
   "cell_type": "code",
   "execution_count": 5,
   "metadata": {},
   "outputs": [
    {
     "name": "stdout",
     "output_type": "stream",
     "text": [
      "Downloading data\n",
      "Preprocessing Brain Large data\n",
      "720 genes subsampled\n",
      "1306127 cells subsampled\n",
      "Finished preprocessing data\n"
     ]
    }
   ],
   "source": [
    "brain_large_dataset = BrainLargeDataset() "
   ]
  },
  {
   "cell_type": "markdown",
   "metadata": {},
   "source": [
    "### Loading `CORTEX` dataset, `PBMC` dataset, `RETINA` dataset\n",
    "The `CORTEX` dataset exhibits a clear high-level subpopulation structure, which has been inferred by the authors of the original publication using computational tools and annotated by inspection of specific genes or transcriptional programs. Similar levels of annotation are provided with the `PBMC` and `RETINA` datasets."
   ]
  },
  {
   "cell_type": "code",
   "execution_count": 7,
   "metadata": {},
   "outputs": [
    {
     "name": "stdout",
     "output_type": "stream",
     "text": [
      "Preprocessing Cortex data\n",
      "Finished preprocessing Cortex data\n",
      "Downloading data.zip\n",
      "Preprocessing pbmc data\n",
      "Finished preprocessing pbmc data\n",
      "Preprocessing dataset\n",
      "Finished preprocessing dataset\n"
     ]
    }
   ],
   "source": [
    "cortex_dataset = CortexDataset() \n",
    "pbmc_dataset = PbmcDataset() \n",
    "retina_dataset = RetinaDataset()"
   ]
  },
  {
   "cell_type": "markdown",
   "metadata": {},
   "source": [
    "### Loading `HEMATO` dataset \n",
    "`HEMATO` dataset can be used as an example for cases where gene expression varies in a continuous fashion rather than forming discrete subpopulations. "
   ]
  },
  {
   "cell_type": "code",
   "execution_count": 8,
   "metadata": {},
   "outputs": [
    {
     "name": "stdout",
     "output_type": "stream",
     "text": [
      "Downloading data\n",
      "Preprocessing Hemato data\n",
      "Finished preprocessing Hemato data\n"
     ]
    }
   ],
   "source": [
    "hemato_dataset = HematoDataset() "
   ]
  },
  {
   "cell_type": "markdown",
   "metadata": {},
   "source": [
    "### Loading `CBMC` dataset\n",
    "`CBMC` dataset can be used to analyze how the latent spaces inferred by dimensionality-reduction algorithms summarize protein marker abundance."
   ]
  },
  {
   "cell_type": "code",
   "execution_count": 9,
   "metadata": {},
   "outputs": [
    {
     "name": "stdout",
     "output_type": "stream",
     "text": [
      "Downloading data\n",
      "Preprocessing dataset\n",
      "Finished preprocessing dataset\n",
      "Downsampling from 36280 to 600 genes\n"
     ]
    }
   ],
   "source": [
    "cbmc_dataset = CbmcDataset()"
   ]
  },
  {
   "cell_type": "markdown",
   "metadata": {},
   "source": [
    "### Loading `BRAIN-SMALL` dataset\n",
    "`BRAIN-SMALL` is used as a complement to PBMC for the study of zero abundance and quality control metrics correlation with the generative posterior parameters."
   ]
  },
  {
   "cell_type": "code",
   "execution_count": 10,
   "metadata": {},
   "outputs": [
    {
     "name": "stdout",
     "output_type": "stream",
     "text": [
      "Preprocessing dataset\n",
      "Finished preprocessing dataset\n",
      "Downsampling from 27998 to 3000 genes\n"
     ]
    }
   ],
   "source": [
    "brain_small_dataset = BrainSmallDataset()"
   ]
  }
 ],
 "metadata": {
  "kernelspec": {
   "display_name": "Python 3",
   "language": "python",
   "name": "python3"
  },
  "language_info": {
   "codemirror_mode": {
    "name": "ipython",
    "version": 3
   },
   "file_extension": ".py",
   "mimetype": "text/x-python",
   "name": "python",
   "nbconvert_exporter": "python",
   "pygments_lexer": "ipython3",
   "version": "3.6.4"
  }
 },
 "nbformat": 4,
 "nbformat_minor": 2
}
