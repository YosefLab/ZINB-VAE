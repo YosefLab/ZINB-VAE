{
 "cells": [
  {
   "cell_type": "markdown",
   "metadata": {},
   "source": [
    "This tutorial shows how to load data that are in the biom format. Biom is a format designed to store sparse matrices that is commonly used for storing microbiome data. \n",
    "\n",
    "To demonstrate how to use this format, we will use `LDVAE` to analyze samples from different body sites from the Human Microbiome Project."
   ]
  },
  {
   "cell_type": "code",
   "execution_count": 1,
   "metadata": {},
   "outputs": [
    {
     "name": "stderr",
     "output_type": "stream",
     "text": [
      "/Users/jmorton/miniconda3/envs/scvi/lib/python3.8/site-packages/anndata/_core/anndata.py:21: FutureWarning: pandas.core.index is deprecated and will be removed in a future version.  The public classes are available in the top-level namespace.\n",
      "  from pandas.core.index import RangeIndex\n",
      "/Users/jmorton/miniconda3/envs/scvi/lib/python3.8/site-packages/numba/np/ufunc/parallel.py:355: NumbaWarning: The TBB threading layer requires TBB version 2019.5 or later i.e., TBB_INTERFACE_VERSION >= 11005. Found TBB_INTERFACE_VERSION = 11000. The TBB threading layer is disabled.\n",
      "  warnings.warn(problem)\n"
     ]
    }
   ],
   "source": [
    "import numpy as np\n",
    "from scvi.dataset import BiomDataset\n",
    "from scvi.inference import UnsupervisedTrainer\n",
    "from scvi.models import LDVAE\n",
    "%matplotlib inline"
   ]
  },
  {
   "cell_type": "markdown",
   "metadata": {},
   "source": [
    "We will download a copy of the Human Microbiome Project data.  \n",
    "The dimensions of a typical biom file consist of microbes along the rows and the samples long the columns.\n",
    "The counts represents the number of times a microbe has been observed for a given sample.\n",
    "\n",
    "The HMP dataset here was collected using a technique called 16S sequencing. However, the biom\n",
    "format is agnostic to the data type, and is commonly used for storing metagenomics / metabolomics counts.\n",
    "See https://qiita.ucsd.edu/ for more examples of downloadable studies."
   ]
  },
  {
   "cell_type": "code",
   "execution_count": 2,
   "metadata": {},
   "outputs": [
    {
     "name": "stdout",
     "output_type": "stream",
     "text": [
      "[2020-05-26 23:23:56,498] INFO - scvi.dataset.dataset | File /Users/jmorton/Documents/dev/scVI/tests/notebooks/data/HMP.biom already downloaded\n",
      "[2020-05-26 23:23:56,499] INFO - scvi.dataset.biom | Preprocessing dataset\n",
      "[2020-05-26 23:23:56,775] INFO - scvi.dataset.biom | Finished preprocessing dataset\n",
      "7901 (7901, 6456)\n",
      "[2020-05-26 23:23:56,787] INFO - scvi.dataset.dataset | Remapping batch_indices to [0,N]\n",
      "[2020-05-26 23:23:56,788] INFO - scvi.dataset.dataset | Remapping labels to [0,N]\n",
      "[2020-05-26 23:23:56,807] INFO - scvi.dataset.dataset | Computing the library size for the new data\n",
      "[2020-05-26 23:23:56,814] INFO - scvi.dataset.dataset | Downsampled from 6456 to 6456 cells\n"
     ]
    }
   ],
   "source": [
    "url = r'https://github.com/biocore/American-Gut/blob/master/data/HMP/HMPv35_100nt.biom?raw=true'\n",
    "biom_dataset = BiomDataset(filename='HMP.biom', url=url)"
   ]
  },
  {
   "cell_type": "markdown",
   "metadata": {},
   "source": [
    "Notice here there are 6456 samples, and many of these samples failed sequencing. These samples can be thrown out due to having low sequencing depth.  We will only focus on the top 6000 samples with the highest sequencing depths.\n",
    "\n",
    "We will want to make sure that the number of microbes is smaller than the number of samples, so let's subsample down to 1000 microbes based on their variance."
   ]
  },
  {
   "cell_type": "code",
   "execution_count": 3,
   "metadata": {},
   "outputs": [
    {
     "name": "stdout",
     "output_type": "stream",
     "text": [
      "[2020-05-26 23:23:56,837] INFO - scvi.dataset.dataset | Computing the library size for the new data\n",
      "[2020-05-26 23:23:56,843] INFO - scvi.dataset.dataset | Downsampled from 6456 to 6000 cells\n",
      "[2020-05-26 23:23:56,850] INFO - scvi.dataset.dataset | Downsampling from 7901 to 1000 genes\n",
      "[2020-05-26 23:23:56,861] INFO - scvi.dataset.dataset | Computing the library size for the new data\n",
      "[2020-05-26 23:23:56,865] INFO - scvi.dataset.dataset | Filtering non-expressing cells.\n",
      "[2020-05-26 23:23:56,877] INFO - scvi.dataset.dataset | Computing the library size for the new data\n",
      "[2020-05-26 23:23:56,882] INFO - scvi.dataset.dataset | Downsampled from 6000 to 6000 cells\n"
     ]
    }
   ],
   "source": [
    "biom_dataset.subsample_cells(6000)\n",
    "biom_dataset.subsample_genes(1000, mode='variance')"
   ]
  },
  {
   "cell_type": "markdown",
   "metadata": {},
   "source": [
    "With the biom dataset loaded, now we can load the corresponding sample metadata, this\n",
    "provides sample collection information. From there we can determine which body site\n",
    "each sample has originated from. This will be important for visualizing the results of the dimensionality reduction in the following step."
   ]
  },
  {
   "cell_type": "code",
   "execution_count": 4,
   "metadata": {},
   "outputs": [
    {
     "data": {
      "text/html": [
       "<div>\n",
       "<style scoped>\n",
       "    .dataframe tbody tr th:only-of-type {\n",
       "        vertical-align: middle;\n",
       "    }\n",
       "\n",
       "    .dataframe tbody tr th {\n",
       "        vertical-align: top;\n",
       "    }\n",
       "\n",
       "    .dataframe thead th {\n",
       "        text-align: right;\n",
       "    }\n",
       "</style>\n",
       "<table border=\"1\" class=\"dataframe\">\n",
       "  <thead>\n",
       "    <tr style=\"text-align: right;\">\n",
       "      <th></th>\n",
       "      <th>BarcodeSequence</th>\n",
       "      <th>LinkerPrimerSequence</th>\n",
       "      <th>TITLE</th>\n",
       "      <th>EXPERIMENTACCESSION</th>\n",
       "      <th>sex</th>\n",
       "      <th>ANONYMIZEDNAME</th>\n",
       "      <th>pfph</th>\n",
       "      <th>HMPbodysubsite</th>\n",
       "      <th>HMPbodysupersite</th>\n",
       "      <th>intph</th>\n",
       "      <th>...</th>\n",
       "      <th>AGE</th>\n",
       "      <th>RUNALIAS</th>\n",
       "      <th>RUNCENTER</th>\n",
       "      <th>gender</th>\n",
       "      <th>REGION</th>\n",
       "      <th>srs</th>\n",
       "      <th>Runid</th>\n",
       "      <th>collectday</th>\n",
       "      <th>Description</th>\n",
       "      <th>COUNTRY</th>\n",
       "    </tr>\n",
       "    <tr>\n",
       "      <th>#SampleID</th>\n",
       "      <th></th>\n",
       "      <th></th>\n",
       "      <th></th>\n",
       "      <th></th>\n",
       "      <th></th>\n",
       "      <th></th>\n",
       "      <th></th>\n",
       "      <th></th>\n",
       "      <th></th>\n",
       "      <th></th>\n",
       "      <th></th>\n",
       "      <th></th>\n",
       "      <th></th>\n",
       "      <th></th>\n",
       "      <th></th>\n",
       "      <th></th>\n",
       "      <th></th>\n",
       "      <th></th>\n",
       "      <th></th>\n",
       "      <th></th>\n",
       "      <th></th>\n",
       "    </tr>\n",
       "  </thead>\n",
       "  <tbody>\n",
       "    <tr>\n",
       "      <th>SRS011182.SRX020515</th>\n",
       "      <td>TCAGAGCTTC</td>\n",
       "      <td>CCGTCAATTCMTTTRAGT</td>\n",
       "      <td>700015009</td>\n",
       "      <td>SRX020515</td>\n",
       "      <td>male</td>\n",
       "      <td>241686</td>\n",
       "      <td>0</td>\n",
       "      <td>Anterior_nares</td>\n",
       "      <td>Airways</td>\n",
       "      <td>0</td>\n",
       "      <td>...</td>\n",
       "      <td>38</td>\n",
       "      <td>no_data</td>\n",
       "      <td>WUGSC</td>\n",
       "      <td>0</td>\n",
       "      <td>V35</td>\n",
       "      <td>SRS011182</td>\n",
       "      <td>SRR045359</td>\n",
       "      <td>0</td>\n",
       "      <td>HMP_Human_metagenome_sample_700015009_from_sub...</td>\n",
       "      <td>GAZ:United States of America</td>\n",
       "    </tr>\n",
       "    <tr>\n",
       "      <th>SRS011296.SRX020666</th>\n",
       "      <td>TCAGTTCGCGAC</td>\n",
       "      <td>CCGTCAATTCMTTTRAGT</td>\n",
       "      <td>700015301</td>\n",
       "      <td>SRX020666</td>\n",
       "      <td>male</td>\n",
       "      <td>241748</td>\n",
       "      <td>0</td>\n",
       "      <td>Anterior_nares</td>\n",
       "      <td>Airways</td>\n",
       "      <td>0</td>\n",
       "      <td>...</td>\n",
       "      <td>27</td>\n",
       "      <td>no_data</td>\n",
       "      <td>WUGSC</td>\n",
       "      <td>0</td>\n",
       "      <td>V35</td>\n",
       "      <td>SRS011296</td>\n",
       "      <td>SRR044980</td>\n",
       "      <td>0</td>\n",
       "      <td>HMP_Human_metagenome_sample_700015301_from_sub...</td>\n",
       "      <td>GAZ:United States of America</td>\n",
       "    </tr>\n",
       "    <tr>\n",
       "      <th>SRS011296.SRX020669</th>\n",
       "      <td>TCAGTTCGCGAC</td>\n",
       "      <td>CCGTCAATTCMTTTRAGT</td>\n",
       "      <td>700015301</td>\n",
       "      <td>SRX020669</td>\n",
       "      <td>male</td>\n",
       "      <td>241748</td>\n",
       "      <td>0</td>\n",
       "      <td>Anterior_nares</td>\n",
       "      <td>Airways</td>\n",
       "      <td>0</td>\n",
       "      <td>...</td>\n",
       "      <td>27</td>\n",
       "      <td>no_data</td>\n",
       "      <td>WUGSC</td>\n",
       "      <td>0</td>\n",
       "      <td>V35</td>\n",
       "      <td>SRS011296</td>\n",
       "      <td>SRR045351</td>\n",
       "      <td>0</td>\n",
       "      <td>HMP_Human_metagenome_sample_700015301_from_sub...</td>\n",
       "      <td>GAZ:United States of America</td>\n",
       "    </tr>\n",
       "    <tr>\n",
       "      <th>SRS011380.SRX020662</th>\n",
       "      <td>TCAGTAATCTC</td>\n",
       "      <td>CCGTCAATTCMTTTRAGT</td>\n",
       "      <td>700015677</td>\n",
       "      <td>SRX020662</td>\n",
       "      <td>male</td>\n",
       "      <td>241767</td>\n",
       "      <td>0</td>\n",
       "      <td>Anterior_nares</td>\n",
       "      <td>Airways</td>\n",
       "      <td>0</td>\n",
       "      <td>...</td>\n",
       "      <td>33</td>\n",
       "      <td>no_data</td>\n",
       "      <td>WUGSC</td>\n",
       "      <td>0</td>\n",
       "      <td>V35</td>\n",
       "      <td>SRS011380</td>\n",
       "      <td>SRR047518</td>\n",
       "      <td>0</td>\n",
       "      <td>HMP_Human_metagenome_sample_700015677_from_sub...</td>\n",
       "      <td>GAZ:United States of America</td>\n",
       "    </tr>\n",
       "    <tr>\n",
       "      <th>SRS011380.SRX020664</th>\n",
       "      <td>TCAGTAATCTC</td>\n",
       "      <td>CCGTCAATTCMTTTRAGT</td>\n",
       "      <td>700015677</td>\n",
       "      <td>SRX020664</td>\n",
       "      <td>male</td>\n",
       "      <td>241767</td>\n",
       "      <td>0</td>\n",
       "      <td>Anterior_nares</td>\n",
       "      <td>Airways</td>\n",
       "      <td>0</td>\n",
       "      <td>...</td>\n",
       "      <td>33</td>\n",
       "      <td>no_data</td>\n",
       "      <td>WUGSC</td>\n",
       "      <td>0</td>\n",
       "      <td>V35</td>\n",
       "      <td>SRS011380</td>\n",
       "      <td>SRR045431</td>\n",
       "      <td>0</td>\n",
       "      <td>HMP_Human_metagenome_sample_700015677_from_sub...</td>\n",
       "      <td>GAZ:United States of America</td>\n",
       "    </tr>\n",
       "  </tbody>\n",
       "</table>\n",
       "<p>5 rows × 29 columns</p>\n",
       "</div>"
      ],
      "text/plain": [
       "                    BarcodeSequence LinkerPrimerSequence      TITLE  \\\n",
       "#SampleID                                                             \n",
       "SRS011182.SRX020515      TCAGAGCTTC   CCGTCAATTCMTTTRAGT  700015009   \n",
       "SRS011296.SRX020666    TCAGTTCGCGAC   CCGTCAATTCMTTTRAGT  700015301   \n",
       "SRS011296.SRX020669    TCAGTTCGCGAC   CCGTCAATTCMTTTRAGT  700015301   \n",
       "SRS011380.SRX020662     TCAGTAATCTC   CCGTCAATTCMTTTRAGT  700015677   \n",
       "SRS011380.SRX020664     TCAGTAATCTC   CCGTCAATTCMTTTRAGT  700015677   \n",
       "\n",
       "                    EXPERIMENTACCESSION   sex ANONYMIZEDNAME pfph  \\\n",
       "#SampleID                                                           \n",
       "SRS011182.SRX020515           SRX020515  male         241686    0   \n",
       "SRS011296.SRX020666           SRX020666  male         241748    0   \n",
       "SRS011296.SRX020669           SRX020669  male         241748    0   \n",
       "SRS011380.SRX020662           SRX020662  male         241767    0   \n",
       "SRS011380.SRX020664           SRX020664  male         241767    0   \n",
       "\n",
       "                     HMPbodysubsite HMPbodysupersite intph  ... AGE RUNALIAS  \\\n",
       "#SampleID                                                   ...                \n",
       "SRS011182.SRX020515  Anterior_nares          Airways     0  ...  38  no_data   \n",
       "SRS011296.SRX020666  Anterior_nares          Airways     0  ...  27  no_data   \n",
       "SRS011296.SRX020669  Anterior_nares          Airways     0  ...  27  no_data   \n",
       "SRS011380.SRX020662  Anterior_nares          Airways     0  ...  33  no_data   \n",
       "SRS011380.SRX020664  Anterior_nares          Airways     0  ...  33  no_data   \n",
       "\n",
       "                    RUNCENTER gender REGION        srs      Runid collectday  \\\n",
       "#SampleID                                                                      \n",
       "SRS011182.SRX020515     WUGSC      0    V35  SRS011182  SRR045359          0   \n",
       "SRS011296.SRX020666     WUGSC      0    V35  SRS011296  SRR044980          0   \n",
       "SRS011296.SRX020669     WUGSC      0    V35  SRS011296  SRR045351          0   \n",
       "SRS011380.SRX020662     WUGSC      0    V35  SRS011380  SRR047518          0   \n",
       "SRS011380.SRX020664     WUGSC      0    V35  SRS011380  SRR045431          0   \n",
       "\n",
       "                                                           Description  \\\n",
       "#SampleID                                                                \n",
       "SRS011182.SRX020515  HMP_Human_metagenome_sample_700015009_from_sub...   \n",
       "SRS011296.SRX020666  HMP_Human_metagenome_sample_700015301_from_sub...   \n",
       "SRS011296.SRX020669  HMP_Human_metagenome_sample_700015301_from_sub...   \n",
       "SRS011380.SRX020662  HMP_Human_metagenome_sample_700015677_from_sub...   \n",
       "SRS011380.SRX020664  HMP_Human_metagenome_sample_700015677_from_sub...   \n",
       "\n",
       "                                          COUNTRY  \n",
       "#SampleID                                          \n",
       "SRS011182.SRX020515  GAZ:United States of America  \n",
       "SRS011296.SRX020666  GAZ:United States of America  \n",
       "SRS011296.SRX020669  GAZ:United States of America  \n",
       "SRS011380.SRX020662  GAZ:United States of America  \n",
       "SRS011380.SRX020664  GAZ:United States of America  \n",
       "\n",
       "[5 rows x 29 columns]"
      ]
     },
     "execution_count": 4,
     "metadata": {},
     "output_type": "execute_result"
    }
   ],
   "source": [
    "import pandas as pd\n",
    "metadata_url = 'https://raw.githubusercontent.com/biocore/American-Gut/master/data/HMP/HMPv35_100nt.txt'\n",
    "sample_metadata = pd.read_table(metadata_url, encoding = \"ISO-8859-1\", dtype='str')\n",
    "sample_metadata = sample_metadata.set_index('#SampleID')\n",
    "sample_metadata.head()"
   ]
  },
  {
   "cell_type": "markdown",
   "metadata": {},
   "source": [
    "Now that we have all of the relevant datasets loaded, we can build an `LDVAE` model to perform dimensionality reduction. Since we a fairly small sample size, we will train a simple model with only 1 encoder layer and 8 latent dimensions."
   ]
  },
  {
   "cell_type": "code",
   "execution_count": null,
   "metadata": {},
   "outputs": [
    {
     "name": "stdout",
     "output_type": "stream",
     "text": [
      "[2020-05-26 23:23:58,045] INFO - scvi.inference.inference | KL warmup phase exceeds overall training phaseIf your applications rely on the posterior quality, consider training for more epochs or reducing the kl warmup.\n",
      "[2020-05-26 23:23:58,046] INFO - scvi.inference.inference | KL warmup for 400 epochs\n"
     ]
    },
    {
     "data": {
      "application/vnd.jupyter.widget-view+json": {
       "model_id": "de228030d3604eb49fb64026eb3fdee3",
       "version_major": 2,
       "version_minor": 0
      },
      "text/plain": [
       "HBox(children=(FloatProgress(value=0.0, description='training', max=30.0, style=ProgressStyle(description_widt…"
      ]
     },
     "metadata": {},
     "output_type": "display_data"
    }
   ],
   "source": [
    "train_size = 0.5\n",
    "n_latent = 8\n",
    "n_layers_encoder = 1\n",
    "n_hidden = 32\n",
    "n_epochs = 30\n",
    "latent_distribution = 'normal'\n",
    "reconstruction_loss = 'nb'\n",
    "learning_rate = 1e-3\n",
    "gpu = False\n",
    "\n",
    "vae = LDVAE(biom_dataset.nb_genes, biom_dataset.n_batches, biom_dataset.n_labels,\n",
    "            n_latent=n_latent,\n",
    "            n_layers_encoder=n_layers_encoder,\n",
    "            n_hidden=n_hidden,\n",
    "            reconstruction_loss=reconstruction_loss,\n",
    "            latent_distribution=latent_distribution)\n",
    "trainer = UnsupervisedTrainer(vae, biom_dataset, train_size=train_size,\n",
    "                              frequency=1, use_cuda=gpu)\n",
    "trainer.train(n_epochs=n_epochs)"
   ]
  },
  {
   "cell_type": "markdown",
   "metadata": {},
   "source": [
    "Once the model is fit, we can evaluate the elbo to see if the convergence has been reached."
   ]
  },
  {
   "cell_type": "code",
   "execution_count": null,
   "metadata": {},
   "outputs": [],
   "source": [
    "import matplotlib.pyplot as plt\n",
    "fig, ax = plt.subplots(figsize=(6, 4))\n",
    "ax.plot(trainer.history['elbo_train_set'][10:])\n",
    "ax.plot(trainer.history['elbo_test_set'][10:])"
   ]
  },
  {
   "cell_type": "markdown",
   "metadata": {},
   "source": [
    "Our model fit looks reasonable, so we can proceed to extract the learned latent dimensions from `LDVAE` and construct an embedding using UMAP."
   ]
  },
  {
   "cell_type": "code",
   "execution_count": null,
   "metadata": {},
   "outputs": [],
   "source": [
    "from umap import UMAP\n",
    "full = trainer.create_posterior(trainer.model, biom_dataset, \n",
    "                                indices=np.arange(len(biom_dataset)))\n",
    "\n",
    "res = full.sequential().get_latent()\n",
    "reducer = UMAP(n_components=2, n_neighbors=10, min_dist=0.5)\n",
    "embedding = reducer.fit_transform(res[0])"
   ]
  },
  {
   "cell_type": "markdown",
   "metadata": {},
   "source": [
    "To identify which embedding coordinates correspond to which samples, \n",
    "we will need to retrieve the sample information.  Since we only looked at the top 6000 samples\n",
    "with the largest sequencing depths, we will utilize the biom library to extract these samples."
   ]
  },
  {
   "cell_type": "code",
   "execution_count": null,
   "metadata": {},
   "outputs": [],
   "source": [
    "import os\n",
    "from biom import load_table\n",
    "\n",
    "biom_path = os.path.join(biom_dataset.save_path, \n",
    "                         biom_dataset.filenames[0])\n",
    "table = load_table(biom_path)\n",
    "table_depths = pd.Series(table.sum(axis='sample'), index=table.ids())\n",
    "sample_names = table_depths.sort_values(ascending=False)[:6000].index\n",
    "\n",
    "embed_df = pd.DataFrame(embedding, columns=['UMAP1', 'UMAP2'], index=sample_names)"
   ]
  },
  {
   "cell_type": "markdown",
   "metadata": {},
   "source": [
    "These embeddings can now be directly visualized in a 2D plot. We will overlay the body site information on top."
   ]
  },
  {
   "cell_type": "code",
   "execution_count": null,
   "metadata": {},
   "outputs": [],
   "source": [
    "import seaborn as sns\n",
    "\n",
    "# Merge sample metadata with embedding coordinates\n",
    "plot_data = pd.merge(embed_df, sample_metadata, left_index=True, right_index=True)\n",
    "\n",
    "# Plot by body site\n",
    "fig, ax = plt.subplots(figsize=(10, 6))\n",
    "sns.scatterplot(data=plot_data, x='UMAP1', y='UMAP2', \n",
    "                hue='HMPbodysupersite', s=10, ax=ax)\n",
    "ax.legend(loc='center left', bbox_to_anchor=(1, 0.5))"
   ]
  }
 ],
 "metadata": {
  "kernelspec": {
   "display_name": "Python 3",
   "language": "python",
   "name": "python3"
  },
  "language_info": {
   "codemirror_mode": {
    "name": "ipython",
    "version": 3
   },
   "file_extension": ".py",
   "mimetype": "text/x-python",
   "name": "python",
   "nbconvert_exporter": "python",
   "pygments_lexer": "ipython3",
   "version": "3.8.2"
  }
 },
 "nbformat": 4,
 "nbformat_minor": 4
}
